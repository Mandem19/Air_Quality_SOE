{
 "cells": [
  {
   "cell_type": "markdown",
   "metadata": {},
   "source": [
    "# Introduction:\n",
    "\n",
    "### Redis:\n",
    "   <a href=\"https://redis.io/\">Redis</a> Redis is an open source (BSD licensed), in-memory data structure store, used as a database, cache and message broker. It supports data structures such as strings, hashes, lists, sets, sorted sets with range queries, bitmaps, hyperloglogs, geospatial indexes with radius queries and streams.<br/>\n",
    "   \n",
    "<img src=\"https://www.zend.com/sites/zend/files/image/2019-09/logo-redis.jpg\" width =\"250\" >\n"
   ]
  },
  {
   "cell_type": "markdown",
   "metadata": {},
   "source": [
    "#### <a href='https://redislabs.com/redis-enterprise/data-structures/'>Redis Data Structures</a>\n",
    "* Redis is not a plain key-value store, it is actually a data structures server, supporting different kinds of values.\n",
    "* An introduction to Redis data types and abstractions https://redis.io/topics/data-types-intro\n",
    "* Redis keys are always strings.\n",
    "\n",
    "\n",
    "<img src='https://redislabs.com/wp-content/uploads/2020/06/key-value-data-stores-2-v2-920x612.png' >"
   ]
  },
  {
   "cell_type": "markdown",
   "metadata": {},
   "source": [
    "### How To Query Redis!\n",
    "\n",
    "- Commands for each data type for common access patterns, with bulk operations, and partial transaction support."
   ]
  },
  {
   "cell_type": "markdown",
   "metadata": {},
   "source": [
    "### PreLab\n",
    "\n",
    "#### 1. Install Redis on Windows\n",
    "- Redis is a cross-platform DB, We can install it on Linux, or Windows, ..etc.\n",
    "- There are two ways to install Redis under Windows\n",
    "    - Download the latest Redis .msi file from https://github.com/MSOpenTech/redis/r... and install it. \n",
    "    \n",
    "    - You can choose either from these sources\n",
    "        - https://github.com/microsoftarchive/redis/releases or\n",
    "        - https://github.com/rgl/redis/downloads\n",
    "\n",
    "- Personally I prepared the first option\n",
    "- Download Redis-x64-2.8.2104.zip\n",
    "- Extract the zip to prepared directory\n",
    "- run redis-server.exe\n",
    "- then run redis-cli.exe\n",
    "- For more info follow this setup-video tutourial (https://www.youtube.com/watch?v=188Fy-oCw4w)\n",
    "\n",
    "\n",
    "#### Linux and Debian \n",
    "\n",
    "- Even quicker and dirtier instructions for Debian-based Linux distributions are as follows:\n",
    "    - download Redis from http://redis.io/download \n",
    "    - extract, run make && sudo make install\n",
    "    - Then run sudo python -m easy_install redis hiredis (hiredis is an optional performance-improving C library).\n",
    "\n",
    "#### 2. Install the Python Package (\"<a href='https://pypi.org/project/redis/'>redis</a>\") to connecto to Redis \n",
    "- use th command ```pip install redis``` in your command line.\n",
    "\n",
    "\n",
    "#### (Extra) Accessing Redis from Command Line:\n",
    "- Add the Redis installation \"/home\" and \"/bin\" directories to the enviroment variables.\n",
    "- start Redis server in one command window(CMD, poweshell, ..etc)using the command ```redis-server```.\n",
    "- In anoher command window, start your Redis Client using the command ```redis-cli```\n",
    "- Now you have the Redis Client Shell connected to the default <b>db0</b> DB. "
   ]
  },
  {
   "cell_type": "code",
   "execution_count": null,
   "metadata": {},
   "outputs": [],
   "source": [
    "! pip install redis"
   ]
  },
  {
   "cell_type": "code",
   "execution_count": 97,
   "metadata": {},
   "outputs": [],
   "source": [
    "import redis\n",
    "from pprint import pprint\n",
    "import pandas as pd\n",
    "import warnings\n",
    "warnings.filterwarnings('ignore')"
   ]
  },
  {
   "cell_type": "markdown",
   "metadata": {},
   "source": [
    "##### get a connection to redis server, using the url and the port, and Db"
   ]
  },
  {
   "cell_type": "code",
   "execution_count": 2,
   "metadata": {},
   "outputs": [],
   "source": [
    "r = redis.Redis(host='localhost', port=6379, db=0)"
   ]
  },
  {
   "cell_type": "markdown",
   "metadata": {},
   "source": [
    "### First Steps in Redis"
   ]
  },
  {
   "cell_type": "markdown",
   "metadata": {},
   "source": [
    "#### Demo the string keys"
   ]
  },
  {
   "cell_type": "code",
   "execution_count": 3,
   "metadata": {},
   "outputs": [
    {
     "data": {
      "text/plain": [
       "True"
      ]
     },
     "execution_count": 3,
     "metadata": {},
     "output_type": "execute_result"
    }
   ],
   "source": [
    "from time import sleep\n",
    "r.set('language','Python')"
   ]
  },
  {
   "cell_type": "markdown",
   "metadata": {},
   "source": [
    "##### Key expiration (e.g Think about Sessions management )\n",
    "\n",
    "\n",
    "- By default keys are retained, but we can make our keys (data) vanish after a specified time.\n",
    "- This can be setup while creating the key, or for already existing keys."
   ]
  },
  {
   "cell_type": "code",
   "execution_count": 4,
   "metadata": {},
   "outputs": [
    {
     "name": "stdout",
     "output_type": "stream",
     "text": [
      "True\n",
      "10\n",
      "7\n"
     ]
    }
   ],
   "source": [
    "print(r.expire('language', 10))\n",
    "print(r.ttl('language'))\n",
    "sleep(3)\n",
    "print(r.ttl('language'))"
   ]
  },
  {
   "cell_type": "markdown",
   "metadata": {},
   "source": [
    "#### Setting multiple String Keys, values "
   ]
  },
  {
   "cell_type": "code",
   "execution_count": 5,
   "metadata": {},
   "outputs": [
    {
     "data": {
      "text/plain": [
       "True"
      ]
     },
     "execution_count": 5,
     "metadata": {},
     "output_type": "execute_result"
    }
   ],
   "source": [
    "r.mset({\"Croatia\": \"Zagreb\", \"Bahamas\": \"Nassau\"})"
   ]
  },
  {
   "cell_type": "code",
   "execution_count": 6,
   "metadata": {},
   "outputs": [
    {
     "data": {
      "text/plain": [
       "b'Zagreb'"
      ]
     },
     "execution_count": 6,
     "metadata": {},
     "output_type": "execute_result"
    }
   ],
   "source": [
    "r.get(\"Croatia\")"
   ]
  },
  {
   "cell_type": "markdown",
   "metadata": {},
   "source": [
    "#### Demo The Sets "
   ]
  },
  {
   "cell_type": "code",
   "execution_count": 7,
   "metadata": {},
   "outputs": [
    {
     "name": "stdout",
     "output_type": "stream",
     "text": [
      "{b'value4'}\n",
      "{b'value3', b'value5', b'value4', b'value7', b'value2', b'value1', b'value6'}\n",
      "4\n",
      "4\n"
     ]
    }
   ],
   "source": [
    "### demo the sets\n",
    "\n",
    "r.sadd('pythonlist',\"value1\",\"value2\",\"value3\",\"value4\")\n",
    "r.sadd('powershelllist',\"value4\",\"value5\",\"value6\",\"value7\")\n",
    "\n",
    "#Intersction\n",
    "print(r.sinter('pythonlist','powershelllist'))\n",
    "#Union\n",
    "print(r.sunion('pythonlist','powershelllist'))\n",
    "\n",
    "#Length\n",
    "print(r.scard('pythonlist'))\n",
    "#Lenght\n",
    "print(r.scard('powershelllist'))"
   ]
  },
  {
   "cell_type": "markdown",
   "metadata": {},
   "source": [
    "#### Demo The HashSets "
   ]
  },
  {
   "cell_type": "code",
   "execution_count": 8,
   "metadata": {},
   "outputs": [
    {
     "name": "stdout",
     "output_type": "stream",
     "text": [
      "{b'Name': b'Drow Ranger', b'Health': b'600', b'Mana': b'200'}\n"
     ]
    }
   ],
   "source": [
    "### demo the hashes\n",
    "\n",
    "r.hset('Hero','Name','Drow Ranger')\n",
    "r.hset('Hero','Health','600')\n",
    "r.hset('Hero','Mana','200')\n",
    "\n",
    "print(r.hgetall('Hero'))"
   ]
  },
  {
   "cell_type": "markdown",
   "metadata": {},
   "source": [
    "### Fuller Example (Hats-Shop Website Scenairo)\n",
    "\n",
    "It’s time to break out a fuller example. Let’s pretend we’ve decided to start a lucrative websit that sells hats, and hired you to build the site.\n",
    "\n",
    "* You’ll use Redis to handle some of the product catalog, inventorying, and bot traffic detection for PyHats.com.\n",
    "\n",
    "* It’s day one for the site, and we’re going to be selling three limited-edition hats. \n",
    "* Each hat gets held in a Redis hash of field-value pairs, and the hash has a key that is a prefixed random integer , such as hat:56854717. Using the hat: prefix is Redis convention for creating a sort of namespace within a Redis database:"
   ]
  },
  {
   "cell_type": "code",
   "execution_count": 216,
   "metadata": {},
   "outputs": [],
   "source": [
    "import random\n",
    "\n",
    "random.seed(444)\n",
    "hats = {f\"hat:{random.getrandbits(32)}\": i for i in (\n",
    "    {\n",
    "        \"color\": \"black\",\n",
    "        \"price\": 49.99,\n",
    "        \"style\": \"fitted\",\n",
    "        \"quantity\": 1000,\n",
    "        \"npurchased\": 0,\n",
    "    },\n",
    "    {\n",
    "        \"color\": \"maroon\",\n",
    "        \"price\": 59.99,\n",
    "        \"style\": \"hipster\",\n",
    "        \"quantity\": 500,\n",
    "        \"npurchased\": 0,\n",
    "    },\n",
    "    {\n",
    "        \"color\": \"green\",\n",
    "        \"price\": 99.99,\n",
    "        \"style\": \"baseball\",\n",
    "        \"quantity\": 200,\n",
    "        \"npurchased\": 0,\n",
    "    })\n",
    "}\n"
   ]
  },
  {
   "cell_type": "code",
   "execution_count": 217,
   "metadata": {},
   "outputs": [],
   "source": [
    "with r.pipeline() as pipe:\n",
    "    for h_id, hat in hats.items():\n",
    "        pipe.hmset(h_id, hat)\n",
    "        \n",
    "    pipe.execute()"
   ]
  },
  {
   "cell_type": "markdown",
   "metadata": {},
   "source": [
    "### Query by Hat id (GetAll fields)"
   ]
  },
  {
   "cell_type": "code",
   "execution_count": 218,
   "metadata": {},
   "outputs": [
    {
     "name": "stdout",
     "output_type": "stream",
     "text": [
      "{b'color': b'green',\n",
      " b'npurchased': b'0',\n",
      " b'price': b'99.99',\n",
      " b'quantity': b'200',\n",
      " b'style': b'baseball'}\n"
     ]
    }
   ],
   "source": [
    "pprint(r.hgetall(\"hat:56854717\"))"
   ]
  },
  {
   "cell_type": "markdown",
   "metadata": {},
   "source": [
    "### Query by Hat id (Get Specific Fields)"
   ]
  },
  {
   "cell_type": "code",
   "execution_count": 220,
   "metadata": {},
   "outputs": [
    {
     "name": "stdout",
     "output_type": "stream",
     "text": [
      "[b'green', b'baseball', b'99.99']\n"
     ]
    }
   ],
   "source": [
    "pprint(r.hmget(\"hat:56854717\",\"color\", \"style\", \"price\"))"
   ]
  },
  {
   "cell_type": "markdown",
   "metadata": {},
   "source": [
    "### Check Existence of Specific Hat"
   ]
  },
  {
   "cell_type": "code",
   "execution_count": 221,
   "metadata": {},
   "outputs": [
    {
     "data": {
      "text/plain": [
       "1"
      ]
     },
     "execution_count": 221,
     "metadata": {},
     "output_type": "execute_result"
    }
   ],
   "source": [
    "r.exists(\"hat:56854717\")"
   ]
  },
  {
   "cell_type": "code",
   "execution_count": 199,
   "metadata": {},
   "outputs": [
    {
     "data": {
      "text/plain": [
       "[b'hat:1236154736', b'hat:56854717', b'hat:1326692461']"
      ]
     },
     "execution_count": 199,
     "metadata": {},
     "output_type": "execute_result"
    }
   ],
   "source": [
    "r.keys()"
   ]
  },
  {
   "cell_type": "code",
   "execution_count": 213,
   "metadata": {},
   "outputs": [
    {
     "data": {
      "text/plain": [
       "-1"
      ]
     },
     "execution_count": 213,
     "metadata": {},
     "output_type": "execute_result"
    }
   ],
   "source": [
    "r.hincrby(\"hat:56854717\", \"quantity\", -1)"
   ]
  },
  {
   "cell_type": "code",
   "execution_count": 201,
   "metadata": {},
   "outputs": [
    {
     "data": {
      "text/plain": [
       "b'199'"
      ]
     },
     "execution_count": 201,
     "metadata": {},
     "output_type": "execute_result"
    }
   ],
   "source": [
    "r.hget(\"hat:56854717\", \"quantity\")"
   ]
  },
  {
   "cell_type": "code",
   "execution_count": 202,
   "metadata": {},
   "outputs": [
    {
     "data": {
      "text/plain": [
       "1"
      ]
     },
     "execution_count": 202,
     "metadata": {},
     "output_type": "execute_result"
    }
   ],
   "source": [
    "r.hincrby(\"hat:56854717\", \"npurchased\", 1)"
   ]
  },
  {
   "cell_type": "markdown",
   "metadata": {},
   "source": [
    "\n",
    "Note: HINCRBY still operates on a hash value that is a string, but it tries to interpret the string as a base-10 64-bit signed integer to execute the operation.\n",
    "\n",
    "This applies to other commands related to incrementing and decrementing for other data structures, namely INCR, INCRBY, INCRBYFLOAT, ZINCRBY, and HINCRBYFLOAT. You’ll get an error if the string at the value can’t be represented as an integer.\n"
   ]
  },
  {
   "cell_type": "code",
   "execution_count": 203,
   "metadata": {},
   "outputs": [
    {
     "name": "stdout",
     "output_type": "stream",
     "text": [
      "{b'color': b'maroon', b'price': b'59.99', b'style': b'hipster', b'quantity': b'500', b'npurchased': b'0'}\n",
      "{b'color': b'green', b'price': b'99.99', b'style': b'baseball', b'quantity': b'199', b'npurchased': b'1'}\n",
      "{b'color': b'black', b'price': b'49.99', b'style': b'fitted', b'quantity': b'1000', b'npurchased': b'0'}\n"
     ]
    }
   ],
   "source": [
    "for key in r.keys(\"hat*\"):\n",
    "    print(r.hgetall(key))"
   ]
  },
  {
   "cell_type": "markdown",
   "metadata": {},
   "source": [
    "#### Insert one more Item(Hash) in the \"Hats\" HashSet"
   ]
  },
  {
   "cell_type": "code",
   "execution_count": 150,
   "metadata": {},
   "outputs": [
    {
     "data": {
      "text/plain": [
       "True"
      ]
     },
     "execution_count": 150,
     "metadata": {},
     "output_type": "execute_result"
    }
   ],
   "source": [
    "r.hmset(f\"hat:{random.getrandbits(32)}\",{\n",
    "        \"color\": \"black\",\n",
    "        \"price\": 60.99,\n",
    "        \"style\": \"fedora\",\n",
    "        \"quantity\": 50,\n",
    "        \"npurchased\": 0,\n",
    "    })"
   ]
  },
  {
   "cell_type": "markdown",
   "metadata": {},
   "source": [
    "#### Check if the new item (\"Hat\") is added !"
   ]
  },
  {
   "cell_type": "code",
   "execution_count": 151,
   "metadata": {},
   "outputs": [
    {
     "name": "stdout",
     "output_type": "stream",
     "text": [
      "{b'color': b'black', b'price': b'60.99', b'style': b'fedora', b'quantity': b'50', b'npurchased': b'0'}\n",
      "{b'color': b'maroon', b'price': b'59.99', b'style': b'hipster', b'quantity': b'500', b'npurchased': b'0'}\n",
      "{b'color': b'green', b'price': b'99.99', b'style': b'baseball', b'quantity': b'199', b'npurchased': b'1'}\n",
      "{b'color': b'black', b'price': b'49.99', b'style': b'fitted', b'quantity': b'1000', b'npurchased': b'0'}\n"
     ]
    }
   ],
   "source": [
    "for key in r.keys(\"hat*\"):\n",
    "    print(r.hgetall(key))"
   ]
  },
  {
   "cell_type": "code",
   "execution_count": 152,
   "metadata": {},
   "outputs": [
    {
     "data": {
      "text/plain": [
       "b'99.99'"
      ]
     },
     "execution_count": 152,
     "metadata": {},
     "output_type": "execute_result"
    }
   ],
   "source": [
    "r.hget(\"hat:56854717\",\"price\")"
   ]
  },
  {
   "cell_type": "markdown",
   "metadata": {},
   "source": [
    "###  Count Of Hats "
   ]
  },
  {
   "cell_type": "code",
   "execution_count": 204,
   "metadata": {},
   "outputs": [
    {
     "data": {
      "text/plain": [
       "3"
      ]
     },
     "execution_count": 204,
     "metadata": {},
     "output_type": "execute_result"
    }
   ],
   "source": [
    "len(r.keys(\"hat*\"))"
   ]
  },
  {
   "cell_type": "markdown",
   "metadata": {},
   "source": [
    "###  Filtering >> FilterOut Hats with prices less than 60"
   ]
  },
  {
   "cell_type": "code",
   "execution_count": 154,
   "metadata": {},
   "outputs": [
    {
     "name": "stdout",
     "output_type": "stream",
     "text": [
      "{b'color': b'black', b'price': b'60.99', b'style': b'fedora', b'quantity': b'50', b'npurchased': b'0'}\n",
      "{b'color': b'green', b'price': b'99.99', b'style': b'baseball', b'quantity': b'199', b'npurchased': b'1'}\n"
     ]
    }
   ],
   "source": [
    "for key in r.keys(\"hat*\"):\n",
    "    price = float(r.hvals(key)[1])\n",
    "    #print(price)\n",
    "    print(r.hgetall(key)) if (price > 60) else None"
   ]
  },
  {
   "cell_type": "markdown",
   "metadata": {},
   "source": [
    "#### Transactions and Keeping Atomicity in Redis\n",
    "\n",
    "Redis allows the execution of a group of commands in a single step, with two important guarantees:\n",
    "* All the commands in a transaction are serialized and executed sequentially. It can never happen that a request issued by another client is served in the middle of the execution of a Redis transaction. This guarantees that the commands are executed as a single isolated operation.\n",
    "\n",
    "* Either all of the commands or none are processed, so a Redis transaction is also atomic.\n",
    "\n",
    "In redis-py, Pipeline is a transactional pipeline class by default. This means that, even though the class is actually named for something else (pipelining), it can be used to create a transaction block also.\n",
    "\n",
    "In Redis, a transaction starts with <b> MULTI </b> and ends with <b>EXEC<b>:\n",
    "    * Everything in between is executed as one all-or-nothing buffered sequence of commands.\n",
    "    * Methods that you call on pipe effectively buffer all of the commands into one, and then send them to the server in a single request\n",
    "    \n",
    " "
   ]
  },
  {
   "cell_type": "code",
   "execution_count": 206,
   "metadata": {},
   "outputs": [],
   "source": [
    "def buyitem(r: redis.Redis, itemid: int) -> None:\n",
    "    with r.pipeline() as pipe:\n",
    "        error_count = 0\n",
    "        while True:\n",
    "            try:\n",
    "                # Get available inventory, watching for changes\n",
    "                # related to this itemid before the transaction\n",
    "                pipe.watch(itemid)\n",
    "\n",
    "                nleft: bytes = r.hget(itemid, \"quantity\")\n",
    "                if nleft > b\"0\":\n",
    "                    pipe.multi()\n",
    "                    pipe.hincrby(itemid, \"quantity\", -1)\n",
    "                    pipe.hincrby(itemid, \"npurchased\", 1)\n",
    "                    pipe.execute()\n",
    "                    break\n",
    "                else:\n",
    "                    # Stop watching the itemid and raise to break out\n",
    "                    pipe.unwatch()\n",
    "                    raise OutOfStockError(f\"Sorry, {itemid} is out of stock!\")\n",
    "            \n",
    "            except redis.WatchError:\n",
    "                # Log total num. of errors by this user to buy this item,\n",
    "                # then try the same process again of WATCH/HGET/MULTI/EXEC\n",
    "\n",
    "                error_count += 1\n",
    "\n",
    "                logging.warning(\"WatchError #%d: %s; retrying\",error_count, itemid)\n",
    "\n",
    "            return None"
   ]
  },
  {
   "cell_type": "code",
   "execution_count": 207,
   "metadata": {},
   "outputs": [],
   "source": [
    "buyitem(r, \"hat:56854717\")\n",
    "buyitem(r, \"hat:56854717\")\n",
    "buyitem(r, \"hat:56854717\")"
   ]
  },
  {
   "cell_type": "code",
   "execution_count": 211,
   "metadata": {},
   "outputs": [
    {
     "data": {
      "text/plain": [
       "[b'0', b'200']"
      ]
     },
     "execution_count": 211,
     "metadata": {},
     "output_type": "execute_result"
    }
   ],
   "source": [
    "r.hmget(\"hat:56854717\", \"quantity\", \"npurchased\")"
   ]
  },
  {
   "cell_type": "markdown",
   "metadata": {},
   "source": [
    "Now, when some poor user is late to the game, they should be met with an <b>\"OutOfStockError\"</b> that tells our application to render an error message page on the frontend"
   ]
  },
  {
   "cell_type": "code",
   "execution_count": 212,
   "metadata": {},
   "outputs": [
    {
     "ename": "NameError",
     "evalue": "name 'OutOfStockError' is not defined",
     "output_type": "error",
     "traceback": [
      "\u001b[1;31m---------------------------------------------------------------------------\u001b[0m",
      "\u001b[1;31mNameError\u001b[0m                                 Traceback (most recent call last)",
      "\u001b[1;32m<ipython-input-212-073541661c8a>\u001b[0m in \u001b[0;36m<module>\u001b[1;34m\u001b[0m\n\u001b[1;32m----> 1\u001b[1;33m \u001b[0mbuyitem\u001b[0m\u001b[1;33m(\u001b[0m\u001b[0mr\u001b[0m\u001b[1;33m,\u001b[0m \u001b[1;34m\"hat:56854717\"\u001b[0m\u001b[1;33m)\u001b[0m\u001b[1;33m\u001b[0m\u001b[1;33m\u001b[0m\u001b[0m\n\u001b[0m",
      "\u001b[1;32m<ipython-input-206-2886c6591c8d>\u001b[0m in \u001b[0;36mbuyitem\u001b[1;34m(r, itemid)\u001b[0m\n\u001b[0;32m     18\u001b[0m                     \u001b[1;31m# Stop watching the itemid and raise to break out\u001b[0m\u001b[1;33m\u001b[0m\u001b[1;33m\u001b[0m\u001b[1;33m\u001b[0m\u001b[0m\n\u001b[0;32m     19\u001b[0m                     \u001b[0mpipe\u001b[0m\u001b[1;33m.\u001b[0m\u001b[0munwatch\u001b[0m\u001b[1;33m(\u001b[0m\u001b[1;33m)\u001b[0m\u001b[1;33m\u001b[0m\u001b[1;33m\u001b[0m\u001b[0m\n\u001b[1;32m---> 20\u001b[1;33m                     \u001b[1;32mraise\u001b[0m \u001b[0mOutOfStockError\u001b[0m\u001b[1;33m(\u001b[0m\u001b[1;34mf\"Sorry, {itemid} is out of stock!\"\u001b[0m\u001b[1;33m)\u001b[0m\u001b[1;33m\u001b[0m\u001b[1;33m\u001b[0m\u001b[0m\n\u001b[0m\u001b[0;32m     21\u001b[0m \u001b[1;33m\u001b[0m\u001b[0m\n\u001b[0;32m     22\u001b[0m             \u001b[1;32mexcept\u001b[0m \u001b[0mredis\u001b[0m\u001b[1;33m.\u001b[0m\u001b[0mWatchError\u001b[0m\u001b[1;33m:\u001b[0m\u001b[1;33m\u001b[0m\u001b[1;33m\u001b[0m\u001b[0m\n",
      "\u001b[1;31mNameError\u001b[0m: name 'OutOfStockError' is not defined"
     ]
    }
   ],
   "source": [
    "buyitem(r, \"hat:56854717\")"
   ]
  },
  {
   "cell_type": "code",
   "execution_count": 210,
   "metadata": {},
   "outputs": [
    {
     "data": {
      "text/plain": [
       "[b'0', b'200']"
      ]
     },
     "execution_count": 210,
     "metadata": {},
     "output_type": "execute_result"
    }
   ],
   "source": [
    "# Buy remaining 196 hats for item 56854717 and deplete stock to 0\n",
    "for _ in range(196):\n",
    "    buyitem(r, \"hat:56854717\")\n",
    "\n",
    "r.hmget(\"hat:56854717\", \"quantity\", \"npurchased\")"
   ]
  },
  {
   "cell_type": "markdown",
   "metadata": {},
   "source": [
    "### Delete elements (Delete hats with 'black' color)"
   ]
  },
  {
   "cell_type": "code",
   "execution_count": 155,
   "metadata": {},
   "outputs": [],
   "source": [
    "for key in r.keys(\"hat*\"):\n",
    "    color = r.hvals(key)[0]\n",
    "    for field in r.hkeys(key):\n",
    "        r.hdel(key,field) if (color == b'black') else None"
   ]
  },
  {
   "cell_type": "code",
   "execution_count": 156,
   "metadata": {},
   "outputs": [
    {
     "name": "stdout",
     "output_type": "stream",
     "text": [
      "{b'color': b'maroon', b'price': b'59.99', b'style': b'hipster', b'quantity': b'500', b'npurchased': b'0'}\n",
      "{b'color': b'green', b'price': b'99.99', b'style': b'baseball', b'quantity': b'199', b'npurchased': b'1'}\n"
     ]
    }
   ],
   "source": [
    "for key in r.keys(\"hat*\"):\n",
    "    print(r.hgetall(key))"
   ]
  },
  {
   "cell_type": "markdown",
   "metadata": {},
   "source": [
    "### Delete elements (Delete hats with quantity less than 500)"
   ]
  },
  {
   "cell_type": "code",
   "execution_count": 158,
   "metadata": {},
   "outputs": [],
   "source": [
    "for key in r.keys(\"hat*\"):\n",
    "    qty= int( r.hvals(key)[3] )\n",
    "    r.delete(key) if (qty <500) else None"
   ]
  },
  {
   "cell_type": "code",
   "execution_count": 161,
   "metadata": {},
   "outputs": [
    {
     "name": "stdout",
     "output_type": "stream",
     "text": [
      "{b'color': b'maroon', b'price': b'59.99', b'style': b'hipster', b'quantity': b'500', b'npurchased': b'0'}\n"
     ]
    }
   ],
   "source": [
    "for key in r.keys(\"hat*\"):\n",
    "    print(r.hgetall(key))"
   ]
  },
  {
   "cell_type": "code",
   "execution_count": 163,
   "metadata": {},
   "outputs": [
    {
     "data": {
      "text/plain": [
       "True"
      ]
     },
     "execution_count": 163,
     "metadata": {},
     "output_type": "execute_result"
    }
   ],
   "source": [
    "updatedValue=     {\n",
    "        \"color\": \"brown\",\n",
    "        \"price\": 75.90,\n",
    "        \"style\": \"hipster\",\n",
    "        \"quantity\": 500,\n",
    "        \"npurchased\": 0,\n",
    "        \"updated\":1\n",
    "    }\n",
    "r.hmset('hat:1236154736', updatedValue)"
   ]
  },
  {
   "cell_type": "code",
   "execution_count": 164,
   "metadata": {},
   "outputs": [
    {
     "name": "stdout",
     "output_type": "stream",
     "text": [
      "{b'color': b'brown', b'price': b'75.9', b'style': b'hipster', b'quantity': b'500', b'npurchased': b'0', b'updated': b'1'}\n"
     ]
    }
   ],
   "source": [
    "for key in r.keys(\"hat*\"):\n",
    "    print(r.hgetall(key))"
   ]
  },
  {
   "cell_type": "code",
   "execution_count": 271,
   "metadata": {},
   "outputs": [
    {
     "data": {
      "text/plain": [
       "[b'test-result']"
      ]
     },
     "execution_count": 271,
     "metadata": {},
     "output_type": "execute_result"
    }
   ],
   "source": [
    "r.keys()"
   ]
  },
  {
   "cell_type": "markdown",
   "metadata": {},
   "source": [
    "#### PUB/SUB in REDIS\n",
    "\n",
    "- <b>\"Pub/Sub\"</b> aka Publish-Subscribe pattern is a pattern in which there are three main components, **sender**, **receiver** & a **broker**. \n",
    "- The communication is processed by the broker, it helps the sender or publisher to publish information and deliver that information to the receiver or subscriber.\n"
   ]
  },
  {
   "cell_type": "markdown",
   "metadata": {},
   "source": [
    "#### Example of Consumer\n",
    "- The following Consumer subscribes to 'Two' Channels:\n",
    "    - (Tartu), \n",
    "    - and to any channle taht starts with the pattern 'DataEng_Students:'\n",
    "- If the Consumer publishes something related to these channels, this will be listened and sent to this consumer."
   ]
  },
  {
   "cell_type": "code",
   "execution_count": 282,
   "metadata": {},
   "outputs": [
    {
     "name": "stdout",
     "output_type": "stream",
     "text": [
      "b'TartuUniv' : 1\n",
      "b'DE_Students:*' : 2\n",
      "b'DE_Students:1415' : b'John Doe'\n",
      "b'DE_Students:jane' : b'Jane Kidman'\n",
      "b'TartuUniv'b'TartuUniv' : b'KILL'\n",
      " : b'KILL'\n",
      "b'DE_Students:*' : b'KILL'\n"
     ]
    }
   ],
   "source": [
    "# inspired by: https://gist.github.com/jobliz/2596594\n",
    "\n",
    "import redis\n",
    "import threading\n",
    "\n",
    "class Listener(threading.Thread):\n",
    "    def __init__(self, r):\n",
    "        threading.Thread.__init__(self)\n",
    "        self.redis = r\n",
    "        self.pubsub = self.redis.pubsub()\n",
    "        \n",
    "        \n",
    "        self.pubsub.subscribe(['TartuUniv'])\n",
    "        self.pubsub.psubscribe(['DE_Students:*'])\n",
    "\n",
    "    def work(self, item):\n",
    "        print (item['channel'], \":\", item['data'])\n",
    "\n",
    "    def run(self):\n",
    "        for item in self.pubsub.listen():\n",
    "            if item['data'] == \"KILL\":\n",
    "                self.pubsub.unsubscribe()\n",
    "                print (self, \"unsubscribed and finished\")\n",
    "                break\n",
    "            else:\n",
    "                self.work(item)\n",
    "\n",
    "if __name__ == '__main__':\n",
    "    r = redis.Redis('127.0.0.1')\n",
    "    client = Listener(r)\n",
    "    client.start()"
   ]
  },
  {
   "cell_type": "markdown",
   "metadata": {},
   "source": [
    "#### Start Publishing Some data/messages to diiferent Channels\n",
    "- In a new command window, Run the following commands:\n",
    "    - (# opens a repl, all subsequent commands should show something in the first terminal)\n",
    "```\n",
    "redis-cli \n",
    "> publish TartuUniv \"new_course_created DataEngineering\" \n",
    "> publish TartuUniv \"new_job_posted Senior_Researcher\"\n",
    "> publish DE_Students:1415 \"John Doe\"\n",
    "> publish DE_Students:jane \"Jane Kidman\"\n",
    "> publish Tallin \"nobody listens\"\n",
    "> publish TartuUniv KILL # terminate (listener.py)\n",
    "```\n"
   ]
  },
  {
   "cell_type": "markdown",
   "metadata": {},
   "source": [
    "##### Wrtie what you could notice:"
   ]
  },
  {
   "cell_type": "code",
   "execution_count": 278,
   "metadata": {},
   "outputs": [],
   "source": [
    "#YOur Answer Here!!"
   ]
  },
  {
   "cell_type": "markdown",
   "metadata": {},
   "source": [
    "##### Another Example of Redis Pub/SUB \n",
    "\n",
    "Let me explain it with an example. Let’s assume, Joe is the owner of a Music Shop where he sells music of different Genres. Alice is a Musician who publishes/sells her music at Joe’s Shop. And, Bob is Joe’s Customer who buys music from Joe. Joe keeps a list of his customers and their interests, hence he knows Bob likes Classical Music. Whenever Alice composes a Classical Music album in Joe’s shop, Joe delivers it to Bob. The interesting part is Bob doesn’t necessarily have to know who created the Music and Alice also doesn’t have to know who listens to her music. "
   ]
  },
  {
   "cell_type": "code",
   "execution_count": null,
   "metadata": {},
   "outputs": [],
   "source": [
    "import redis\n",
    "\n",
    "channel='classic'\n",
    "\n",
    "client =redis.Redis(host='127.0.0.1', port=6379)\n",
    "\n",
    "p= client.pubsub()\n",
    "p.subscribe(channel)\n",
    "\n",
    "while True:\n",
    "    message=p.get_message()\n",
    "    if message and not message['data']==1:\n",
    "        #You can do any kind of computations on the coming/readed messages !!\n",
    "        message=message['data'].decode('utf-8')\n",
    "        song,singer=message.split(':')\n",
    "        #here we just split the message and read it as song,and singer, but you can do any computations\n",
    "        print(\"SONG: \", song)\n",
    "        print(\"SINGER: \", singer)"
   ]
  },
  {
   "cell_type": "markdown",
   "metadata": {},
   "source": [
    "### Excercise : \n",
    "#### Create a simple Redis DB out of this relational model\n",
    "\n",
    "- <b>Note:</b> \n",
    "- Redis Store is not invented for keeping relational data and posing structured queries, but for fast accesible data. \n",
    "- But just for keeping consistency with the our running example of how to represent the relational model in different NoSQL backends, we will try this out.\n",
    "\n",
    "\n",
    "<b>Hints</b>:\n",
    "* It’s quite straightforward to map your table to Redis data structures.\n",
    "* Hash, Sorted Set and Set are the most useful data structures in this effort.\n",
    "* This means that relationships are typically represented by sets.\n",
    "* A set can be used to represent a one-way relationship, so you need one set per object to represent a many-to-many relationship."
   ]
  },
  {
   "cell_type": "markdown",
   "metadata": {},
   "source": [
    "#### The DataBase Model: \n",
    "\n",
    "\n",
    "This is  a toy DB about movies and actors who played roles in these movies. This DB is consisted of  \n",
    "\n",
    "- A \"Person\" table who has a unique id, and a name fields.\n",
    "\n",
    "- Another \"Movie\" table that has a unique id, a title, a country where it was made, and a year when it was released.\n",
    "\n",
    "- There is (m-n) or \"many-many\" relationship between these two tables (i.e basically, many actors can act in many movies, and the movie include many actors)\n",
    "- Therefore, we use the \"Roles\" table in which we can deduct which person has acted in which movie, and what role(s) they played.\n",
    "\n",
    "<img src=\"RDBSchema.png\" alt=\"3\" border=\"0\">"
   ]
  },
  {
   "cell_type": "markdown",
   "metadata": {},
   "source": [
    "* Notice That we will change the DB to \"db(1)\"\n",
    "\n",
    "    - By default there are <b>16</b> databases (indexed from 0 to 15), and you can navigate between them using <b>select</b> command.\n",
    "    - Number of databases can be changed in the <b>redis config</b> file with databases setting.\n",
    "\n",
    "    - By default, it selects the <b> database 0 </b>. \n",
    "    - To select a specified one, use <b> \"redis-cli -n 2 \" </b>  or use <b>   (\"SELECT 2\") </b> if you are already in the command line with one DB and wants to switch to DB 2 . "
   ]
  },
  {
   "cell_type": "markdown",
   "metadata": {},
   "source": [
    "### CREATE && INSERT in REDIS\n",
    "\n",
    "#### 1. Creating a HashSet for the movies"
   ]
  },
  {
   "cell_type": "code",
   "execution_count": 98,
   "metadata": {},
   "outputs": [],
   "source": [
    "redis1= redis.Redis(host=\"127.0.0.1\",port=6379, db=1)"
   ]
  },
  {
   "cell_type": "code",
   "execution_count": 99,
   "metadata": {},
   "outputs": [],
   "source": [
    "#Function that insert multiple hashes of (key and value)into a Hashet\n",
    "def setHash(mkey,mval):\n",
    "    redis1.hmset(mkey,mval)"
   ]
  },
  {
   "cell_type": "markdown",
   "metadata": {},
   "source": [
    "##### Movies"
   ]
  },
  {
   "cell_type": "code",
   "execution_count": 79,
   "metadata": {},
   "outputs": [],
   "source": [
    "# id,title,country,year\n",
    "# 1,Wall Street,USA,1987\n",
    "# 2,The American President,USA,1995\n",
    "# 3,The Shawshank Redemption,USA,1994\n",
    "\n",
    "moviesLst=[\n",
    "    \n",
    "    ( \"movie:1\",{ 'title': 'Wall Street' , 'country':'USA', 'year':'1987' } ),\n",
    "    ( \"movie:2\",{ 'title': 'The American President' , 'country':'USA', 'year':'1995' } ),\n",
    "    ( \"movie:3\",{ 'title': 'Shawshank Redemption' , 'country':'USA', 'year':'1994' } )\n",
    "]\n",
    "\n",
    "for (key,val) in moviesLst:\n",
    "    setHash(key,val)"
   ]
  },
  {
   "cell_type": "markdown",
   "metadata": {},
   "source": [
    "#### Persons"
   ]
  },
  {
   "cell_type": "code",
   "execution_count": 80,
   "metadata": {},
   "outputs": [],
   "source": [
    "# id,name\n",
    "# 1,Charlie Sheen\n",
    "# 2,Michael Douglas\n",
    "# 3,Martin Sheen\n",
    "# 4,Morgan Freeman\n",
    "\n",
    "personsLst=[\n",
    "    \n",
    "    ( \"person:1\",{ 'name': 'Charlie Sheen' } ),\n",
    "    ( \"person:2\",{ 'name': 'Michael Douglas' } ),\n",
    "    ( \"person:3\",{ 'name': 'Martin Sheen' } ),\n",
    "    ( \"person:4\",{ 'name': 'Morgan Freeman' } )\n",
    "]\n",
    "\n",
    "for (key,val) in personsLst:\n",
    "    setHash(key,val)"
   ]
  },
  {
   "cell_type": "markdown",
   "metadata": {},
   "source": [
    "#### Maintianig  the relationships in Redis"
   ]
  },
  {
   "cell_type": "code",
   "execution_count": 81,
   "metadata": {},
   "outputs": [],
   "source": [
    "# function that  create a set of a given values\n",
    "\n",
    "def addSet(mkey,mvals):\n",
    "    redis1.sadd(mkey,*mvals)"
   ]
  },
  {
   "cell_type": "code",
   "execution_count": 82,
   "metadata": {},
   "outputs": [],
   "source": [
    "# Let's establish the many-to-many relationship 'roles'\n",
    "\n",
    "# For each movie, we keep a set of reference on the persons\n",
    "movie_persons_list=[(\"movie:1:actors\", [\"person:1\", \"person:2\", \"person:3\"] ),\n",
    "                    (\"movie:2:actors\", [\"person:2\", \"person:3\" ]) ,\n",
    "                    (\"movie:3:actors\", [\"person:4\" ])\n",
    "                   ]\n",
    "             \n",
    "for (mkey,mvals) in movie_persons_list:\n",
    "    addSet(mkey,mvals)\n",
    "    \n",
    "    \n",
    "    \n",
    "# For each (person), we keep a set of reference on the (Movies)\n",
    "\n",
    "person_movies_list = [(\"person:1:movies\", [\"movie:1\"] ),\n",
    "                      (\"person:2:movies\", [\"movie:1\", \"movie:2\"] ),\n",
    "                      (\"person:3:movies\", [\"movie:1\", \"movie:2\"] ),\n",
    "                      (\"person:4:movies\", [\"movie:3\"] ),\n",
    "                     ]\n",
    "\n",
    "for (mkey,mvals) in person_movies_list:\n",
    "    addSet(mkey,mvals)\n",
    "\n",
    "\n",
    "# For each (person), We keep a set of reference on the (Movies)    \n",
    "\n",
    "person_movies_roles =[(\"person:1:movie:1:roles\", [\"Bud Fox\"]),\n",
    "                      (\"person:2:movie:1:roles\", [\"Gordon Gekko\"]),\n",
    "                      (\"person:2:movie:2:roles\", [\"President Andrew Shepherd\"]),\n",
    "                      (\"person:3:movie:1:roles\", [\"Carl Fox\"]),\n",
    "                      (\"person:3:movie:2:roles\", [\"A.J. MacInerney\"]),\n",
    "                      (\"person:4:movie:3:roles\", [\"Ellis Boyd 'Red' Redding\"])\n",
    "]\n",
    "\n",
    "\n",
    "for (mkey,mvals) in person_movies_roles:\n",
    "    addSet(mkey,mvals)\n"
   ]
  },
  {
   "cell_type": "markdown",
   "metadata": {},
   "source": []
  },
  {
   "cell_type": "markdown",
   "metadata": {},
   "source": [
    "### Querying our Data\n",
    "\n",
    "#### <font color= 'red'>Important to remeber:</font>\n",
    "- The only way to query Redis is using the \"Keys\", so we mainly depend on the programming cabailities of python, and the datascience cabailities of Pandas to make the data science part :)\n",
    "- One of the Cons of Redis is that youy can't query on values!!\n"
   ]
  },
  {
   "cell_type": "markdown",
   "metadata": {},
   "source": [
    "#### Get Persons in your Redis DB"
   ]
  },
  {
   "cell_type": "code",
   "execution_count": 100,
   "metadata": {},
   "outputs": [
    {
     "name": "stdout",
     "output_type": "stream",
     "text": [
      "{b'name': b'Martin Sheen'}\n",
      "{b'name': b'Charlie Sheen'}\n",
      "{b'name': b'Michael Douglas'}\n",
      "{b'name': b'Morgan Freeman'}\n"
     ]
    }
   ],
   "source": [
    "for person in redis1.keys(\"person:?\"):\n",
    "    print(redis1.hgetall(person))"
   ]
  },
  {
   "cell_type": "markdown",
   "metadata": {},
   "source": [
    "#### We can use pandas for showing the results in a better way !"
   ]
  },
  {
   "cell_type": "code",
   "execution_count": 127,
   "metadata": {},
   "outputs": [
    {
     "data": {
      "text/html": [
       "<div>\n",
       "<style scoped>\n",
       "    .dataframe tbody tr th:only-of-type {\n",
       "        vertical-align: middle;\n",
       "    }\n",
       "\n",
       "    .dataframe tbody tr th {\n",
       "        vertical-align: top;\n",
       "    }\n",
       "\n",
       "    .dataframe thead th {\n",
       "        text-align: right;\n",
       "    }\n",
       "</style>\n",
       "<table border=\"1\" class=\"dataframe\">\n",
       "  <thead>\n",
       "    <tr style=\"text-align: right;\">\n",
       "      <th></th>\n",
       "      <th>name</th>\n",
       "    </tr>\n",
       "  </thead>\n",
       "  <tbody>\n",
       "    <tr>\n",
       "      <th>0</th>\n",
       "      <td>Martin Sheen</td>\n",
       "    </tr>\n",
       "    <tr>\n",
       "      <th>1</th>\n",
       "      <td>Charlie Sheen</td>\n",
       "    </tr>\n",
       "    <tr>\n",
       "      <th>2</th>\n",
       "      <td>Michael Douglas</td>\n",
       "    </tr>\n",
       "    <tr>\n",
       "      <th>3</th>\n",
       "      <td>Morgan Freeman</td>\n",
       "    </tr>\n",
       "  </tbody>\n",
       "</table>\n",
       "</div>"
      ],
      "text/plain": [
       "              name\n",
       "0     Martin Sheen\n",
       "1    Charlie Sheen\n",
       "2  Michael Douglas\n",
       "3   Morgan Freeman"
      ]
     },
     "metadata": {},
     "output_type": "display_data"
    }
   ],
   "source": [
    "data=[]\n",
    "for key in redis1.keys(\"person:?\"):\n",
    "    name = redis1.hvals(key)[0].decode()\n",
    "    data. append({'name': name})\n",
    "\n",
    "\n",
    "df=pd.DataFrame(data)\n",
    "      \n",
    "display(df)"
   ]
  },
  {
   "cell_type": "markdown",
   "metadata": {},
   "source": [
    "#### get persons with names start with 'C' letter"
   ]
  },
  {
   "cell_type": "code",
   "execution_count": 132,
   "metadata": {},
   "outputs": [
    {
     "name": "stdout",
     "output_type": "stream",
     "text": [
      "{b'name': b'Charlie Sheen'}\n"
     ]
    }
   ],
   "source": [
    "data=[]\n",
    "for key in redis1.keys(\"person:?\"):\n",
    "    name = redis1.hvals(key)[0].decode()\n",
    "    print(redis1.hgetall(key)) if (name.startswith('C')) else None"
   ]
  },
  {
   "cell_type": "code",
   "execution_count": 133,
   "metadata": {},
   "outputs": [
    {
     "data": {
      "text/html": [
       "<div>\n",
       "<style scoped>\n",
       "    .dataframe tbody tr th:only-of-type {\n",
       "        vertical-align: middle;\n",
       "    }\n",
       "\n",
       "    .dataframe tbody tr th {\n",
       "        vertical-align: top;\n",
       "    }\n",
       "\n",
       "    .dataframe thead th {\n",
       "        text-align: right;\n",
       "    }\n",
       "</style>\n",
       "<table border=\"1\" class=\"dataframe\">\n",
       "  <thead>\n",
       "    <tr style=\"text-align: right;\">\n",
       "      <th></th>\n",
       "      <th>name</th>\n",
       "    </tr>\n",
       "  </thead>\n",
       "  <tbody>\n",
       "    <tr>\n",
       "      <th>0</th>\n",
       "      <td>Charlie Sheen</td>\n",
       "    </tr>\n",
       "  </tbody>\n",
       "</table>\n",
       "</div>"
      ],
      "text/plain": [
       "            name\n",
       "0  Charlie Sheen"
      ]
     },
     "metadata": {},
     "output_type": "display_data"
    }
   ],
   "source": [
    "# Again, if tou want to use Pandas to show it in abetter way\n",
    "data=[]\n",
    "for key in redis1.keys(\"person:?\"):\n",
    "    name = redis1.hvals(key)[0].decode()\n",
    "    data. append({'name': name}) if (name.startswith('C')) else None\n",
    "    #print(redis1.hgetall(key)) if (name.startswith('C')) else None\n",
    "df=pd.DataFrame(data)\n",
    "\n",
    "display(df)"
   ]
  },
  {
   "cell_type": "markdown",
   "metadata": {},
   "source": [
    "### Sorting the Results\n",
    "#### Get All Movies , sorted from recent to old"
   ]
  },
  {
   "cell_type": "code",
   "execution_count": 141,
   "metadata": {},
   "outputs": [
    {
     "data": {
      "text/html": [
       "<div>\n",
       "<style scoped>\n",
       "    .dataframe tbody tr th:only-of-type {\n",
       "        vertical-align: middle;\n",
       "    }\n",
       "\n",
       "    .dataframe tbody tr th {\n",
       "        vertical-align: top;\n",
       "    }\n",
       "\n",
       "    .dataframe thead th {\n",
       "        text-align: right;\n",
       "    }\n",
       "</style>\n",
       "<table border=\"1\" class=\"dataframe\">\n",
       "  <thead>\n",
       "    <tr style=\"text-align: right;\">\n",
       "      <th></th>\n",
       "      <th>title</th>\n",
       "      <th>year</th>\n",
       "    </tr>\n",
       "  </thead>\n",
       "  <tbody>\n",
       "    <tr>\n",
       "      <th>2</th>\n",
       "      <td>Wall Street</td>\n",
       "      <td>2000</td>\n",
       "    </tr>\n",
       "    <tr>\n",
       "      <th>1</th>\n",
       "      <td>The American President</td>\n",
       "      <td>1995</td>\n",
       "    </tr>\n",
       "    <tr>\n",
       "      <th>0</th>\n",
       "      <td>Shawshank Redemption</td>\n",
       "      <td>1994</td>\n",
       "    </tr>\n",
       "  </tbody>\n",
       "</table>\n",
       "</div>"
      ],
      "text/plain": [
       "                    title  year\n",
       "2             Wall Street  2000\n",
       "1  The American President  1995\n",
       "0    Shawshank Redemption  1994"
      ]
     },
     "metadata": {},
     "output_type": "display_data"
    }
   ],
   "source": [
    "movieData=[]\n",
    "for key in redis1.keys(\"movie:?\"):\n",
    "    title = str(redis1.hvals(key)[0].decode())\n",
    "    #country = str(redis1.hvals(key)[1].decode())\n",
    "    year = int(redis1.hvals(key)[2])\n",
    "    movieData.append({'title': title, \n",
    "                      'year':year })\n",
    "\n",
    "#use sort_values for sorting the dataframe \n",
    "df=pd.DataFrame(movieData).sort_values(by=['year'],ascending=False)\n",
    "\n",
    "display(df)"
   ]
  },
  {
   "cell_type": "markdown",
   "metadata": {},
   "source": [
    "### Filtering the Results\n",
    "#### Get All Movies released in the 90s (after year (1990) and before 2000)"
   ]
  },
  {
   "cell_type": "code",
   "execution_count": 85,
   "metadata": {},
   "outputs": [
    {
     "name": "stdout",
     "output_type": "stream",
     "text": [
      "{b'title': b'Shawshank Redemption', b'country': b'USA', b'year': b'1994'}\n",
      "{b'title': b'The American President', b'country': b'USA', b'year': b'1995'}\n"
     ]
    }
   ],
   "source": [
    "for key in redis1.keys(\"movie:?\"):\n",
    "    year = int(redis1.hvals(key)[2])\n",
    "    print(redis1.hgetall(key)) if (year>1990 and year <2000) else None"
   ]
  },
  {
   "cell_type": "code",
   "execution_count": 144,
   "metadata": {},
   "outputs": [
    {
     "data": {
      "text/html": [
       "<div>\n",
       "<style scoped>\n",
       "    .dataframe tbody tr th:only-of-type {\n",
       "        vertical-align: middle;\n",
       "    }\n",
       "\n",
       "    .dataframe tbody tr th {\n",
       "        vertical-align: top;\n",
       "    }\n",
       "\n",
       "    .dataframe thead th {\n",
       "        text-align: right;\n",
       "    }\n",
       "</style>\n",
       "<table border=\"1\" class=\"dataframe\">\n",
       "  <thead>\n",
       "    <tr style=\"text-align: right;\">\n",
       "      <th></th>\n",
       "      <th>title</th>\n",
       "      <th>year</th>\n",
       "    </tr>\n",
       "  </thead>\n",
       "  <tbody>\n",
       "    <tr>\n",
       "      <th>0</th>\n",
       "      <td>Shawshank Redemption</td>\n",
       "      <td>1994</td>\n",
       "    </tr>\n",
       "    <tr>\n",
       "      <th>1</th>\n",
       "      <td>The American President</td>\n",
       "      <td>1995</td>\n",
       "    </tr>\n",
       "  </tbody>\n",
       "</table>\n",
       "</div>"
      ],
      "text/plain": [
       "                    title  year\n",
       "0    Shawshank Redemption  1994\n",
       "1  The American President  1995"
      ]
     },
     "metadata": {},
     "output_type": "display_data"
    }
   ],
   "source": [
    "#### using pandas DFs\n",
    "\n",
    "movieData=[]\n",
    "for key in redis1.keys(\"movie:?\"):\n",
    "    title = str(redis1.hvals(key)[0].decode())\n",
    "    #country = str(redis1.hvals(key)[1].decode())\n",
    "    year = int(redis1.hvals(key)[2])\n",
    "    movieData.append({'title': title, \n",
    "                      'year':year })\n",
    "    \n",
    "df=pd.DataFrame(movieData)\n",
    "filteredDF=df[(df.year > 1990) & (df.year <2000)]\n",
    "\n",
    "\n",
    "display(filteredDF)"
   ]
  },
  {
   "cell_type": "markdown",
   "metadata": {},
   "source": [
    "### Querying from multiple tables\n",
    "\n",
    "#### Get Movies and Actors from the DB\n"
   ]
  },
  {
   "cell_type": "code",
   "execution_count": 145,
   "metadata": {},
   "outputs": [
    {
     "name": "stdout",
     "output_type": "stream",
     "text": [
      "Charlie Sheen :    Wall Street\n",
      "Michael Douglas :    Wall Street\n",
      "Michael Douglas :    The American President\n",
      "Morgan Freeman :    Shawshank Redemption\n",
      "Martin Sheen :    Wall Street\n",
      "Martin Sheen :    The American President\n"
     ]
    }
   ],
   "source": [
    "for key in redis1.keys(\"person:?:movies\"):\n",
    "    # personKey deserliaze the key get 'person:1', 'person:2',...\n",
    "    personKey=key.decode().split(':')[0]+ \":\" +key.decode().split(':')[1]\n",
    "    # get the persons from the hashsets using the above key\n",
    "    person=redis1.hgetall(personKey)\n",
    "    # SMEMBERS  get the movies of each person using the 'key' in the beginning\n",
    "    personMoviesKeys=redis1.smembers(key)\n",
    "    for movKey in personMoviesKeys:\n",
    "        print(person.get(b'name').decode(),\":   \", redis1.hgetall(movKey).get(b'title').decode())  "
   ]
  },
  {
   "cell_type": "code",
   "execution_count": 153,
   "metadata": {},
   "outputs": [
    {
     "data": {
      "text/html": [
       "<div>\n",
       "<style scoped>\n",
       "    .dataframe tbody tr th:only-of-type {\n",
       "        vertical-align: middle;\n",
       "    }\n",
       "\n",
       "    .dataframe tbody tr th {\n",
       "        vertical-align: top;\n",
       "    }\n",
       "\n",
       "    .dataframe thead th {\n",
       "        text-align: right;\n",
       "    }\n",
       "</style>\n",
       "<table border=\"1\" class=\"dataframe\">\n",
       "  <thead>\n",
       "    <tr style=\"text-align: right;\">\n",
       "      <th></th>\n",
       "      <th>Actor</th>\n",
       "      <th>title</th>\n",
       "    </tr>\n",
       "  </thead>\n",
       "  <tbody>\n",
       "    <tr>\n",
       "      <th>0</th>\n",
       "      <td>Charlie Sheen</td>\n",
       "      <td>Wall Street</td>\n",
       "    </tr>\n",
       "    <tr>\n",
       "      <th>1</th>\n",
       "      <td>Michael Douglas</td>\n",
       "      <td>Wall Street</td>\n",
       "    </tr>\n",
       "    <tr>\n",
       "      <th>2</th>\n",
       "      <td>Michael Douglas</td>\n",
       "      <td>The American President</td>\n",
       "    </tr>\n",
       "    <tr>\n",
       "      <th>3</th>\n",
       "      <td>Morgan Freeman</td>\n",
       "      <td>Shawshank Redemption</td>\n",
       "    </tr>\n",
       "    <tr>\n",
       "      <th>4</th>\n",
       "      <td>Martin Sheen</td>\n",
       "      <td>Wall Street</td>\n",
       "    </tr>\n",
       "    <tr>\n",
       "      <th>5</th>\n",
       "      <td>Martin Sheen</td>\n",
       "      <td>The American President</td>\n",
       "    </tr>\n",
       "  </tbody>\n",
       "</table>\n",
       "</div>"
      ],
      "text/plain": [
       "             Actor                   title\n",
       "0    Charlie Sheen             Wall Street\n",
       "1  Michael Douglas             Wall Street\n",
       "2  Michael Douglas  The American President\n",
       "3   Morgan Freeman    Shawshank Redemption\n",
       "4     Martin Sheen             Wall Street\n",
       "5     Martin Sheen  The American President"
      ]
     },
     "metadata": {},
     "output_type": "display_data"
    }
   ],
   "source": [
    "#using the Pandas DFs\n",
    "person_movies=[]\n",
    "\n",
    "for key in redis1.keys(\"person:?:movies\"):\n",
    "    personKey=key.decode().split(':')[0]+ \":\" +key.decode().split(':')[1]\n",
    "    \n",
    "    person=redis1.hgetall(personKey)\n",
    "    \n",
    "    personMoviesKeys=redis1.smembers(key)\n",
    "    for movKey in personMoviesKeys:\n",
    "        person_movies.append({\"Actor\": person.get(b'name').decode(), \"title\":redis1.hgetall(movKey).get(b'title').decode()})\n",
    "        \n",
    "df1= pd.DataFrame(person_movies)\n",
    "display(df1)\n"
   ]
  },
  {
   "cell_type": "markdown",
   "metadata": {},
   "source": [
    "### Aggregations in Redis\n",
    "\n",
    "#### Get count of \"Movies\" in your DB\n",
    "\n",
    "- Note: The best way is to store the sum as a separate key, and to update whenever you add/remove a value from your set/hash/zset."
   ]
  },
  {
   "cell_type": "code",
   "execution_count": 87,
   "metadata": {},
   "outputs": [
    {
     "name": "stdout",
     "output_type": "stream",
     "text": [
      "Count Of Movies:  3\n"
     ]
    }
   ],
   "source": [
    "print(\"Count Of Movies: \",len(redis1.keys(\"movie:?\")) )"
   ]
  },
  {
   "cell_type": "markdown",
   "metadata": {},
   "source": [
    "#### In this DB, for every \"Actor\" get the number of movies he played"
   ]
  },
  {
   "cell_type": "code",
   "execution_count": 94,
   "metadata": {},
   "outputs": [
    {
     "name": "stdout",
     "output_type": "stream",
     "text": [
      "Charlie Sheen :( 1)\n",
      "Michael Douglas :( 2)\n",
      "Morgan Freeman :( 1)\n",
      "Martin Sheen :( 2)\n"
     ]
    }
   ],
   "source": [
    "for key in redis1.keys(\"person:?:movies\"):\n",
    "    # personKey deserliaze the key get 'person:1', 'person:2',...\n",
    "    personKey=key.decode().split(':')[0]+ \":\" +key.decode().split(':')[1]\n",
    "    # get the persons from the hashsets using the above key\n",
    "    person=redis1.hgetall(personKey)\n",
    "    # get Cardinality of the Set of movies for each person\n",
    "    personMoviesCount= redis1.scard(key)\n",
    "    \n",
    "    print(person.get(b'name').decode(),\":(\",str(personMoviesCount)+\")\")\n",
    "    "
   ]
  },
  {
   "cell_type": "code",
   "execution_count": 155,
   "metadata": {},
   "outputs": [
    {
     "data": {
      "text/html": [
       "<div>\n",
       "<style scoped>\n",
       "    .dataframe tbody tr th:only-of-type {\n",
       "        vertical-align: middle;\n",
       "    }\n",
       "\n",
       "    .dataframe tbody tr th {\n",
       "        vertical-align: top;\n",
       "    }\n",
       "\n",
       "    .dataframe thead th {\n",
       "        text-align: right;\n",
       "    }\n",
       "</style>\n",
       "<table border=\"1\" class=\"dataframe\">\n",
       "  <thead>\n",
       "    <tr style=\"text-align: right;\">\n",
       "      <th></th>\n",
       "      <th>Actor</th>\n",
       "      <th>Movies_Count</th>\n",
       "    </tr>\n",
       "  </thead>\n",
       "  <tbody>\n",
       "    <tr>\n",
       "      <th>0</th>\n",
       "      <td>Charlie Sheen</td>\n",
       "      <td>1</td>\n",
       "    </tr>\n",
       "    <tr>\n",
       "      <th>1</th>\n",
       "      <td>Michael Douglas</td>\n",
       "      <td>2</td>\n",
       "    </tr>\n",
       "    <tr>\n",
       "      <th>2</th>\n",
       "      <td>Morgan Freeman</td>\n",
       "      <td>1</td>\n",
       "    </tr>\n",
       "    <tr>\n",
       "      <th>3</th>\n",
       "      <td>Martin Sheen</td>\n",
       "      <td>2</td>\n",
       "    </tr>\n",
       "  </tbody>\n",
       "</table>\n",
       "</div>"
      ],
      "text/plain": [
       "             Actor Movies_Count\n",
       "0    Charlie Sheen            1\n",
       "1  Michael Douglas            2\n",
       "2   Morgan Freeman            1\n",
       "3     Martin Sheen            2"
      ]
     },
     "metadata": {},
     "output_type": "display_data"
    }
   ],
   "source": [
    "## using Pnadas DFs\n",
    "person_countmovies=[]\n",
    "for key in redis1.keys(\"person:?:movies\"):\n",
    "    # personKey deserliaze the key get 'person:1', 'person:2',...\n",
    "    personKey=key.decode().split(':')[0]+ \":\" +key.decode().split(':')[1]\n",
    "    # get the persons from the hashsets using the above key\n",
    "    person=redis1.hgetall(personKey)\n",
    "    # get Cardinality of the Set of movies for each person\n",
    "    personMoviesCount= redis1.scard(key)\n",
    "    \n",
    "    person_countmovies.append({\"Actor\": person.get(b'name').decode(), \"Movies_Count\" :str(personMoviesCount)})\n",
    "\n",
    "display(pd.DataFrame(person_countmovies))    "
   ]
  },
  {
   "cell_type": "markdown",
   "metadata": {},
   "source": [
    "#### In this DB, List the movies that every Actor Played"
   ]
  },
  {
   "cell_type": "code",
   "execution_count": 95,
   "metadata": {},
   "outputs": [
    {
     "name": "stdout",
     "output_type": "stream",
     "text": [
      "Charlie Sheen :  ['Wall Street']\n",
      "Michael Douglas :  ['Wall Street', 'The American President']\n",
      "Morgan Freeman :  ['Shawshank Redemption']\n",
      "Martin Sheen :  ['Wall Street', 'The American President']\n"
     ]
    }
   ],
   "source": [
    "for key in redis1.keys(\"person:?:movies\"):\n",
    "    # personKey deserliaze the key get 'person:1', 'person:2',...\n",
    "    personKey=key.decode().split(':')[0]+ \":\" +key.decode().split(':')[1]\n",
    "    # get the persons from the hashsets using the above key\n",
    "    person=redis1.hgetall(personKey)\n",
    "    # get the movies of each person using the 'key' in the beginning\n",
    "    personMoviesKeys=redis1.smembers(key)\n",
    "    \n",
    "    personMovieLst=[]\n",
    "    for movKey in personMoviesKeys:\n",
    "        personMovieLst.append (redis1.hgetall(movKey).get(b'title').decode() )\n",
    "    \n",
    "    print(person.get(b'name').decode(), \": \", personMovieLst)"
   ]
  },
  {
   "cell_type": "code",
   "execution_count": 270,
   "metadata": {},
   "outputs": [
    {
     "data": {
      "text/html": [
       "<div>\n",
       "<style scoped>\n",
       "    .dataframe tbody tr th:only-of-type {\n",
       "        vertical-align: middle;\n",
       "    }\n",
       "\n",
       "    .dataframe tbody tr th {\n",
       "        vertical-align: top;\n",
       "    }\n",
       "\n",
       "    .dataframe thead th {\n",
       "        text-align: right;\n",
       "    }\n",
       "</style>\n",
       "<table border=\"1\" class=\"dataframe\">\n",
       "  <thead>\n",
       "    <tr style=\"text-align: right;\">\n",
       "      <th></th>\n",
       "      <th>name</th>\n",
       "      <th>movies</th>\n",
       "    </tr>\n",
       "  </thead>\n",
       "  <tbody>\n",
       "    <tr>\n",
       "      <th>0</th>\n",
       "      <td>Charlie Sheen</td>\n",
       "      <td>[Wall Street]</td>\n",
       "    </tr>\n",
       "    <tr>\n",
       "      <th>1</th>\n",
       "      <td>Michael Douglas</td>\n",
       "      <td>[Wall Street, The American President]</td>\n",
       "    </tr>\n",
       "    <tr>\n",
       "      <th>2</th>\n",
       "      <td>Morgan Freeman</td>\n",
       "      <td>[Shawshank Redemption]</td>\n",
       "    </tr>\n",
       "    <tr>\n",
       "      <th>3</th>\n",
       "      <td>Martin Sheen</td>\n",
       "      <td>[Wall Street, The American President]</td>\n",
       "    </tr>\n",
       "  </tbody>\n",
       "</table>\n",
       "</div>"
      ],
      "text/plain": [
       "              name                                 movies\n",
       "0    Charlie Sheen                          [Wall Street]\n",
       "1  Michael Douglas  [Wall Street, The American President]\n",
       "2   Morgan Freeman                 [Shawshank Redemption]\n",
       "3     Martin Sheen  [Wall Street, The American President]"
      ]
     },
     "metadata": {},
     "output_type": "display_data"
    }
   ],
   "source": [
    "##using Pandas, SQL\n",
    "import pandasql as ps\n",
    "import re \n",
    "\n",
    "person_movies_data=[]\n",
    "persons_data=[]\n",
    "movies_data=[]\n",
    "\n",
    "for movieKey in redis1.keys(\"movie:?\"):\n",
    "    movies_data.append({\"movie_key\":movieKey.decode(), \"title\":redis1.hgetall(movieKey).get(b'title').decode()})\n",
    "\n",
    "movies_DF= pd.DataFrame(movies_data)    \n",
    "\n",
    "for key in redis1.keys(\"person:?:movies\"):\n",
    "\n",
    "    personKey=key.decode().split(':')[0]+ \":\" +key.decode().split(':')[1]\n",
    "    person=redis1.hgetall(personKey)\n",
    "    persons_data.append({\"personKEY\":personKey, \"name\": person.get(b'name').decode() })\n",
    "\n",
    "    person_movies_data.append({\"personKEY\": personKey, \"movies\":  str(redis1.smembers(key) )})\n",
    "    \n",
    "    \n",
    "persons_DF=pd.DataFrame(persons_data, columns=['personKEY','name'])\n",
    "person_movies_DF=pd.DataFrame(person_movies_data,columns=['personKEY','movies'])\n",
    "\n",
    "#display(person_movies_DF)\n",
    "#display(persons_DF)\n",
    "\n",
    "\n",
    "query=\"SELECT name, movies FROM  persons_DF JOIN person_movies_DF ON  persons_DF.personKEY=person_movies_DF.personKEY\"\n",
    "#query=\"SELECT personKEY,movies FROM person_movies_DF\"\n",
    "result= ps.sqldf(query, locals())\n",
    "\n",
    "movieLST=[]\n",
    "for row in result.values:\n",
    "    movies= row[1].split(',')\n",
    "    intermediateLst=[]\n",
    "    for mov in movies:\n",
    "        #pattern matching to get the keys out of the format example {b'movie:1'} -to-> 'movie:1'\n",
    "        movK=str(re.search('movie:\\d+',mov).group(0))\n",
    "        intermediateLst.append(redis1.hgetall(movK).get(b'title').decode())\n",
    "    movieLST.append(intermediateLst)\n",
    "\n",
    "result.movies=(movieLST)\n",
    "display(result)"
   ]
  },
  {
   "cell_type": "markdown",
   "metadata": {},
   "source": [
    "### Updating Redis Data\n",
    "* If the key or hash field already exists in the hash, they are overwritten.\n"
   ]
  },
  {
   "cell_type": "code",
   "execution_count": 96,
   "metadata": {},
   "outputs": [
    {
     "name": "stdout",
     "output_type": "stream",
     "text": [
      "'Wall Street' movie  Before updating: \n",
      "{b'country': b'USA', b'title': b'Wall Street', b'year': b'1987'}\n",
      "\n",
      " 'Wall Street' movie  After updating the document: \n",
      "{b'country': b'USA', b'title': b'Wall Street', b'year': b'2000'}\n"
     ]
    }
   ],
   "source": [
    "\n",
    "print(\"'Wall Street' movie  Before updating: \")\n",
    "wallStreet=redis1.hgetall(\"movie:1\")\n",
    "pprint(wallStreet)\n",
    "\n",
    "#update the year the wallstreet movie was released in to be 2000, which is not true BTW :) \n",
    "updatedWallStreet = redis1.hset(\"movie:1\", \"year\", \"2000\")\n",
    "\n",
    "print(\"\\n 'Wall Street' movie  After updating the document: \")\n",
    "wallStreet=redis1.hgetall(\"movie:1\")\n",
    "pprint(wallStreet)\n"
   ]
  },
  {
   "cell_type": "markdown",
   "metadata": {},
   "source": [
    "### Deletions in Redis"
   ]
  },
  {
   "cell_type": "markdown",
   "metadata": {},
   "source": [
    "####  Delete all the persons with names start with 'M' letter."
   ]
  },
  {
   "cell_type": "code",
   "execution_count": 74,
   "metadata": {},
   "outputs": [],
   "source": [
    "for personKey in redis1.keys(\"person:?\"):\n",
    "    name=redis1.hvals(personKey)[0].decode()\n",
    "    redis1.delete(personKey) if (name.startswith('M')) else None  "
   ]
  }
 ],
 "metadata": {
  "kernelspec": {
   "display_name": "Python 3",
   "language": "python",
   "name": "python3"
  },
  "language_info": {
   "codemirror_mode": {
    "name": "ipython",
    "version": 3
   },
   "file_extension": ".py",
   "mimetype": "text/x-python",
   "name": "python",
   "nbconvert_exporter": "python",
   "pygments_lexer": "ipython3",
   "version": "3.7.3"
  }
 },
 "nbformat": 4,
 "nbformat_minor": 2
}
