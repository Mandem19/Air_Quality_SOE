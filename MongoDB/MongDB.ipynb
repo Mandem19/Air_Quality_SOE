{
 "cells": [
  {
   "cell_type": "markdown",
   "metadata": {},
   "source": [
    "# Introduction:\n",
    "\n",
    "### MongoDB:\n",
    "   <a href=\"https://www.mongodb.com/\">MongoDB</a> is a general purpose, document-based, distributed database built for modern application developers and for the cloud era. MongoDB stores data in JSON-like documents, which makes the database very flexible and scalable. <br/>\n",
    "   \n",
    "<img src=\"https://infinapps.com/wp-content/uploads/2018/10/mongodb-logo.png\" width =\"125\" height=\"75\">\n"
   ]
  },
  {
   "cell_type": "markdown",
   "metadata": {},
   "source": [
    "### MongoDb Hieraracy: \n",
    "<img src=\"https://cdn.educba.com/academy/wp-content/uploads/2019/04/MongoDB-chart2.jpg\" width =\"400\" >"
   ]
  },
  {
   "cell_type": "markdown",
   "metadata": {},
   "source": [
    "### PreLab\n",
    "\n",
    "#### 1. Install MongoDB on Windows\n",
    "\n",
    "- We install it on windows using the MSI version (https://www.mongodb.com/try/download/community?tck=docs_server), cutomize the installation to \"c:/mongodb\"\n",
    "- Add the \"data/db\"  and \"logs\"\" dirs into the installation directory which you already customized.\n",
    "- From the CMD \"As administrator\", configure the logs and databases directories, and start the mongoDB service:\n",
    "    -  from the \"bin \"directory run the following command>>> mongod --directorydb --dpath c:\\mongodb\\data\\db --logpath c:\\mongodb\\log\\mongo.log --logappend --rest --install \n",
    "\n",
    "- Now we can run the mongodb service \n",
    "    - net start mongodb\n",
    "- Putting your mongoDBHome/bin to the enviroment variables Paths:\n",
    "    - so you can run the Shell of MongoDb using the command '>mongo'\n",
    "\n",
    "#### 2. PyMongo python Driver\n",
    "\n",
    "- Python needs a MongoDB driver to access the MongoDB database.\n",
    "- <b>'Pymongo'</b> documentation: https://api.mongodb.com/python/current/tutorial.html \n",
    "- Install the 'pymongo' Python driver:\n",
    "```\n",
    "pip install pymongo\n",
    "```"
   ]
  },
  {
   "cell_type": "code",
   "execution_count": null,
   "metadata": {},
   "outputs": [],
   "source": [
    "! pip install pymongo"
   ]
  },
  {
   "cell_type": "code",
   "execution_count": 5,
   "metadata": {},
   "outputs": [],
   "source": [
    "from pymongo import MongoClient\n",
    "from random import randint\n",
    "from pprint import pprint\n",
    "\n",
    "import warnings\n",
    "warnings.filterwarnings('ignore')"
   ]
  },
  {
   "cell_type": "markdown",
   "metadata": {},
   "source": [
    "### First Steps in MongoDB\n",
    "\n",
    "#### Task 1 Create a simple MongoDB out of this relational model\n",
    "\n",
    "This is  a toy DB about movies and actors who played roles in these movies. This DB is consisted of  \n",
    "\n",
    "- A \"Person\" table who has a unique id, and a name fields.\n",
    "\n",
    "- Another \"Movie\" table that has a unique id, a title, a country where it was made, and a year when it was released.\n",
    "\n",
    "- There is (m-n) or \"many-many\" relationship between these two tables (i.e basically, many actors can act in many movies, and the movie include many actors)\n",
    "- Therefore, we use the \"Roles\" table in which we can deduct which person has acted in which movie, and what role(s) they played.\n"
   ]
  },
  {
   "cell_type": "markdown",
   "metadata": {},
   "source": [
    "<img src=\"RDBSchema.png\" alt=\"3\" border=\"0\">"
   ]
  },
  {
   "cell_type": "markdown",
   "metadata": {},
   "source": [
    "#### Creating a Database\n",
    "\n",
    "- To create a database in MongoDB, start by creating a MongoClient object, then specify a connection URL with the correct ip address and the name of the database you want to create.\n",
    "- MongoDB will create the database if it does not exist, and make a connection to it.\n",
    " "
   ]
  },
  {
   "cell_type": "code",
   "execution_count": 273,
   "metadata": {},
   "outputs": [],
   "source": [
    "myclient = MongoClient(\"mongodb://localhost:27017/\")\n",
    "mydb = myclient[\"moviedb\"]"
   ]
  },
  {
   "cell_type": "markdown",
   "metadata": {},
   "source": [
    "<b> Important Note</b>: In MongoDB, a database is not created until it gets content!"
   ]
  },
  {
   "cell_type": "markdown",
   "metadata": {},
   "source": [
    "###### You can check if a database exist by listing all databases in you system:\n",
    "- Note That: 'moviedb' DB is not created yet!!"
   ]
  },
  {
   "cell_type": "code",
   "execution_count": 274,
   "metadata": {},
   "outputs": [
    {
     "name": "stdout",
     "output_type": "stream",
     "text": [
      "['admin', 'business', 'config', 'local', 'movielens', 'mycustomers']\n"
     ]
    }
   ],
   "source": [
    "print(client.list_database_names())"
   ]
  },
  {
   "cell_type": "markdown",
   "metadata": {},
   "source": [
    "#### Creating a Collection\n",
    "- To create a collection in MongoDB, use database object and specify the name of the collection you want to create.\n",
    "- MongoDB will create the collection if it does not exist."
   ]
  },
  {
   "cell_type": "code",
   "execution_count": 275,
   "metadata": {},
   "outputs": [],
   "source": [
    "personcol = mydb[\"person\"]"
   ]
  },
  {
   "cell_type": "code",
   "execution_count": 276,
   "metadata": {},
   "outputs": [
    {
     "name": "stdout",
     "output_type": "stream",
     "text": [
      "[]\n"
     ]
    }
   ],
   "source": [
    "print(mydb.list_collection_names())"
   ]
  },
  {
   "cell_type": "markdown",
   "metadata": {},
   "source": [
    "#### Insert Into Collection\n",
    "- To insert a record, or document as it is called in MongoDB, into a collection, we use the insert_one() method.\n",
    "\n",
    "<font color='red'> \"Note to consider\", Instead of creating the default _id(s) here, we can use the _id as our given IDs in the Dataset "
   ]
  },
  {
   "cell_type": "code",
   "execution_count": 277,
   "metadata": {},
   "outputs": [],
   "source": [
    "mydict = { \"id\": 1, \"name\": \"Charlie Sheen\" }\n",
    "\n",
    "x = personcol.insert_one(mydict)"
   ]
  },
  {
   "cell_type": "code",
   "execution_count": 278,
   "metadata": {},
   "outputs": [
    {
     "name": "stdout",
     "output_type": "stream",
     "text": [
      "['person']\n",
      "The collection exists.\n"
     ]
    }
   ],
   "source": [
    "#check the created Collection Again after adding a document/record\n",
    "print(mydb.list_collection_names())\n",
    "\n",
    "#OR\n",
    "\n",
    "collist = mydb.list_collection_names()\n",
    "if \"person\" in collist:\n",
    "    print(\"The collection exists.\")"
   ]
  },
  {
   "cell_type": "code",
   "execution_count": 279,
   "metadata": {},
   "outputs": [
    {
     "name": "stdout",
     "output_type": "stream",
     "text": [
      "['admin', 'business', 'config', 'local', 'moviedb', 'movielens', 'mycustomers']\n",
      "The database exists.\n"
     ]
    }
   ],
   "source": [
    "#check the created DBs Again after adding creating the collection 'Person'\n",
    "\n",
    "print(client.list_database_names())\n",
    "\n",
    "#OR\n",
    "\n",
    "dblist = myclient.list_database_names()\n",
    "if \"moviedb\" in dblist:\n",
    "    print(\"The database exists.\")"
   ]
  },
  {
   "cell_type": "markdown",
   "metadata": {},
   "source": [
    "#### Insert Multiple Documents\n",
    "- To insert multiple documents into a collection in MongoDB, we use the <code>insert_many()</code> method.\n",
    "- The first parameter of the <code>insert_many()</code> method is a list containing dictionaries with the data you want to insert:\n"
   ]
  },
  {
   "cell_type": "code",
   "execution_count": 280,
   "metadata": {},
   "outputs": [
    {
     "name": "stdout",
     "output_type": "stream",
     "text": [
      "[ObjectId('5f4be5636877049b11af810b'), ObjectId('5f4be5636877049b11af810c'), ObjectId('5f4be5636877049b11af810d')]\n"
     ]
    }
   ],
   "source": [
    "# id,name\n",
    "# 1,Charlie Sheen\n",
    "# 2,Michael Douglas\n",
    "# 3,Martin Sheen\n",
    "# 4,Morgan Freeman\n",
    "\n",
    "personList = [\n",
    "  { \"id\": 2, \"name\": \"Michael Douglas\"},\n",
    "  { \"id\": 3, \"name\": \"Martin Sheen\"},\n",
    "  { \"id\": 4, \"name\": \"Morgan Freeman\"}\n",
    "]\n",
    "\n",
    "x = personcol.insert_many(personList)\n",
    "\n",
    "#print list of the _id values of the inserted documents:\n",
    "print(x.inserted_ids)"
   ]
  },
  {
   "cell_type": "markdown",
   "metadata": {},
   "source": [
    "#### Creating rest of Collections"
   ]
  },
  {
   "cell_type": "code",
   "execution_count": 281,
   "metadata": {},
   "outputs": [],
   "source": [
    "restcols = [\"movie\",\"roels\"]\n",
    "\n",
    "for col in restcols:\n",
    "    mydb[col]"
   ]
  },
  {
   "cell_type": "markdown",
   "metadata": {},
   "source": [
    "#### Inserting data into the movie Collection\n"
   ]
  },
  {
   "cell_type": "code",
   "execution_count": 282,
   "metadata": {},
   "outputs": [
    {
     "name": "stdout",
     "output_type": "stream",
     "text": [
      "[ObjectId('5f4be5696877049b11af810e'), ObjectId('5f4be5696877049b11af810f'), ObjectId('5f4be5696877049b11af8110')]\n"
     ]
    }
   ],
   "source": [
    "# 1,Wall Street,USA,1987\n",
    "# 2,The American President,USA,1995\n",
    "# 3,The Shawshank Redemption,USA,1994\n",
    "\n",
    "\n",
    "moviecol = mydb[\"movie\"]\n",
    "\n",
    "movieList = [\n",
    "  { \"id\": 1, \"title\": \"Wall Street\", \"country\":\"USA\",\"year\":1987},\n",
    "  { \"id\": 2, \"title\": \"The American President\", \"country\":\"USA\",\"year\":1995},\n",
    "  { \"id\": 3, \"title\": \"The Shawshank Redemption\", \"country\":\"USA\",\"year\":1994},\n",
    "]\n",
    "\n",
    "x = moviecol.insert_many(movieList)\n",
    "\n",
    "#print list of the _id values of the inserted documents:\n",
    "print(x.inserted_ids)"
   ]
  },
  {
   "cell_type": "code",
   "execution_count": 283,
   "metadata": {},
   "outputs": [
    {
     "name": "stdout",
     "output_type": "stream",
     "text": [
      "[ObjectId('5f4be56c6877049b11af8111'), ObjectId('5f4be56c6877049b11af8112'), ObjectId('5f4be56c6877049b11af8113'), ObjectId('5f4be56c6877049b11af8114'), ObjectId('5f4be56c6877049b11af8115'), ObjectId('5f4be56c6877049b11af8116')]\n"
     ]
    }
   ],
   "source": [
    "#Roles\n",
    "# personId,movieId,role\n",
    "# 1,1,Bud Fox\n",
    "# 4,1,Carl Fox\n",
    "# 3,1,Gordon Gekko\n",
    "# 4,2,A.J. MacInerney\n",
    "# 3,2,President Andrew Shepherd\n",
    "# 5,3,Ellis Boyd 'Red' Redding\n",
    "\n",
    "rolesCol = mydb[\"roles\"]\n",
    "\n",
    "roleList = [\n",
    "  { \"personId\": 1, \"movieId\": 1, \"role\":[\"Bud Fox\"]},\n",
    "  { \"personId\": 2, \"movieId\": 1, \"role\":[\"Carl Fox\"]},\n",
    "  { \"personId\": 3, \"movieId\": 1, \"role\":[\"Gordon Gekko\"]},\n",
    "  { \"personId\": 2, \"movieId\": 2, \"role\":[\"A.J. MacInerney\"]},\n",
    "  { \"personId\": 3, \"movieId\": 2, \"role\":[\"President Andrew Shepherd\"]},\n",
    "  { \"personId\": 4, \"movieId\": 3, \"role\":[\"Ellis Boyd 'Red' Redding\"]}\n",
    "]\n",
    "\n",
    "x = rolesCol.insert_many(roleList)\n",
    "\n",
    "#print list of the _id values of the inserted documents:\n",
    "print(x.inserted_ids)"
   ]
  },
  {
   "cell_type": "markdown",
   "metadata": {},
   "source": [
    "#### Another Way of Modeling this M-N model in Mongo would be using the Forien Keys \n",
    "\n",
    "\n",
    "* Movies\n",
    "\n",
    "\n",
    "```[\n",
    "\n",
    "{\n",
    "\t\"_id\": 1,\n",
    "\t\"title\":\"Wall Street\",\n",
    "\t\"country\":\"USA\",\n",
    "\t\"year\":1987,\n",
    "\t\"persons\":[1,2]\n",
    "},\n",
    "\n",
    "{\n",
    "\t\"_id\": 2,\n",
    "\t\"title\":\"The American President\",\n",
    "\t\"country\":\"USA\",\n",
    "\t\"year\":1995,\n",
    "\t\"persons\":[2]\n",
    "}]\n",
    "```\n",
    "* Actors\n",
    "\n",
    "```\n",
    "[{\n",
    "    \"_id\": 1,\n",
    "    \"name\": \"Charlie Sheen\",\n",
    "    \"movies\":[\n",
    "    {\"role\": \"Bud Fox\", \"movie_id\":1}\n",
    "    ]\n",
    "},\n",
    "\n",
    "{\n",
    "    \"_id\": 2,\n",
    "    \"name\": \"Micheal Douglas\",\n",
    "    \"movies\":[\n",
    "    {\"role\": \"Gordon Geko\", \"movie_id\":1},\n",
    "    {\"role\": \"President Andrew Shepherd\", \"movie_id\":2}\n",
    "    ]\n",
    "}\n",
    "\n",
    "] ```\n"
   ]
  },
  {
   "cell_type": "markdown",
   "metadata": {},
   "source": [
    "##### GET the Persons Who Acted in Wall Street\n",
    "\n",
    "```\n",
    "var WallSt= db.movies.findOne({title:\"Wall Street\"});\n",
    "db.persons.find({_id: {$in: WallSt.persons}}).toArray();\n",
    "```"
   ]
  },
  {
   "cell_type": "markdown",
   "metadata": {},
   "source": [
    "##### GET the Movies  in which \"Micheal Douglas\" has played a role in\n",
    "* Use of map function is the key here !!!! \n",
    "\n",
    "```\n",
    "var Douglas = db.persons.findOne({name:\"Micheal Douglas\"})\n",
    "db.movies.find({_id:{$in : Douglas.movies.map(item=>item.movie_id)   }  }).pretty();\n",
    "```"
   ]
  },
  {
   "cell_type": "markdown",
   "metadata": {},
   "source": [
    "## Querying our Data"
   ]
  },
  {
   "cell_type": "markdown",
   "metadata": {},
   "source": [
    "### Get Persons in your Mongo DB"
   ]
  },
  {
   "cell_type": "markdown",
   "metadata": {},
   "source": [
    "- find_one method is just one in a series of find statements that support querying MongoDB data.\n"
   ]
  },
  {
   "cell_type": "code",
   "execution_count": 24,
   "metadata": {},
   "outputs": [
    {
     "name": "stdout",
     "output_type": "stream",
     "text": [
      "{'_id': ObjectId('5f4b6bd76877049b11af80fc'), 'id': 1, 'name': 'Charlie Sheen'}\n"
     ]
    }
   ],
   "source": [
    "firstActor = mydb.person.find_one()\n",
    "print(firstActor)"
   ]
  },
  {
   "cell_type": "markdown",
   "metadata": {},
   "source": [
    "- find method : The find() method returns all occurrences in the selection.\n",
    "- Notes:\n",
    "    - The second parameter of the find() method is an object describing which fields to include in the result.\n",
    "\n",
    "    - This parameter is optional, and if omitted, all fields will be included in the result.\n"
   ]
  },
  {
   "cell_type": "code",
   "execution_count": 30,
   "metadata": {},
   "outputs": [
    {
     "name": "stdout",
     "output_type": "stream",
     "text": [
      "{'_id': ObjectId('5f4b6bd76877049b11af80fc'), 'id': 1, 'name': 'Charlie Sheen'}\n",
      "{'_id': ObjectId('5f4b6e366877049b11af80fd'), 'id': 2, 'name': 'Michael Douglas'}\n",
      "{'_id': ObjectId('5f4b6e366877049b11af80fe'), 'id': 3, 'name': 'Martin Sheen'}\n",
      "{'_id': ObjectId('5f4b6e366877049b11af80ff'), 'id': 4, 'name': 'Morgan Freeman'}\n"
     ]
    }
   ],
   "source": [
    "allActors=mydb.person.find()\n",
    "for actor in allActors:\n",
    "    print(actor)"
   ]
  },
  {
   "cell_type": "markdown",
   "metadata": {},
   "source": [
    "#### get persons with names start with 'C' letter"
   ]
  },
  {
   "cell_type": "code",
   "execution_count": 453,
   "metadata": {},
   "outputs": [
    {
     "name": "stdout",
     "output_type": "stream",
     "text": [
      "{'_id': ObjectId('5f4be55a6877049b11af810a'), 'id': 1, 'name': 'Charlie Sheen'}\n"
     ]
    }
   ],
   "source": [
    "# use regex to get only 'Charlie Sheen'\n",
    "\n",
    "#you can use your query as like that object\n",
    "query={ \"name\": {'$regex':'^C' } }\n",
    "\n",
    "#then you pass the query to the find func.\n",
    "cActors =mydb.person.find(query)\n",
    "for actor in cActors:\n",
    "    pprint(actor)"
   ]
  },
  {
   "cell_type": "markdown",
   "metadata": {},
   "source": [
    "### Sorting the Results\n",
    "#### Get All Movies , sorted from recent to old"
   ]
  },
  {
   "cell_type": "code",
   "execution_count": 68,
   "metadata": {},
   "outputs": [
    {
     "name": "stdout",
     "output_type": "stream",
     "text": [
      "{'_id': ObjectId('5f4b72ac6877049b11af8101'), 'id': 2, 'title': 'The American President', 'country': 'USA', 'year': 1995}\n",
      "{'_id': ObjectId('5f4b72ac6877049b11af8102'), 'id': 3, 'title': 'The Shawshank Redemption', 'country': 'USA', 'year': 1994}\n",
      "{'_id': ObjectId('5f4b72ac6877049b11af8100'), 'id': 1, 'title': 'Wall Street', 'country': 'USA', 'year': 1987}\n"
     ]
    }
   ],
   "source": [
    "moviesSorted=mydb.movie.find().sort([(\"year\",-1)])\n",
    "for movie in moviesSorted:\n",
    "    print(movie)"
   ]
  },
  {
   "cell_type": "code",
   "execution_count": 84,
   "metadata": {},
   "outputs": [
    {
     "name": "stdout",
     "output_type": "stream",
     "text": [
      "{'title': 'The American President', 'year': 1995}\n",
      "{'title': 'The Shawshank Redemption', 'year': 1994}\n",
      "{'title': 'Wall Street', 'year': 1987}\n"
     ]
    }
   ],
   "source": [
    "#Projections get only the title and the year sorting by the year field\n",
    "moviesSorted=mydb.movie.find({}, {\"title\":1,\"year\":1, \"_id\":0}).sort([(\"year\",-1)])\n",
    "for movie in moviesSorted:\n",
    "    pprint(movie)"
   ]
  },
  {
   "cell_type": "markdown",
   "metadata": {},
   "source": [
    "### Filtering the Results\n",
    "#### Get All Movies released in the 90s (after year (1990) and before 2000) ordered from old to recent."
   ]
  },
  {
   "cell_type": "code",
   "execution_count": 99,
   "metadata": {},
   "outputs": [
    {
     "name": "stdout",
     "output_type": "stream",
     "text": [
      "{'_id': ObjectId('5f4b72ac6877049b11af8101'), 'id': 2, 'title': 'The American President', 'country': 'USA', 'year': 1995}\n",
      "{'_id': ObjectId('5f4b72ac6877049b11af8102'), 'id': 3, 'title': 'The Shawshank Redemption', 'country': 'USA', 'year': 1994}\n"
     ]
    }
   ],
   "source": [
    "#use $gt and $lt \n",
    "nineteesMovies= mydb.movie.find( {'year':{'$gt': 1990,'$lt':2000} })\n",
    "for movie in nineteesMovies:\n",
    "    print(movie)"
   ]
  },
  {
   "cell_type": "markdown",
   "metadata": {},
   "source": [
    "### Querying from multiple tables\n",
    "\n",
    "#### Get Movies and Actors from your  \"movies\" DB\n",
    "\n",
    "##### Hint : use the '$lookup' operator"
   ]
  },
  {
   "cell_type": "code",
   "execution_count": 450,
   "metadata": {},
   "outputs": [],
   "source": [
    "# x =mydb.movie.aggregate([{\n",
    "    \n",
    "#     '$lookup':{\n",
    "#         \"from\":\"roles\",\n",
    "#         \"localField\":\"id\",\n",
    "#         \"foreignField\":\"movieId\",\n",
    "#         \"as\": \"actors_movies\"\n",
    "#     }}\n",
    "\n",
    "# ])\n",
    "\n",
    "# for z in x:\n",
    "#     pprint(z)"
   ]
  },
  {
   "cell_type": "code",
   "execution_count": 309,
   "metadata": {},
   "outputs": [
    {
     "name": "stdout",
     "output_type": "stream",
     "text": [
      "Charlie Sheen : Wall Street\n",
      "Michael Douglas : Wall Street\n",
      "Martin Sheen : Wall Street\n",
      "Michael Douglas : The American President\n",
      "Martin Sheen : The American President\n",
      "Morgan Freeman : The Shawshank Redemption\n"
     ]
    }
   ],
   "source": [
    "#This is the one we need!\n",
    "for z in mydb.roles.aggregate([\n",
    "  {\"$lookup\":{\n",
    "    \"from\":\"person\",\n",
    "    \"localField\":\"personId\",\n",
    "    \"foreignField\":\"id\",\n",
    "    \"as\":\"actor_roles\"\n",
    "  }},\n",
    "    \n",
    "    {\"$lookup\":{\n",
    "        \n",
    "    \"from\":\"movie\",\n",
    "    \"localField\":\"movieId\",\n",
    "    \"foreignField\":\"id\",\n",
    "    \"as\":\"movie_roles\" \n",
    "        \n",
    "    }},\n",
    "    \n",
    "{\n",
    "    \"$project\":\n",
    "    {\n",
    "        \"_id\":0,\n",
    "        \"actor_roles.name\":1,\n",
    "        \"movie_roles.title\":1\n",
    "    }\n",
    "}\n",
    "\n",
    "]) :\n",
    "    print(z.get('actor_roles')[0].get('name'), \":\", z.get('movie_roles')[0].get('title'))"
   ]
  },
  {
   "cell_type": "markdown",
   "metadata": {},
   "source": [
    "### Aggregations in MongoDB\n",
    "\n",
    "#### Get count of \"Movies\" in your MongoDB"
   ]
  },
  {
   "cell_type": "code",
   "execution_count": 121,
   "metadata": {},
   "outputs": [
    {
     "name": "stdout",
     "output_type": "stream",
     "text": [
      "Movies Count:  3\n"
     ]
    }
   ],
   "source": [
    "moviesCount=mydb.movie.find().count()\n",
    "print(\"Movies Count: \",moviesCount)"
   ]
  },
  {
   "cell_type": "code",
   "execution_count": 285,
   "metadata": {},
   "outputs": [
    {
     "name": "stdout",
     "output_type": "stream",
     "text": [
      "{'name': 'Charlie Sheen', 'Count': 1}\n",
      "{'name': 'Michael Douglas', 'Count': 2}\n",
      "{'name': 'Martin Sheen', 'Count': 2}\n",
      "{'name': 'Morgan Freeman', 'Count': 1}\n"
     ]
    }
   ],
   "source": [
    "for z in mydb.person.aggregate([\n",
    "  {\"$lookup\":{\n",
    "    \"from\":\"roles\",\n",
    "    \"localField\":\"id\",\n",
    "    \"foreignField\":\"personId\",\n",
    "    \"as\":\"actor_roles\"\n",
    "  }},\n",
    "  {\"$project\":{\n",
    "    \"_id\":0,\n",
    "    \"name\":1,\n",
    "    \"Count\":{'$size':'$actor_roles'} #size here to get the size of the actor_roles array\n",
    "  }}\n",
    "]) :\n",
    "    print(z)"
   ]
  },
  {
   "cell_type": "markdown",
   "metadata": {},
   "source": [
    "#### In this DB, List the movies that every Actor Played"
   ]
  },
  {
   "cell_type": "code",
   "execution_count": 286,
   "metadata": {},
   "outputs": [
    {
     "name": "stdout",
     "output_type": "stream",
     "text": [
      "{'_id': ['Michael Douglas'], 'movies': [['Wall Street'], ['The American President']]}\n",
      "{'_id': ['Morgan Freeman'], 'movies': [['The Shawshank Redemption']]}\n",
      "{'_id': ['Martin Sheen'], 'movies': [['Wall Street'], ['The American President']]}\n",
      "{'_id': ['Charlie Sheen'], 'movies': [['Wall Street']]}\n"
     ]
    }
   ],
   "source": [
    "for z in mydb.roles.aggregate([\n",
    "  {\"$lookup\":{\n",
    "    \"from\":\"person\",\n",
    "    \"localField\":\"personId\",\n",
    "    \"foreignField\":\"id\",\n",
    "    \"as\":\"actor_roles\"\n",
    "  }},\n",
    "    \n",
    "    {\"$lookup\":{\n",
    "        \n",
    "    \"from\":\"movie\",\n",
    "    \"localField\":\"movieId\",\n",
    "    \"foreignField\":\"id\",\n",
    "    \"as\":\"movie_roles\" \n",
    "        \n",
    "    }},\n",
    "    \n",
    "    {\"$group\":\n",
    "    \n",
    "    {\"_id\":\"$actor_roles.name\", \"movies\": {\"$push\":\"$movie_roles.title\"}}\n",
    "    }\n",
    "\n",
    "]) :\n",
    "    print(z)"
   ]
  },
  {
   "cell_type": "markdown",
   "metadata": {},
   "source": [
    "### Updating MongoDB Data\n",
    "\n",
    "* hint: use <code>$set</code> function, if the set key is not there it will be added, if exists it will be overwritten."
   ]
  },
  {
   "cell_type": "code",
   "execution_count": null,
   "metadata": {},
   "outputs": [],
   "source": [
    "# Show the Movie before Updating \n",
    "\n",
    "print(\"'Wall Street' movie  Before updating the document: \")\n",
    "wallStreet=mydb.movie.find_one({\"title\":\"Wall Street\"})\n",
    "pprint(wallStreet)\n",
    "\n",
    "#update the year the wallstreet movie was released in \n",
    "updatedWallStreet = mydb.movie.update_one({'_id' : wallStreet.get('_id') }, {'$set': {'year': 2000}})\n",
    "\n",
    "print(\"\\n 'Wall Street' movie  After updating the document: \")\n",
    "wallStreet=mydb.movie.find_one({\"title\":\"Wall Street\"})\n",
    "pprint(wallStreet)\n"
   ]
  },
  {
   "cell_type": "markdown",
   "metadata": {},
   "source": [
    "### Delete Documents From a Collection\n",
    "- Much like the other command discussed so far the delete_one and delete_many command takes a query that matches the document to delete as the first parameter.\n",
    "\n",
    "- For example, if you wanted to delete all documents in the reviews collection where the category was “Bar Food” issue the following:"
   ]
  },
  {
   "cell_type": "code",
   "execution_count": 247,
   "metadata": {},
   "outputs": [
    {
     "name": "stdout",
     "output_type": "stream",
     "text": [
      "{'_id': ObjectId('5f4b6bd76877049b11af80fc'), 'id': 1, 'name': 'Charlie Sheen'}\n"
     ]
    }
   ],
   "source": [
    "#This will delete all the persons with names start with 'M' letter.\n",
    "mydb.person.delete_many({'name': {\"$regex\":\"^M\"} })\n",
    "for x in mydb.person.find():\n",
    "    print(x)"
   ]
  },
  {
   "cell_type": "code",
   "execution_count": 360,
   "metadata": {},
   "outputs": [],
   "source": [
    "# db=client.business\n",
    "# # Issue the serverStatus command and print the results\n",
    "# serverStatusResult=db.command(\"serverStatus\")\n",
    "# pprint(serverStatusResult)"
   ]
  },
  {
   "cell_type": "markdown",
   "metadata": {},
   "source": [
    "### Excercise\n",
    "* create a new  MongoDB with the name 'movrevs'\n",
    "* use the following code to create a new collection with the name 'reviews'\n",
    "    * every random review has the following structure:\n",
    "        * <b>movie_title</b>\n",
    "        * <b>rating (From 1 to 5)</b>\n",
    "        * <b>production_company</b>"
   ]
  },
  {
   "cell_type": "code",
   "execution_count": 420,
   "metadata": {},
   "outputs": [
    {
     "name": "stdout",
     "output_type": "stream",
     "text": [
      "{'title': 'Breaking Lost', 'rating': 1, 'producer': 'Universal Pictures'}\n",
      "{'title': 'Big Big', 'rating': 5, 'producer': 'Fox Inc'}\n",
      "{'title': 'City State', 'rating': 4, 'producer': 'Universal Pictures'}\n",
      "{'title': 'Breaking State', 'rating': 3, 'producer': '20th Century Studios'}\n",
      "{'title': 'Lazy Killers', 'rating': 4, 'producer': 'Fox Inc'}\n",
      "{'title': 'Rise Rise', 'rating': 2, 'producer': 'Universal Pictures'}\n",
      "{'title': 'Redemption Guys', 'rating': 1, 'producer': 'Fox Inc'}\n",
      "{'title': 'King Killers', 'rating': 5, 'producer': 'Comombia'}\n",
      "{'title': 'Dark Night Rise', 'rating': 1, 'producer': '20th Century Studios'}\n",
      "{'title': 'Rise Redemption', 'rating': 4, 'producer': 'Rise Corporation'}\n",
      "{'title': 'Rise Tears', 'rating': 1, 'producer': 'Universal Pictures'}\n",
      "{'title': 'Bad Game', 'rating': 5, 'producer': 'Universal Pictures'}\n",
      "{'title': 'Killers Guys', 'rating': 4, 'producer': 'Rise Corporation'}\n",
      "{'title': 'Bright Places Bad', 'rating': 3, 'producer': 'Universal Pictures'}\n",
      "{'title': 'Dark Night Game', 'rating': 4, 'producer': 'Universal Pictures'}\n",
      "{'title': 'Bright Places City', 'rating': 4, 'producer': 'Western Movie'}\n",
      "{'title': 'Dark Night Breaking', 'rating': 5, 'producer': 'Rise Corporation'}\n",
      "{'title': 'Rise Bright Places', 'rating': 3, 'producer': 'Universal Pictures'}\n",
      "{'title': 'City Dark Night', 'rating': 4, 'producer': 'Universal Pictures'}\n",
      "{'title': 'Killers Bright Places', 'rating': 1, 'producer': 'Rise Corporation'}\n",
      "{'title': 'King Bad', 'rating': 4, 'producer': 'Rise Corporation'}\n",
      "{'title': 'Lazy Dark Night', 'rating': 2, 'producer': 'Universal Pictures'}\n",
      "{'title': 'Breaking City', 'rating': 3, 'producer': 'Universal Pictures'}\n",
      "{'title': 'Redemption Big', 'rating': 5, 'producer': 'Fox Inc'}\n",
      "{'title': 'Redemption Redemption', 'rating': 5, 'producer': 'Universal Pictures'}\n",
      "{'title': 'Bad State', 'rating': 1, 'producer': 'Rise Corporation'}\n",
      "{'title': 'Thrones Killers', 'rating': 5, 'producer': 'Western Movie'}\n",
      "{'title': 'Thrones Thrones', 'rating': 5, 'producer': 'Fox Inc'}\n",
      "{'title': 'Breaking City', 'rating': 1, 'producer': 'Rise Corporation'}\n",
      "{'title': 'Killers Guys', 'rating': 4, 'producer': 'Comombia'}\n",
      "{'title': 'Breaking Tears', 'rating': 5, 'producer': 'Comombia'}\n",
      "{'title': 'Guys Bright Places', 'rating': 4, 'producer': 'Fox Inc'}\n",
      "{'title': 'Lost Tears', 'rating': 3, 'producer': 'Fox Inc'}\n",
      "{'title': 'Lazy Breaking', 'rating': 5, 'producer': 'Rise Corporation'}\n",
      "{'title': 'Bright Places Redemption', 'rating': 4, 'producer': '20th Century Studios'}\n",
      "{'title': 'Bright Places Game', 'rating': 1, 'producer': 'Rise Corporation'}\n",
      "{'title': 'King State', 'rating': 1, 'producer': 'Rise Corporation'}\n",
      "{'title': 'Thrones Dark Night', 'rating': 1, 'producer': 'Western Movie'}\n",
      "{'title': 'Redemption City', 'rating': 2, 'producer': 'Western Movie'}\n",
      "{'title': 'Killers Tears', 'rating': 3, 'producer': '20th Century Studios'}\n",
      "{'title': 'Redemption Bright Places', 'rating': 3, 'producer': 'Comombia'}\n",
      "{'title': 'Bright Places Killers', 'rating': 4, 'producer': 'Comombia'}\n",
      "{'title': 'Tears Thrones', 'rating': 4, 'producer': 'Rise Corporation'}\n",
      "{'title': 'Redemption Tears', 'rating': 4, 'producer': 'Universal Pictures'}\n",
      "{'title': 'Dark Night Breaking', 'rating': 4, 'producer': 'Rise Corporation'}\n",
      "{'title': 'Big Redemption', 'rating': 1, 'producer': 'Fox Inc'}\n",
      "{'title': 'Big Big', 'rating': 5, 'producer': 'Universal Pictures'}\n",
      "{'title': 'Lost Bright Places', 'rating': 5, 'producer': 'Universal Pictures'}\n",
      "{'title': 'Lost Guys', 'rating': 2, 'producer': 'Comombia'}\n",
      "{'title': 'Killers Thrones', 'rating': 4, 'producer': 'Fox Inc'}\n",
      "{'title': 'Bad Lost', 'rating': 1, 'producer': 'Comombia'}\n",
      "{'title': 'Lazy State', 'rating': 3, 'producer': 'Western Movie'}\n",
      "{'title': 'City Tears', 'rating': 3, 'producer': 'Fox Inc'}\n",
      "{'title': 'Redemption Bright Places', 'rating': 1, 'producer': '20th Century Studios'}\n",
      "{'title': 'Game Bad', 'rating': 1, 'producer': 'Comombia'}\n",
      "{'title': 'Dark Night Lazy', 'rating': 2, 'producer': 'Rise Corporation'}\n",
      "{'title': 'Lost Breaking', 'rating': 5, 'producer': '20th Century Studios'}\n",
      "{'title': 'City Bright Places', 'rating': 3, 'producer': 'Fox Inc'}\n",
      "{'title': 'Tears Guys', 'rating': 2, 'producer': 'Rise Corporation'}\n",
      "{'title': 'King Game', 'rating': 4, 'producer': '20th Century Studios'}\n",
      "{'title': 'Bright Places Dark Night', 'rating': 1, 'producer': '20th Century Studios'}\n",
      "{'title': 'Tears Tears', 'rating': 4, 'producer': 'Comombia'}\n",
      "{'title': 'Lazy Bright Places', 'rating': 3, 'producer': 'Universal Pictures'}\n",
      "{'title': 'King Lazy', 'rating': 2, 'producer': 'Universal Pictures'}\n",
      "{'title': 'Big Dark Night', 'rating': 2, 'producer': '20th Century Studios'}\n",
      "{'title': 'Killers Bright Places', 'rating': 5, 'producer': 'Comombia'}\n",
      "{'title': 'King Lost', 'rating': 2, 'producer': 'Comombia'}\n",
      "{'title': 'State King', 'rating': 2, 'producer': 'Fox Inc'}\n",
      "{'title': 'Big Dark Night', 'rating': 5, 'producer': 'Universal Pictures'}\n",
      "{'title': 'Lazy Killers', 'rating': 2, 'producer': 'Universal Pictures'}\n",
      "{'title': 'Bad Lost', 'rating': 2, 'producer': 'Universal Pictures'}\n",
      "{'title': 'Lazy Killers', 'rating': 1, 'producer': 'Western Movie'}\n",
      "{'title': 'Killers Guys', 'rating': 5, 'producer': 'Universal Pictures'}\n",
      "{'title': 'Guys Rise', 'rating': 4, 'producer': 'Western Movie'}\n",
      "{'title': 'Bad Rise', 'rating': 5, 'producer': 'Rise Corporation'}\n",
      "{'title': 'Rise Bright Places', 'rating': 5, 'producer': 'Comombia'}\n",
      "{'title': 'Tears Killers', 'rating': 4, 'producer': 'Rise Corporation'}\n",
      "{'title': 'Game Bright Places', 'rating': 4, 'producer': 'Comombia'}\n",
      "{'title': 'City Breaking', 'rating': 2, 'producer': 'Fox Inc'}\n",
      "{'title': 'Big Thrones', 'rating': 1, 'producer': 'Rise Corporation'}\n",
      "{'title': 'Lost Tears', 'rating': 2, 'producer': 'Fox Inc'}\n",
      "{'title': 'Big Killers', 'rating': 2, 'producer': '20th Century Studios'}\n",
      "{'title': 'Guys Lazy', 'rating': 4, 'producer': 'Rise Corporation'}\n",
      "{'title': 'State City', 'rating': 4, 'producer': '20th Century Studios'}\n",
      "{'title': 'King Breaking', 'rating': 2, 'producer': '20th Century Studios'}\n",
      "{'title': 'State Lost', 'rating': 4, 'producer': 'Western Movie'}\n",
      "{'title': 'Bad Lazy', 'rating': 1, 'producer': 'Universal Pictures'}\n",
      "{'title': 'Bright Places Tears', 'rating': 2, 'producer': 'Rise Corporation'}\n",
      "{'title': 'Redemption Game', 'rating': 2, 'producer': '20th Century Studios'}\n",
      "{'title': 'City King', 'rating': 5, 'producer': 'Western Movie'}\n",
      "{'title': 'Bad Guys', 'rating': 2, 'producer': 'Universal Pictures'}\n",
      "{'title': 'Lost Killers', 'rating': 4, 'producer': 'Western Movie'}\n",
      "{'title': 'Breaking Rise', 'rating': 3, 'producer': 'Western Movie'}\n",
      "{'title': 'Game State', 'rating': 4, 'producer': 'Rise Corporation'}\n",
      "{'title': 'Breaking Rise', 'rating': 2, 'producer': 'Rise Corporation'}\n",
      "{'title': 'Big Bright Places', 'rating': 2, 'producer': 'Fox Inc'}\n",
      "{'title': 'Lost Bright Places', 'rating': 2, 'producer': '20th Century Studios'}\n",
      "{'title': 'Guys City', 'rating': 1, 'producer': 'Fox Inc'}\n",
      "{'title': 'Game Breaking', 'rating': 3, 'producer': 'Western Movie'}\n",
      "{'title': 'Dark Night Breaking', 'rating': 4, 'producer': 'Universal Pictures'}\n",
      "{'title': 'Lazy Bright Places', 'rating': 1, 'producer': 'Fox Inc'}\n",
      "{'title': 'Killers Breaking', 'rating': 3, 'producer': 'Fox Inc'}\n",
      "{'title': 'Rise Guys', 'rating': 3, 'producer': 'Comombia'}\n",
      "{'title': 'Tears Tears', 'rating': 1, 'producer': 'Rise Corporation'}\n",
      "{'title': 'Game Rise', 'rating': 3, 'producer': 'Western Movie'}\n",
      "{'title': 'Rise Killers', 'rating': 1, 'producer': 'Western Movie'}\n",
      "{'title': 'Tears State', 'rating': 2, 'producer': 'Rise Corporation'}\n",
      "{'title': 'State Thrones', 'rating': 1, 'producer': 'Fox Inc'}\n",
      "{'title': 'Breaking City', 'rating': 5, 'producer': 'Comombia'}\n",
      "{'title': 'Tears Killers', 'rating': 2, 'producer': 'Universal Pictures'}\n",
      "{'title': 'Killers King', 'rating': 5, 'producer': '20th Century Studios'}\n",
      "{'title': 'Killers Lazy', 'rating': 3, 'producer': 'Rise Corporation'}\n",
      "{'title': 'Bad Thrones', 'rating': 1, 'producer': 'Comombia'}\n",
      "{'title': 'Redemption State', 'rating': 3, 'producer': '20th Century Studios'}\n",
      "{'title': 'Rise State', 'rating': 2, 'producer': 'Rise Corporation'}\n",
      "{'title': 'Redemption Bright Places', 'rating': 2, 'producer': '20th Century Studios'}\n",
      "{'title': 'Rise Lost', 'rating': 5, 'producer': '20th Century Studios'}\n",
      "{'title': 'State Tears', 'rating': 4, 'producer': 'Western Movie'}\n",
      "{'title': 'Lost Bright Places', 'rating': 3, 'producer': '20th Century Studios'}\n",
      "{'title': 'Bad Lazy', 'rating': 5, 'producer': 'Comombia'}\n",
      "{'title': 'Killers Lazy', 'rating': 4, 'producer': 'Rise Corporation'}\n",
      "{'title': 'Guys City', 'rating': 5, 'producer': 'Rise Corporation'}\n",
      "{'title': 'Thrones Lazy', 'rating': 1, 'producer': 'Fox Inc'}\n",
      "{'title': 'Bad Bad', 'rating': 4, 'producer': 'Rise Corporation'}\n",
      "{'title': 'Game Lazy', 'rating': 1, 'producer': 'Comombia'}\n",
      "{'title': 'City City', 'rating': 2, 'producer': '20th Century Studios'}\n",
      "{'title': 'Tears Dark Night', 'rating': 4, 'producer': 'Comombia'}\n",
      "{'title': 'Redemption King', 'rating': 3, 'producer': 'Western Movie'}\n",
      "{'title': 'Bright Places Lazy', 'rating': 3, 'producer': 'Comombia'}\n",
      "{'title': 'Bright Places Killers', 'rating': 3, 'producer': '20th Century Studios'}\n",
      "{'title': 'Guys Breaking', 'rating': 5, 'producer': 'Universal Pictures'}\n",
      "{'title': 'Rise Lazy', 'rating': 2, 'producer': 'Rise Corporation'}\n",
      "{'title': 'Big Tears', 'rating': 4, 'producer': '20th Century Studios'}\n",
      "{'title': 'Lazy Game', 'rating': 2, 'producer': 'Western Movie'}\n",
      "{'title': 'Dark Night Breaking', 'rating': 2, 'producer': 'Universal Pictures'}\n",
      "{'title': 'State Game', 'rating': 1, 'producer': 'Comombia'}\n",
      "{'title': 'King Lost', 'rating': 3, 'producer': 'Comombia'}\n",
      "{'title': 'Tears Killers', 'rating': 4, 'producer': 'Fox Inc'}\n",
      "{'title': 'Bright Places Big', 'rating': 2, 'producer': 'Western Movie'}\n",
      "{'title': 'Tears Game', 'rating': 3, 'producer': 'Fox Inc'}\n",
      "{'title': 'Big Lost', 'rating': 1, 'producer': 'Universal Pictures'}\n",
      "{'title': 'Game Lost', 'rating': 1, 'producer': 'Comombia'}\n",
      "{'title': 'State Lost', 'rating': 2, 'producer': 'Western Movie'}\n",
      "{'title': 'King Rise', 'rating': 2, 'producer': 'Fox Inc'}\n",
      "{'title': 'City Bright Places', 'rating': 1, 'producer': 'Western Movie'}\n",
      "{'title': 'Guys City', 'rating': 1, 'producer': 'Universal Pictures'}\n",
      "{'title': 'Bad Killers', 'rating': 4, 'producer': 'Comombia'}\n",
      "{'title': 'Bright Places State', 'rating': 3, 'producer': 'Universal Pictures'}\n",
      "{'title': 'Thrones Tears', 'rating': 3, 'producer': 'Western Movie'}\n",
      "{'title': 'Breaking Bright Places', 'rating': 1, 'producer': 'Rise Corporation'}\n",
      "{'title': 'Dark Night Bad', 'rating': 4, 'producer': 'Comombia'}\n",
      "{'title': 'King Thrones', 'rating': 3, 'producer': '20th Century Studios'}\n",
      "{'title': 'State Tears', 'rating': 1, 'producer': 'Fox Inc'}\n",
      "{'title': 'Breaking Breaking', 'rating': 4, 'producer': '20th Century Studios'}\n",
      "{'title': 'King Rise', 'rating': 5, 'producer': 'Rise Corporation'}\n",
      "{'title': 'City City', 'rating': 1, 'producer': 'Fox Inc'}\n",
      "{'title': 'City Game', 'rating': 3, 'producer': 'Western Movie'}\n",
      "{'title': 'Redemption Bad', 'rating': 1, 'producer': 'Fox Inc'}\n",
      "{'title': 'Killers Redemption', 'rating': 1, 'producer': '20th Century Studios'}\n",
      "{'title': 'Dark Night Guys', 'rating': 4, 'producer': 'Universal Pictures'}\n",
      "{'title': 'Guys Killers', 'rating': 2, 'producer': '20th Century Studios'}\n",
      "{'title': 'Dark Night State', 'rating': 4, 'producer': 'Western Movie'}\n",
      "{'title': 'State Rise', 'rating': 4, 'producer': 'Universal Pictures'}\n",
      "{'title': 'Rise Bright Places', 'rating': 2, 'producer': 'Universal Pictures'}\n",
      "{'title': 'Game Game', 'rating': 4, 'producer': '20th Century Studios'}\n",
      "{'title': 'Game Game', 'rating': 5, 'producer': 'Rise Corporation'}\n",
      "{'title': 'Redemption City', 'rating': 2, 'producer': 'Universal Pictures'}\n",
      "{'title': 'Thrones Game', 'rating': 1, 'producer': 'Comombia'}\n",
      "{'title': 'City King', 'rating': 1, 'producer': 'Western Movie'}\n",
      "{'title': 'Thrones Big', 'rating': 5, 'producer': '20th Century Studios'}\n",
      "{'title': 'Redemption Breaking', 'rating': 3, 'producer': 'Fox Inc'}\n",
      "{'title': 'Killers Big', 'rating': 4, 'producer': 'Fox Inc'}\n",
      "{'title': 'Guys Guys', 'rating': 1, 'producer': '20th Century Studios'}\n",
      "{'title': 'Big Guys', 'rating': 3, 'producer': 'Comombia'}\n",
      "{'title': 'City Killers', 'rating': 3, 'producer': 'Rise Corporation'}\n",
      "{'title': 'Lost King', 'rating': 3, 'producer': 'Universal Pictures'}\n",
      "{'title': 'Thrones Lazy', 'rating': 4, 'producer': 'Western Movie'}\n",
      "{'title': 'State Lost', 'rating': 2, 'producer': 'Western Movie'}\n",
      "{'title': 'Bad Dark Night', 'rating': 4, 'producer': 'Fox Inc'}\n",
      "{'title': 'King Guys', 'rating': 4, 'producer': 'Western Movie'}\n",
      "{'title': 'Redemption Tears', 'rating': 4, 'producer': 'Fox Inc'}\n",
      "{'title': 'Big Tears', 'rating': 2, 'producer': 'Comombia'}\n",
      "{'title': 'Lazy Killers', 'rating': 1, 'producer': '20th Century Studios'}\n",
      "{'title': 'Breaking Bright Places', 'rating': 4, 'producer': 'Rise Corporation'}\n",
      "{'title': 'Guys Big', 'rating': 5, 'producer': 'Rise Corporation'}\n",
      "{'title': 'Game Redemption', 'rating': 2, 'producer': 'Fox Inc'}\n",
      "{'title': 'Guys Bad', 'rating': 4, 'producer': '20th Century Studios'}\n",
      "{'title': 'Guys Dark Night', 'rating': 3, 'producer': 'Fox Inc'}\n",
      "{'title': 'Lazy Dark Night', 'rating': 2, 'producer': 'Rise Corporation'}\n",
      "{'title': 'Bright Places Game', 'rating': 5, 'producer': 'Western Movie'}\n",
      "{'title': 'Breaking City', 'rating': 2, 'producer': 'Rise Corporation'}\n",
      "{'title': 'City Big', 'rating': 5, 'producer': 'Universal Pictures'}\n",
      "{'title': 'Bad Redemption', 'rating': 1, 'producer': 'Comombia'}\n",
      "{'title': 'Bright Places Bad', 'rating': 2, 'producer': 'Western Movie'}\n",
      "{'title': 'Game Thrones', 'rating': 4, 'producer': 'Comombia'}\n",
      "{'title': 'Game Bright Places', 'rating': 4, 'producer': 'Comombia'}\n",
      "{'title': 'Lazy Tears', 'rating': 5, 'producer': 'Western Movie'}\n",
      "{'title': 'City State', 'rating': 2, 'producer': 'Fox Inc'}\n",
      "{'title': 'Dark Night Redemption', 'rating': 2, 'producer': '20th Century Studios'}\n",
      "{'title': 'Bright Places Dark Night', 'rating': 2, 'producer': 'Western Movie'}\n",
      "{'title': 'King King', 'rating': 5, 'producer': 'Western Movie'}\n",
      "{'title': 'Killers Lost', 'rating': 2, 'producer': 'Comombia'}\n",
      "{'title': 'Game Game', 'rating': 3, 'producer': 'Rise Corporation'}\n",
      "{'title': 'Bad Bad', 'rating': 1, 'producer': 'Universal Pictures'}\n",
      "{'title': 'Redemption State', 'rating': 2, 'producer': '20th Century Studios'}\n",
      "{'title': 'Bright Places Tears', 'rating': 4, 'producer': 'Universal Pictures'}\n",
      "{'title': 'Lost Lazy', 'rating': 4, 'producer': 'Fox Inc'}\n",
      "{'title': 'City Bright Places', 'rating': 3, 'producer': '20th Century Studios'}\n",
      "{'title': 'King Redemption', 'rating': 2, 'producer': 'Western Movie'}\n",
      "{'title': 'Redemption Rise', 'rating': 1, 'producer': 'Fox Inc'}\n",
      "{'title': 'City Tears', 'rating': 2, 'producer': 'Fox Inc'}\n",
      "{'title': 'Lazy King', 'rating': 3, 'producer': 'Fox Inc'}\n",
      "{'title': 'Dark Night Redemption', 'rating': 3, 'producer': 'Western Movie'}\n",
      "{'title': 'Dark Night King', 'rating': 4, 'producer': '20th Century Studios'}\n",
      "{'title': 'City Thrones', 'rating': 3, 'producer': '20th Century Studios'}\n",
      "{'title': 'Breaking Lost', 'rating': 4, 'producer': 'Fox Inc'}\n",
      "{'title': 'Thrones State', 'rating': 2, 'producer': 'Rise Corporation'}\n",
      "{'title': 'Killers State', 'rating': 2, 'producer': '20th Century Studios'}\n",
      "{'title': 'Big State', 'rating': 3, 'producer': 'Western Movie'}\n",
      "{'title': 'Bad Tears', 'rating': 4, 'producer': 'Comombia'}\n",
      "{'title': 'Bright Places Dark Night', 'rating': 4, 'producer': 'Rise Corporation'}\n",
      "{'title': 'Breaking Lazy', 'rating': 2, 'producer': 'Comombia'}\n",
      "{'title': 'Game King', 'rating': 1, 'producer': 'Fox Inc'}\n",
      "{'title': 'Redemption Thrones', 'rating': 3, 'producer': 'Universal Pictures'}\n",
      "{'title': 'Thrones Guys', 'rating': 3, 'producer': 'Fox Inc'}\n",
      "{'title': 'City Rise', 'rating': 5, 'producer': 'Rise Corporation'}\n",
      "{'title': 'Big Bright Places', 'rating': 3, 'producer': 'Comombia'}\n",
      "{'title': 'Lost Dark Night', 'rating': 4, 'producer': 'Universal Pictures'}\n",
      "{'title': 'Tears Tears', 'rating': 5, 'producer': 'Western Movie'}\n",
      "{'title': 'Thrones Big', 'rating': 4, 'producer': 'Fox Inc'}\n",
      "{'title': 'Breaking City', 'rating': 2, 'producer': 'Rise Corporation'}\n",
      "{'title': 'Rise Guys', 'rating': 5, 'producer': 'Comombia'}\n",
      "{'title': 'Tears Tears', 'rating': 3, 'producer': 'Rise Corporation'}\n",
      "{'title': 'Killers Bad', 'rating': 1, 'producer': 'Universal Pictures'}\n",
      "{'title': 'Bright Places King', 'rating': 2, 'producer': 'Fox Inc'}\n",
      "{'title': 'Bright Places Breaking', 'rating': 1, 'producer': 'Comombia'}\n",
      "{'title': 'Guys Tears', 'rating': 1, 'producer': 'Rise Corporation'}\n",
      "{'title': 'Lazy Game', 'rating': 2, 'producer': 'Comombia'}\n",
      "{'title': 'Breaking Lost', 'rating': 4, 'producer': 'Western Movie'}\n",
      "{'title': 'Rise Tears', 'rating': 3, 'producer': '20th Century Studios'}\n",
      "{'title': 'King Bad', 'rating': 2, 'producer': 'Western Movie'}\n",
      "{'title': 'Killers Guys', 'rating': 4, 'producer': 'Rise Corporation'}\n",
      "{'title': 'Big Lazy', 'rating': 5, 'producer': 'Rise Corporation'}\n",
      "{'title': 'Guys Killers', 'rating': 5, 'producer': 'Fox Inc'}\n",
      "{'title': 'Redemption Big', 'rating': 4, 'producer': 'Rise Corporation'}\n",
      "{'title': 'Big Bright Places', 'rating': 1, 'producer': 'Universal Pictures'}\n",
      "{'title': 'Tears Breaking', 'rating': 3, 'producer': 'Universal Pictures'}\n",
      "{'title': 'Breaking Thrones', 'rating': 5, 'producer': 'Universal Pictures'}\n",
      "{'title': 'Rise City', 'rating': 2, 'producer': 'Comombia'}\n",
      "{'title': 'Bad Lost', 'rating': 5, 'producer': 'Comombia'}\n",
      "{'title': 'Bright Places Dark Night', 'rating': 1, 'producer': 'Fox Inc'}\n",
      "{'title': 'Game Tears', 'rating': 1, 'producer': 'Fox Inc'}\n",
      "{'title': 'City Breaking', 'rating': 1, 'producer': 'Western Movie'}\n",
      "{'title': 'Redemption Guys', 'rating': 2, 'producer': '20th Century Studios'}\n",
      "{'title': 'Rise Big', 'rating': 2, 'producer': 'Universal Pictures'}\n",
      "{'title': 'Guys King', 'rating': 1, 'producer': 'Western Movie'}\n",
      "{'title': 'Guys Bad', 'rating': 2, 'producer': 'Rise Corporation'}\n",
      "{'title': 'Game Breaking', 'rating': 3, 'producer': 'Fox Inc'}\n",
      "{'title': 'King Dark Night', 'rating': 1, 'producer': 'Universal Pictures'}\n",
      "{'title': 'Thrones Lazy', 'rating': 4, 'producer': 'Western Movie'}\n",
      "{'title': 'Dark Night Redemption', 'rating': 3, 'producer': 'Universal Pictures'}\n",
      "{'title': 'Lost Lost', 'rating': 2, 'producer': 'Fox Inc'}\n",
      "{'title': 'City City', 'rating': 4, 'producer': 'Universal Pictures'}\n",
      "{'title': 'Redemption Dark Night', 'rating': 5, 'producer': 'Fox Inc'}\n",
      "{'title': 'Lazy Bad', 'rating': 4, 'producer': 'Comombia'}\n",
      "{'title': 'Bad Lost', 'rating': 1, 'producer': 'Comombia'}\n",
      "{'title': 'Big Big', 'rating': 2, 'producer': 'Universal Pictures'}\n",
      "{'title': 'Tears Killers', 'rating': 3, 'producer': 'Fox Inc'}\n",
      "{'title': 'Redemption Redemption', 'rating': 4, 'producer': 'Universal Pictures'}\n",
      "{'title': 'Killers Dark Night', 'rating': 1, 'producer': '20th Century Studios'}\n",
      "{'title': 'Dark Night Thrones', 'rating': 3, 'producer': 'Western Movie'}\n",
      "{'title': 'Redemption Breaking', 'rating': 4, 'producer': 'Western Movie'}\n",
      "{'title': 'Game State', 'rating': 2, 'producer': 'Western Movie'}\n",
      "{'title': 'Dark Night Lost', 'rating': 2, 'producer': 'Rise Corporation'}\n",
      "{'title': 'State King', 'rating': 3, 'producer': 'Universal Pictures'}\n",
      "{'title': 'Lost Rise', 'rating': 3, 'producer': '20th Century Studios'}\n",
      "{'title': 'Big Dark Night', 'rating': 4, 'producer': '20th Century Studios'}\n",
      "{'title': 'City Bad', 'rating': 4, 'producer': 'Universal Pictures'}\n",
      "{'title': 'Big Rise', 'rating': 3, 'producer': 'Comombia'}\n",
      "{'title': 'Lazy Dark Night', 'rating': 2, 'producer': 'Comombia'}\n",
      "{'title': 'Big Thrones', 'rating': 5, 'producer': '20th Century Studios'}\n",
      "{'title': 'Lost City', 'rating': 5, 'producer': 'Fox Inc'}\n",
      "{'title': 'Killers Redemption', 'rating': 4, 'producer': 'Western Movie'}\n",
      "{'title': 'Thrones Redemption', 'rating': 2, 'producer': 'Rise Corporation'}\n",
      "{'title': 'City Tears', 'rating': 5, 'producer': 'Fox Inc'}\n",
      "{'title': 'Rise Dark Night', 'rating': 1, 'producer': 'Comombia'}\n",
      "{'title': 'Bad Dark Night', 'rating': 1, 'producer': 'Rise Corporation'}\n",
      "{'title': 'City Dark Night', 'rating': 1, 'producer': 'Fox Inc'}\n",
      "{'title': 'Dark Night Tears', 'rating': 5, 'producer': '20th Century Studios'}\n",
      "{'title': 'City Rise', 'rating': 5, 'producer': 'Comombia'}\n",
      "{'title': 'Breaking Breaking', 'rating': 5, 'producer': 'Comombia'}\n",
      "{'title': 'Thrones Killers', 'rating': 5, 'producer': 'Western Movie'}\n",
      "{'title': 'State Bad', 'rating': 1, 'producer': '20th Century Studios'}\n",
      "{'title': 'Lazy Bright Places', 'rating': 4, 'producer': 'Universal Pictures'}\n",
      "{'title': 'King Bright Places', 'rating': 5, 'producer': '20th Century Studios'}\n",
      "{'title': 'Breaking Bad', 'rating': 1, 'producer': 'Rise Corporation'}\n",
      "{'title': 'Redemption City', 'rating': 4, 'producer': 'Rise Corporation'}\n",
      "{'title': 'Bad Redemption', 'rating': 1, 'producer': 'Western Movie'}\n",
      "{'title': 'Bright Places Bright Places', 'rating': 2, 'producer': 'Western Movie'}\n",
      "{'title': 'Breaking Thrones', 'rating': 4, 'producer': 'Universal Pictures'}\n",
      "{'title': 'Game Tears', 'rating': 2, 'producer': 'Fox Inc'}\n",
      "{'title': 'King Lost', 'rating': 4, 'producer': 'Fox Inc'}\n",
      "{'title': 'King Killers', 'rating': 4, 'producer': 'Rise Corporation'}\n",
      "{'title': 'Tears Guys', 'rating': 1, 'producer': 'Rise Corporation'}\n",
      "{'title': 'Thrones Tears', 'rating': 3, 'producer': 'Fox Inc'}\n",
      "{'title': 'Bright Places Killers', 'rating': 2, 'producer': 'Rise Corporation'}\n",
      "{'title': 'Lazy King', 'rating': 2, 'producer': 'Rise Corporation'}\n",
      "{'title': 'Bad Bad', 'rating': 4, 'producer': 'Western Movie'}\n",
      "{'title': 'Redemption Killers', 'rating': 2, 'producer': 'Comombia'}\n",
      "{'title': 'Lost City', 'rating': 4, 'producer': 'Comombia'}\n",
      "{'title': 'King King', 'rating': 2, 'producer': 'Comombia'}\n",
      "{'title': 'Big Bright Places', 'rating': 4, 'producer': 'Rise Corporation'}\n",
      "{'title': 'King Rise', 'rating': 4, 'producer': '20th Century Studios'}\n",
      "{'title': 'Tears Big', 'rating': 4, 'producer': 'Comombia'}\n",
      "{'title': 'King Thrones', 'rating': 2, 'producer': 'Fox Inc'}\n",
      "{'title': 'Lazy King', 'rating': 4, 'producer': 'Western Movie'}\n",
      "{'title': 'City King', 'rating': 5, 'producer': 'Universal Pictures'}\n",
      "{'title': 'Tears Bright Places', 'rating': 3, 'producer': 'Comombia'}\n",
      "{'title': 'King Big', 'rating': 1, 'producer': '20th Century Studios'}\n",
      "{'title': 'King Dark Night', 'rating': 3, 'producer': 'Universal Pictures'}\n",
      "{'title': 'Dark Night King', 'rating': 5, 'producer': 'Comombia'}\n",
      "{'title': 'Redemption King', 'rating': 1, 'producer': 'Rise Corporation'}\n",
      "{'title': 'Lazy King', 'rating': 2, 'producer': 'Western Movie'}\n",
      "{'title': 'State Rise', 'rating': 4, 'producer': 'Fox Inc'}\n",
      "{'title': 'Bad Game', 'rating': 5, 'producer': 'Comombia'}\n",
      "{'title': 'Rise City', 'rating': 3, 'producer': '20th Century Studios'}\n",
      "{'title': 'Lost Redemption', 'rating': 1, 'producer': 'Rise Corporation'}\n",
      "{'title': 'Guys Thrones', 'rating': 4, 'producer': 'Fox Inc'}\n",
      "{'title': 'Bright Places Bad', 'rating': 2, 'producer': 'Fox Inc'}\n",
      "{'title': 'King Big', 'rating': 5, 'producer': 'Universal Pictures'}\n",
      "{'title': 'Big Guys', 'rating': 4, 'producer': 'Universal Pictures'}\n",
      "{'title': 'Killers City', 'rating': 2, 'producer': 'Rise Corporation'}\n",
      "{'title': 'Killers Killers', 'rating': 3, 'producer': 'Rise Corporation'}\n",
      "{'title': 'Killers Bright Places', 'rating': 1, 'producer': 'Rise Corporation'}\n",
      "{'title': 'Guys Big', 'rating': 3, 'producer': 'Fox Inc'}\n",
      "{'title': 'King State', 'rating': 5, 'producer': 'Universal Pictures'}\n",
      "{'title': 'State Tears', 'rating': 4, 'producer': 'Universal Pictures'}\n",
      "{'title': 'Lazy Redemption', 'rating': 1, 'producer': 'Universal Pictures'}\n",
      "{'title': 'City City', 'rating': 1, 'producer': 'Fox Inc'}\n",
      "{'title': 'City Bright Places', 'rating': 4, 'producer': 'Comombia'}\n",
      "{'title': 'King State', 'rating': 4, 'producer': '20th Century Studios'}\n",
      "{'title': 'Bright Places Game', 'rating': 2, 'producer': 'Western Movie'}\n",
      "{'title': 'Killers Thrones', 'rating': 4, 'producer': '20th Century Studios'}\n",
      "{'title': 'Guys Rise', 'rating': 3, 'producer': 'Fox Inc'}\n",
      "{'title': 'City Thrones', 'rating': 4, 'producer': 'Fox Inc'}\n",
      "{'title': 'Game Dark Night', 'rating': 3, 'producer': 'Fox Inc'}\n",
      "{'title': 'Game Game', 'rating': 4, 'producer': '20th Century Studios'}\n",
      "{'title': 'Tears City', 'rating': 2, 'producer': 'Comombia'}\n",
      "{'title': 'Bad Redemption', 'rating': 5, 'producer': 'Western Movie'}\n",
      "{'title': 'State Dark Night', 'rating': 4, 'producer': 'Fox Inc'}\n",
      "{'title': 'State Killers', 'rating': 5, 'producer': '20th Century Studios'}\n",
      "{'title': 'City Big', 'rating': 4, 'producer': 'Rise Corporation'}\n",
      "{'title': 'Bright Places Bright Places', 'rating': 2, 'producer': 'Comombia'}\n",
      "{'title': 'Game City', 'rating': 3, 'producer': 'Western Movie'}\n",
      "{'title': 'Big Killers', 'rating': 5, 'producer': '20th Century Studios'}\n",
      "{'title': 'Breaking Dark Night', 'rating': 5, 'producer': 'Comombia'}\n",
      "{'title': 'City Bright Places', 'rating': 5, 'producer': 'Universal Pictures'}\n",
      "{'title': 'Big State', 'rating': 2, 'producer': '20th Century Studios'}\n",
      "{'title': 'Dark Night Thrones', 'rating': 5, 'producer': 'Universal Pictures'}\n",
      "{'title': 'City Lost', 'rating': 1, 'producer': 'Western Movie'}\n",
      "{'title': 'Bright Places Redemption', 'rating': 5, 'producer': '20th Century Studios'}\n",
      "{'title': 'Thrones Rise', 'rating': 3, 'producer': '20th Century Studios'}\n",
      "{'title': 'Redemption Lost', 'rating': 5, 'producer': 'Comombia'}\n",
      "{'title': 'Bright Places Lazy', 'rating': 1, 'producer': '20th Century Studios'}\n",
      "{'title': 'Guys Redemption', 'rating': 5, 'producer': 'Universal Pictures'}\n",
      "{'title': 'Game Big', 'rating': 4, 'producer': 'Universal Pictures'}\n",
      "{'title': 'Killers Game', 'rating': 1, 'producer': 'Universal Pictures'}\n",
      "{'title': 'Guys Redemption', 'rating': 2, 'producer': 'Fox Inc'}\n",
      "{'title': 'Thrones Rise', 'rating': 5, 'producer': 'Comombia'}\n",
      "{'title': 'Thrones City', 'rating': 5, 'producer': 'Universal Pictures'}\n",
      "{'title': 'Killers Bright Places', 'rating': 3, 'producer': 'Fox Inc'}\n",
      "{'title': 'King Lazy', 'rating': 2, 'producer': 'Universal Pictures'}\n",
      "{'title': 'Killers Thrones', 'rating': 2, 'producer': 'Rise Corporation'}\n",
      "{'title': 'State Bad', 'rating': 2, 'producer': 'Comombia'}\n",
      "{'title': 'Game City', 'rating': 2, 'producer': 'Rise Corporation'}\n",
      "{'title': 'Guys King', 'rating': 4, 'producer': 'Universal Pictures'}\n",
      "{'title': 'King Bad', 'rating': 3, 'producer': 'Rise Corporation'}\n",
      "{'title': 'Bright Places Big', 'rating': 5, 'producer': 'Western Movie'}\n",
      "{'title': 'Breaking Tears', 'rating': 5, 'producer': '20th Century Studios'}\n",
      "{'title': 'Killers Guys', 'rating': 3, 'producer': 'Comombia'}\n",
      "{'title': 'Breaking Guys', 'rating': 3, 'producer': 'Universal Pictures'}\n",
      "{'title': 'Breaking Lost', 'rating': 5, 'producer': 'Comombia'}\n",
      "{'title': 'Lost City', 'rating': 4, 'producer': 'Western Movie'}\n",
      "{'title': 'Breaking City', 'rating': 4, 'producer': 'Universal Pictures'}\n",
      "{'title': 'Bright Places Dark Night', 'rating': 4, 'producer': 'Comombia'}\n",
      "{'title': 'Thrones Redemption', 'rating': 1, 'producer': 'Fox Inc'}\n",
      "{'title': 'Breaking Game', 'rating': 4, 'producer': '20th Century Studios'}\n",
      "{'title': 'Lazy Bad', 'rating': 2, 'producer': 'Fox Inc'}\n",
      "{'title': 'Bright Places Killers', 'rating': 1, 'producer': 'Fox Inc'}\n",
      "{'title': 'Game Big', 'rating': 4, 'producer': 'Rise Corporation'}\n",
      "{'title': 'Bright Places Game', 'rating': 4, 'producer': 'Comombia'}\n",
      "{'title': 'Dark Night Bright Places', 'rating': 3, 'producer': 'Universal Pictures'}\n",
      "{'title': 'Lazy Lost', 'rating': 4, 'producer': 'Fox Inc'}\n",
      "{'title': 'Big City', 'rating': 2, 'producer': 'Fox Inc'}\n",
      "{'title': 'Lazy Bright Places', 'rating': 5, 'producer': 'Western Movie'}\n",
      "{'title': 'Lazy Thrones', 'rating': 3, 'producer': 'Comombia'}\n",
      "{'title': 'Killers Tears', 'rating': 2, 'producer': 'Comombia'}\n",
      "{'title': 'Bad Rise', 'rating': 5, 'producer': 'Comombia'}\n",
      "{'title': 'Big Big', 'rating': 5, 'producer': 'Universal Pictures'}\n",
      "{'title': 'City Killers', 'rating': 4, 'producer': '20th Century Studios'}\n",
      "{'title': 'State King', 'rating': 5, 'producer': '20th Century Studios'}\n",
      "{'title': 'Bright Places Rise', 'rating': 5, 'producer': 'Universal Pictures'}\n",
      "{'title': 'Rise Rise', 'rating': 4, 'producer': 'Fox Inc'}\n",
      "{'title': 'State Lost', 'rating': 1, 'producer': '20th Century Studios'}\n",
      "{'title': 'Thrones Lazy', 'rating': 4, 'producer': 'Rise Corporation'}\n",
      "{'title': 'Dark Night Lost', 'rating': 3, 'producer': 'Universal Pictures'}\n",
      "{'title': 'Tears Redemption', 'rating': 5, 'producer': 'Fox Inc'}\n",
      "{'title': 'Killers Big', 'rating': 5, 'producer': 'Comombia'}\n",
      "{'title': 'Bright Places Lazy', 'rating': 5, 'producer': 'Universal Pictures'}\n",
      "{'title': 'Lost City', 'rating': 3, 'producer': 'Comombia'}\n",
      "{'title': 'Big Tears', 'rating': 4, 'producer': 'Universal Pictures'}\n",
      "{'title': 'Lost Breaking', 'rating': 2, 'producer': '20th Century Studios'}\n",
      "{'title': 'City Lost', 'rating': 3, 'producer': 'Universal Pictures'}\n",
      "{'title': 'City Thrones', 'rating': 4, 'producer': 'Rise Corporation'}\n",
      "{'title': 'Bad Dark Night', 'rating': 2, 'producer': 'Rise Corporation'}\n",
      "{'title': 'Redemption City', 'rating': 2, 'producer': 'Universal Pictures'}\n",
      "{'title': 'Tears Dark Night', 'rating': 5, 'producer': '20th Century Studios'}\n",
      "{'title': 'Big Lazy', 'rating': 1, 'producer': 'Fox Inc'}\n",
      "{'title': 'Lost Lost', 'rating': 5, 'producer': 'Universal Pictures'}\n",
      "{'title': 'Bad Rise', 'rating': 4, 'producer': 'Western Movie'}\n",
      "{'title': 'Breaking Dark Night', 'rating': 5, 'producer': '20th Century Studios'}\n",
      "{'title': 'City Redemption', 'rating': 2, 'producer': 'Western Movie'}\n",
      "{'title': 'Lost Dark Night', 'rating': 5, 'producer': 'Fox Inc'}\n",
      "{'title': 'Killers Dark Night', 'rating': 2, 'producer': 'Comombia'}\n",
      "{'title': 'Lazy City', 'rating': 2, 'producer': 'Comombia'}\n",
      "{'title': 'Dark Night Big', 'rating': 3, 'producer': 'Rise Corporation'}\n",
      "{'title': 'Guys King', 'rating': 4, 'producer': 'Fox Inc'}\n",
      "{'title': 'Big Killers', 'rating': 2, 'producer': 'Universal Pictures'}\n",
      "{'title': 'Breaking State', 'rating': 1, 'producer': 'Fox Inc'}\n",
      "{'title': 'Guys Guys', 'rating': 3, 'producer': 'Fox Inc'}\n",
      "{'title': 'Big Lazy', 'rating': 4, 'producer': 'Fox Inc'}\n",
      "{'title': 'Big Killers', 'rating': 4, 'producer': 'Universal Pictures'}\n",
      "{'title': 'Lost City', 'rating': 2, 'producer': 'Rise Corporation'}\n",
      "{'title': 'Breaking Dark Night', 'rating': 4, 'producer': 'Comombia'}\n",
      "{'title': 'Breaking Thrones', 'rating': 5, 'producer': 'Western Movie'}\n",
      "{'title': 'Bright Places Game', 'rating': 4, 'producer': 'Universal Pictures'}\n",
      "{'title': 'City Dark Night', 'rating': 5, 'producer': 'Western Movie'}\n",
      "{'title': 'State Rise', 'rating': 2, 'producer': 'Comombia'}\n",
      "{'title': 'Killers Tears', 'rating': 2, 'producer': 'Western Movie'}\n",
      "{'title': 'Big Lost', 'rating': 3, 'producer': 'Western Movie'}\n",
      "{'title': 'State Thrones', 'rating': 5, 'producer': 'Rise Corporation'}\n",
      "{'title': 'Redemption Thrones', 'rating': 1, 'producer': 'Rise Corporation'}\n",
      "{'title': 'Breaking Rise', 'rating': 1, 'producer': 'Comombia'}\n",
      "{'title': 'King Killers', 'rating': 3, 'producer': 'Fox Inc'}\n",
      "{'title': 'State Redemption', 'rating': 4, 'producer': 'Fox Inc'}\n",
      "{'title': 'Rise Breaking', 'rating': 3, 'producer': '20th Century Studios'}\n",
      "{'title': 'State King', 'rating': 1, 'producer': 'Universal Pictures'}\n",
      "{'title': 'Guys City', 'rating': 5, 'producer': 'Rise Corporation'}\n",
      "{'title': 'State Guys', 'rating': 3, 'producer': 'Fox Inc'}\n",
      "{'title': 'Game Lazy', 'rating': 3, 'producer': 'Rise Corporation'}\n",
      "{'title': 'Bad Big', 'rating': 2, 'producer': 'Comombia'}\n",
      "{'title': 'Lost Big', 'rating': 5, 'producer': 'Comombia'}\n",
      "{'title': 'Bad Guys', 'rating': 5, 'producer': '20th Century Studios'}\n",
      "{'title': 'Bad Rise', 'rating': 4, 'producer': 'Universal Pictures'}\n",
      "{'title': 'Big Redemption', 'rating': 2, 'producer': 'Comombia'}\n",
      "{'title': 'Breaking City', 'rating': 3, 'producer': '20th Century Studios'}\n",
      "{'title': 'Redemption Killers', 'rating': 5, 'producer': 'Rise Corporation'}\n",
      "{'title': 'Dark Night Dark Night', 'rating': 3, 'producer': 'Western Movie'}\n",
      "{'title': 'City Lazy', 'rating': 1, 'producer': '20th Century Studios'}\n",
      "{'title': 'Breaking Redemption', 'rating': 3, 'producer': 'Fox Inc'}\n",
      "{'title': 'Redemption Bad', 'rating': 3, 'producer': 'Western Movie'}\n",
      "{'title': 'Lazy Thrones', 'rating': 4, 'producer': 'Universal Pictures'}\n",
      "{'title': 'Killers State', 'rating': 1, 'producer': 'Comombia'}\n",
      "{'title': 'Tears King', 'rating': 4, 'producer': 'Universal Pictures'}\n",
      "{'title': 'Bright Places Bright Places', 'rating': 5, 'producer': 'Comombia'}\n",
      "{'title': 'Lazy Dark Night', 'rating': 4, 'producer': 'Fox Inc'}\n",
      "{'title': 'Lost Redemption', 'rating': 1, 'producer': 'Fox Inc'}\n",
      "{'title': 'Rise Big', 'rating': 5, 'producer': '20th Century Studios'}\n",
      "{'title': 'Big Breaking', 'rating': 2, 'producer': 'Rise Corporation'}\n",
      "{'title': 'Killers Tears', 'rating': 5, 'producer': 'Rise Corporation'}\n",
      "{'title': 'Game Big', 'rating': 4, 'producer': 'Comombia'}\n",
      "{'title': 'Big Thrones', 'rating': 2, 'producer': 'Comombia'}\n",
      "{'title': 'Guys Rise', 'rating': 1, 'producer': 'Rise Corporation'}\n",
      "{'title': 'Dark Night Rise', 'rating': 3, 'producer': 'Comombia'}\n",
      "{'title': 'Lazy Bright Places', 'rating': 4, 'producer': 'Comombia'}\n",
      "{'title': 'Breaking Lazy', 'rating': 2, 'producer': 'Western Movie'}\n",
      "{'title': 'Dark Night King', 'rating': 4, 'producer': 'Fox Inc'}\n",
      "{'title': 'Redemption Dark Night', 'rating': 4, 'producer': 'Rise Corporation'}\n",
      "{'title': 'Redemption Big', 'rating': 3, 'producer': 'Universal Pictures'}\n",
      "{'title': 'Tears Thrones', 'rating': 1, 'producer': 'Western Movie'}\n",
      "{'title': 'Bright Places Guys', 'rating': 2, 'producer': 'Universal Pictures'}\n",
      "{'title': 'Breaking Dark Night', 'rating': 1, 'producer': 'Western Movie'}\n",
      "{'title': 'King Bright Places', 'rating': 2, 'producer': 'Universal Pictures'}\n",
      "{'title': 'Lazy Redemption', 'rating': 2, 'producer': 'Universal Pictures'}\n",
      "{'title': 'Redemption Big', 'rating': 2, 'producer': 'Rise Corporation'}\n",
      "{'title': 'City Rise', 'rating': 5, 'producer': 'Western Movie'}\n",
      "{'title': 'Killers State', 'rating': 2, 'producer': 'Western Movie'}\n",
      "{'title': 'Tears Killers', 'rating': 2, 'producer': 'Comombia'}\n",
      "{'title': 'Breaking Redemption', 'rating': 4, 'producer': 'Rise Corporation'}\n",
      "{'title': 'City Thrones', 'rating': 3, 'producer': 'Western Movie'}\n",
      "{'title': 'King State', 'rating': 1, 'producer': 'Rise Corporation'}\n",
      "{'title': 'Thrones Lazy', 'rating': 2, 'producer': 'Fox Inc'}\n",
      "{'title': 'Lazy Tears', 'rating': 4, 'producer': 'Fox Inc'}\n",
      "{'title': 'Lost Killers', 'rating': 5, 'producer': '20th Century Studios'}\n",
      "{'title': 'Game Lazy', 'rating': 3, 'producer': 'Rise Corporation'}\n",
      "{'title': 'City Tears', 'rating': 5, 'producer': 'Western Movie'}\n",
      "{'title': 'King Bad', 'rating': 3, 'producer': 'Western Movie'}\n",
      "{'title': 'King Game', 'rating': 5, 'producer': 'Western Movie'}\n",
      "{'title': 'Lazy Lost', 'rating': 3, 'producer': 'Western Movie'}\n",
      "{'title': 'Tears Bad', 'rating': 2, 'producer': 'Universal Pictures'}\n"
     ]
    }
   ],
   "source": [
    "titles = ['Killers','Breaking','Bright Places','Lost','King','Game','State', 'Tears', 'Big','City','Dark Night', 'Rise','Redemption', 'Bad','Guys','Lazy', 'Thrones']\n",
    "company_type = ['Comombia','Western Movie','Fox Inc','Rise Corporation','Universal Pictures','20th Century Studios']\n",
    "\n",
    "movReviews=[]\n",
    "\n",
    "for x in range(1, 501):\n",
    "    movrev = {\n",
    "        'title' : titles[randint(0, (len(titles)-1))] + ' ' + titles[randint(0, (len(titles)-1))],\n",
    "        'rating' : randint(1, 5),\n",
    "        'producer' :company_type[randint(0, (len(company_type)-1))]\n",
    "    }\n",
    "    \n",
    "    print(movrev)\n",
    "    movReviews.append(movrev)\n",
    "\n",
    "#print(len(movReviews))\n",
    "#print(movReviews[1])"
   ]
  },
  {
   "cell_type": "markdown",
   "metadata": {},
   "source": [
    "##### Create the DB and the collection alongside with inserting documents in this collection."
   ]
  },
  {
   "cell_type": "code",
   "execution_count": null,
   "metadata": {},
   "outputs": [],
   "source": [
    "#Step 1: Connect to MongoDB - Note: Change connection string as needed\n",
    "client = MongoClient(port=27017)\n",
    "\n",
    "#create the DB 'movrevs'\n",
    "movrevsDb=client.movrevs\n",
    "#Step 2: Create sample data\n",
    "\n",
    "for idx, movrev in enumerate(movReviews):\n",
    "    #Step 3: Insert business object directly into MongoDB via isnert_one\n",
    "    result=movrevsDb.reviews.insert_one(movrev)\n",
    "    #Step 4: Print to the console the ObjectID of the new document\n",
    "    print('Created {0} of 500 as {1}'.format(idx,result.inserted_id))\n",
    "\n",
    "#Step 5: Tell us that you are done\n",
    "print('finished creating 500 movie reviews')"
   ]
  },
  {
   "cell_type": "code",
   "execution_count": 379,
   "metadata": {},
   "outputs": [],
   "source": [
    "# #Step 1: Connect to MongoDB - Note: Change connection string as needed\n",
    "# client = MongoClient(port=27017)\n",
    "\n",
    "# db=client.business\n",
    "# #Step 2: Create sample data\n",
    "# names = ['Kitchen','Animal','State', 'Tastey', 'Big','City','Fish', 'Pizza','Goat', 'Salty','Sandwich','Lazy', 'Fun']\n",
    "# company_type = ['LLC','Inc','Company','Corporation']\n",
    "# company_cuisine = ['Pizza', 'Bar Food', 'Fast Food', 'Italian', 'Mexican', 'American', 'Sushi Bar', 'Vegetarian']\n",
    "# for x in range(1, 501):\n",
    "#     business = {\n",
    "#         'name' : names[randint(0, (len(names)-1))] + ' ' + names[randint(0, (len(names)-1))]  + ' ' + company_type[randint(0, (len(company_type)-1))],\n",
    "#         'rating' : randint(1, 5),\n",
    "#         'cuisine' : company_cuisine[randint(0, (len(company_cuisine)-1))] \n",
    "#     }\n",
    "#     #Step 3: Insert business object directly into MongoDB via isnert_one\n",
    "#     result=db.reviews.insert_one(business)\n",
    "#     #Step 4: Print to the console the ObjectID of the new document\n",
    "#     print('Created {0} of 500 as {1}'.format(x,result.inserted_id))\n",
    "# #Step 5: Tell us that you are done\n",
    "# print('finished creating 500 business reviews')"
   ]
  },
  {
   "cell_type": "markdown",
   "metadata": {},
   "source": [
    "#### find the first occuernce of a review with a rating =5 "
   ]
  },
  {
   "cell_type": "code",
   "execution_count": 380,
   "metadata": {},
   "outputs": [
    {
     "name": "stdout",
     "output_type": "stream",
     "text": [
      "{'_id': ObjectId('5f4cc0f76877049b11af8310'), 'title': 'Bad Redemption', 'rating': 5, 'producer': 'Western Movie'}\n"
     ]
    }
   ],
   "source": [
    "fivestarFirst = movrevsDb.reviews.find_one({'rating': 5})\n",
    "print(fivestarFirst)"
   ]
  },
  {
   "cell_type": "markdown",
   "metadata": {},
   "source": [
    "#### Check if there is a movie with a title 'City Rise' "
   ]
  },
  {
   "cell_type": "code",
   "execution_count": 449,
   "metadata": {},
   "outputs": [
    {
     "name": "stdout",
     "output_type": "stream",
     "text": [
      "{'title': 'Bad Redemption', 'rating': 5, 'producer': '20th Century Studios'}\n"
     ]
    }
   ],
   "source": [
    "\n",
    "x= movrevsDb.reviews.find_one({'title': 'Bad Redemption' },{'_id': 0})\n",
    "print(x)"
   ]
  },
  {
   "cell_type": "markdown",
   "metadata": {},
   "source": [
    "#### get the count of reviews with a rating =5 "
   ]
  },
  {
   "cell_type": "code",
   "execution_count": 422,
   "metadata": {},
   "outputs": [
    {
     "name": "stdout",
     "output_type": "stream",
     "text": [
      "106\n"
     ]
    }
   ],
   "source": [
    "fivestarcount = movrevsDb.reviews.find({'rating': 5}).count()\n",
    "print(fivestarcount)"
   ]
  },
  {
   "cell_type": "markdown",
   "metadata": {},
   "source": [
    "#### get the 'sum' of each rating occurance across all data grouped by rating, sorted by the 'rating'"
   ]
  },
  {
   "cell_type": "code",
   "execution_count": 386,
   "metadata": {},
   "outputs": [
    {
     "name": "stdout",
     "output_type": "stream",
     "text": [
      "\n",
      "The sum of each rating occurance across all data grouped by rating \n",
      "{'_id': 2, 'count': 102}\n",
      "{'_id': 3, 'count': 109}\n",
      "{'_id': 4, 'count': 95}\n",
      "{'_id': 5, 'count': 106}\n"
     ]
    }
   ],
   "source": [
    "print('\\nThe sum of each rating occurance across all data grouped by rating ')\n",
    "stargroup=movrevsDb.reviews.aggregate(\n",
    "# The Aggregation Pipeline is defined as an array of different operations\n",
    "[\n",
    "# The first stage in this pipe is to group data\n",
    "{ '$group':\n",
    "    { '_id': \"$rating\",\n",
    "     \"count\" : \n",
    "                 { '$sum' :1 }\n",
    "    }\n",
    "},\n",
    "# The second stage in this pipe is to sort the data\n",
    "{\"$sort\":  { \"_id\":1}\n",
    "}\n",
    "# Close the array with the ] tag             \n",
    "] )\n",
    "\n",
    "# Print the result\n",
    "for group in stargroup:\n",
    "    print(group)"
   ]
  },
  {
   "cell_type": "markdown",
   "metadata": {},
   "source": [
    "#### get the 'Average' rating of movies produced by each company, sorted by the average 'rating'"
   ]
  },
  {
   "cell_type": "code",
   "execution_count": 444,
   "metadata": {},
   "outputs": [
    {
     "name": "stdout",
     "output_type": "stream",
     "text": [
      "[ 20th Century Studios WITH 5] -> 1\n",
      "[ Comombia WITH 3] -> 22\n",
      "[ Comombia WITH 2] -> 18\n",
      "[ Western Movie WITH 5] -> 23\n",
      "[ Western Movie WITH 3] -> 22\n",
      "[ Comombia WITH 4] -> 21\n",
      "[ Western Movie WITH 4] -> 17\n",
      "[ Rise Corporation WITH 3] -> 16\n",
      "[ Fox Inc WITH 3] -> 26\n",
      "[ Universal Pictures WITH 3] -> 23\n",
      "[ Rise Corporation WITH 2] -> 23\n",
      "[ Comombia WITH 5] -> 24\n",
      "[ Universal Pictures WITH 5] -> 23\n",
      "[ Fox Inc WITH 4] -> 10\n",
      "[ Fox Inc WITH 5] -> 14\n",
      "[ Rise Corporation WITH 4] -> 26\n",
      "[ Universal Pictures WITH 2] -> 21\n",
      "[ Western Movie WITH 2] -> 16\n",
      "[ Fox Inc WITH 2] -> 24\n",
      "[ Universal Pictures WITH 4] -> 21\n",
      "[ Rise Corporation WITH 5] -> 21\n"
     ]
    }
   ],
   "source": [
    "for x in movrevsDb.reviews.aggregate([\n",
    "    \n",
    "    { '$group':\n",
    "    { '_id': {\n",
    "        'producer':\"$producer\",\n",
    "        'rating':\"$rating\"\n",
    "    },\n",
    "     \"countofMovies\" : { '$sum' :1 }\n",
    "    }}\n",
    "    \n",
    "]):\n",
    "    print('[ {0} WITH {1}] -> {2}'.format(x.get('_id').get('producer'), x.get('_id').get('rating'), x.get ('countofMovies')))"
   ]
  },
  {
   "cell_type": "markdown",
   "metadata": {},
   "source": [
    "#### Get the number of the movies by producer and rating"
   ]
  },
  {
   "cell_type": "code",
   "execution_count": 429,
   "metadata": {},
   "outputs": [
    {
     "name": "stdout",
     "output_type": "stream",
     "text": [
      "{'_id': '20th Century Studios', 'avgRating': 5.0}\n",
      "{'_id': 'Western Movie', 'avgRating': 3.6025641025641026}\n",
      "{'_id': 'Comombia', 'avgRating': 3.6}\n",
      "{'_id': 'Rise Corporation', 'avgRating': 3.5232558139534884}\n",
      "{'_id': 'Universal Pictures', 'avgRating': 3.522727272727273}\n",
      "{'_id': 'Fox Inc', 'avgRating': 3.189189189189189}\n"
     ]
    }
   ],
   "source": [
    "for x in movrevsDb.reviews.aggregate([\n",
    "    \n",
    "    { '$group':\n",
    "        { '_id': \"$producer\",\n",
    "         \"avgRating\" : \n",
    "                     { '$avg' :\"$rating\" }\n",
    "        }},\n",
    "    \n",
    "    {\"$sort\":  { \"avgRating\":-1}\n",
    "    }\n",
    "    \n",
    "]):\n",
    "    print(x)"
   ]
  },
  {
   "cell_type": "markdown",
   "metadata": {},
   "source": [
    "#### update all the first occurence of a review with a rating =5, change the \"producer\" to be '20th Century Studios'"
   ]
  },
  {
   "cell_type": "code",
   "execution_count": 383,
   "metadata": {},
   "outputs": [
    {
     "name": "stdout",
     "output_type": "stream",
     "text": [
      "Number of documents modified : 1\n",
      "\n",
      " after update:\n",
      " {'_id': ObjectId('5f4cc0f76877049b11af8310'), 'title': 'Bad Redemption', 'rating': 5, 'producer': '20th Century Studios'}\n"
     ]
    }
   ],
   "source": [
    "result = movrevsDb.reviews.update_one({'_id' : fivestarFirst.get('_id') }, {'$set': {'producer': '20th Century Studios'}})\n",
    "print('Number of documents modified : ' + str(result.modified_count))\n",
    "\n",
    "print(\"\\n after update:\\n\",movrevsDb.reviews.find_one({'_id' : fivestarFirst.get('_id') }))"
   ]
  },
  {
   "cell_type": "markdown",
   "metadata": {},
   "source": [
    "#### Notice that the original document did not have the “likes” field and an update allowed us to easily add the field to the document. This ability to dynamically add keys without the hassle of costly Alter_Table statements is the power of MongoDB’s flexible data model. It makes rapid application development a reality."
   ]
  },
  {
   "cell_type": "markdown",
   "metadata": {},
   "source": [
    "##### Delete all movie documents in the 'reviews' collection where the rating less than 2"
   ]
  },
  {
   "cell_type": "code",
   "execution_count": 385,
   "metadata": {},
   "outputs": [
    {
     "name": "stdout",
     "output_type": "stream",
     "text": [
      "88\n",
      "88\n"
     ]
    }
   ],
   "source": [
    "lowRatedMovies = movrevsDb.reviews.find({'rating': {'$lt':2} }).count()\n",
    "print(lowRatedMovies)\n",
    "\n",
    "# This will delete all the documents with a rating less than 2\n",
    "result = movrevsDb.reviews.delete_many({'rating': {'$lt':2}})\n",
    "print(result.deleted_count)"
   ]
  },
  {
   "cell_type": "markdown",
   "metadata": {},
   "source": [
    "#### Drop the collection reviews from the database bisiness"
   ]
  },
  {
   "cell_type": "code",
   "execution_count": 334,
   "metadata": {},
   "outputs": [],
   "source": [
    "movrevsDb.reviews.drop()"
   ]
  }
 ],
 "metadata": {
  "kernelspec": {
   "display_name": "Python 3",
   "language": "python",
   "name": "python3"
  },
  "language_info": {
   "codemirror_mode": {
    "name": "ipython",
    "version": 3
   },
   "file_extension": ".py",
   "mimetype": "text/x-python",
   "name": "python",
   "nbconvert_exporter": "python",
   "pygments_lexer": "ipython3",
   "version": "3.7.3"
  }
 },
 "nbformat": 4,
 "nbformat_minor": 2
}
