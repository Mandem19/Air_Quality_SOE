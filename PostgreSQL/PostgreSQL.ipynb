{
 "cells": [
  {
   "cell_type": "markdown",
   "metadata": {},
   "source": [
    "# Introduction:\n",
    "\n",
    "### PostgreSQL:\n",
    "   <a href=\"https://www.postgresql.org/\">PostgreSQL</a> is a powerful, open source object-relational database system with over 30 years of active development that has earned it a strong reputation for reliability, feature robustness, and performance. (<b>According to official website of PostgreSQL Database</b>)<br/>\n",
    "   \n",
    "- PostgreSQL offecial documentation (https://www.postgresql.org/docs/9.3/index.html)\n",
    "    - pdf version of last release(https://www.postgresql.org/files/documentation/pdf/12/postgresql-12-A4.pdf)\n",
    "\n",
    "<img src=\"https://www.postgresql.org/media/img/about/press/elephant.png\" width =\"100\" height=\"75\">\n",
    "\n",
    "\n",
    "### Relational DB Structure \n",
    "- A relational database consists of a collection of tables, each having a unique name.\n",
    "- A row in a table represents a relationship among a set of values.\n",
    "- Thus a table represents a collection of relationships. \n",
    "<img src =\"https://icon-library.com/images/relational-database-icon/relational-database-icon-15.jpg\" width =\"300\" height=\"60\">\n",
    "\n",
    "\n",
    "###  Structured Query Language (SQL)\n",
    "\n",
    "<a href='https://en.wikipedia.org/wiki/SQL'>SQL </a> is used to communicate with a database. SQL is the standard language for relational database management systems. SQL statements are used to perform tasks such as update data on a database, or retrieve data from a database. \n",
    "\n",
    "Some common relational database management systems that use SQL are: Oracle, Sybase, Microsoft SQL Server, Access, Ingres. However, the standard SQL commands such as \"Select\", \"Insert\", \"Update\", \"Delete\", \"Create\", and \"Drop\" can be used to accomplish almost everything that one needs to do with a database. This tutorial will provide you with the instruction on the basics of each of these commands as well as allow you to put them to practice using the SQL Interpreter.\n",
    "\n",
    "- First Steps with SQL can be followed from this <a href='https://www.sqltutorial.org/sql-cheat-sheet/'>link </a>.\n"
   ]
  },
  {
   "cell_type": "markdown",
   "metadata": {},
   "source": [
    "### PreLab\n",
    "\n",
    "#### 1. Install PostgreSQL on Windows\n",
    "- Download and Install PostgreSQL for all platforms (https://www.enterprisedb.com/downloads/postgres-postgresql-downloads) \n",
    "- Follow this Video (https://www.youtube.com/watch?v=RAFZleZYxsc) for mode details (Windows installation).\n",
    "\n",
    "\n",
    "#### 2. Install the Python Package to connecto to PostgreSQL \"<a href='https://www.psycopg.org/docs/usage.html'>psycopg2 </a>\"\n",
    "- use th command ```pip install psycopg2``` in your command line.\n",
    "\n",
    "\n",
    "#### (Extra) Accessing PostgreSQL from Command Line:\n",
    "- Add the PostgreSQL  installation \"/home\" and \"/bin\" directories to the enviroment variables.\n",
    "- use the command ```psql -U postgres postgres``` to connect to the the by-default created database \"postgres\" with the user \"postgres\".\n",
    "- Enter your set \"postgres\" password (i.e password of the default password that you have been asked at the time of installtion).\n"
   ]
  },
  {
   "cell_type": "code",
   "execution_count": null,
   "metadata": {},
   "outputs": [],
   "source": [
    "! pip install psycopg2"
   ]
  },
  {
   "cell_type": "code",
   "execution_count": 15,
   "metadata": {},
   "outputs": [],
   "source": [
    "import psycopg2\n",
    "import pandas as pd\n",
    "import pandas.io.sql as psql\n",
    "from psycopg2.extensions import ISOLATION_LEVEL_AUTOCOMMIT"
   ]
  },
  {
   "cell_type": "markdown",
   "metadata": {},
   "source": [
    "### Task 1 Create a simple RDB model for the \n",
    "\n",
    "This is  a toy DB about movies and actors who played roles in these movies. DB is consisted of  \n",
    "\n",
    "- A \"Person\" table who has a unique id, and a name fields.\n",
    "- Another \"Movie\" table that has a unique id, a title, a country where it was made, and a year when it was released.\n",
    "\n",
    "- There is (m-n) or \"many-many\" relationship between these two tables (i.e basically, many actors can act in many movies, and the movie include many actors)\n",
    "- Therefore, we use the \"Roles\" table in which we can deduct which person has acted in which movie, and what role(s) they played.\n"
   ]
  },
  {
   "cell_type": "markdown",
   "metadata": {},
   "source": [
    "<img src=\"RDBSchema.png\" alt=\"3\" border=\"0\">"
   ]
  },
  {
   "cell_type": "code",
   "execution_count": 3,
   "metadata": {},
   "outputs": [
    {
     "name": "stdout",
     "output_type": "stream",
     "text": [
      "Connected Successfully!!\n",
      "Database Already Exists!!\n"
     ]
    }
   ],
   "source": [
    "# import the PostgreSQL client for Python\n",
    "\n",
    "try:\n",
    "    con = psycopg2.connect(user = \"postgres\",\n",
    "                                  password = \"engmohamed\",\n",
    "                                  host = \"127.0.0.1\",\n",
    "                                  port = \"5432\")\n",
    "    \n",
    "    con.set_isolation_level(ISOLATION_LEVEL_AUTOCOMMIT);\n",
    "    print(\"Connected Successfully!!\")\n",
    "    \n",
    "    # Obtain a DB Cursor\n",
    "    cursor          = con.cursor();\n",
    "except (Exception, psycopg2.Error) as error :\n",
    "     print (\"Error while connecting to PostgreSQL\", error)\n",
    "\n",
    "    \n",
    "name_Database   = \"moviedb\";    \n",
    "# Create DB statement\n",
    "sqlCreateDatabase = \"create database \"+name_Database+\";\"\n",
    "try:\n",
    "    cursor.execute(sqlCreateDatabase);\n",
    "    print(\"Database '\"+ name_Database+\"' Created Successfully!\")\n",
    "except:\n",
    "    print(\"Database Already Exists!!\")\n",
    "\n",
    "cursor.close() #close the cusrsor\n",
    "con.close() #close the connection/ we will open a new connection to the created DB"
   ]
  },
  {
   "cell_type": "code",
   "execution_count": 37,
   "metadata": {},
   "outputs": [],
   "source": [
    "# get a new connection but this time point to the created \"moviedb\".\n",
    "con = psycopg2.connect(user = \"postgres\",\n",
    "                              password = \"engmohamed\",\n",
    "                              host = \"127.0.0.1\",\n",
    "                              port = \"5432\",\n",
    "                              database = \"moviedb\")\n",
    "\n",
    "# Obtain a new DB Cursor (to \"movieDb\" )\n",
    "cursor = con.cursor();"
   ]
  },
  {
   "cell_type": "markdown",
   "metadata": {},
   "source": [
    "### Creating  the DB Tables"
   ]
  },
  {
   "cell_type": "code",
   "execution_count": 7,
   "metadata": {},
   "outputs": [
    {
     "name": "stdout",
     "output_type": "stream",
     "text": [
      "Table (person) already Existed! \n",
      "Table (movie) already Existed!\n",
      "Table (roles) already Existed! \n"
     ]
    }
   ],
   "source": [
    "\n",
    "#Create Person Table\n",
    "try:\n",
    "    personTable=\"person\"\n",
    "    create_persontable_query = '''CREATE TABLE '''+ personTable+''' \n",
    "              (id INT  PRIMARY KEY     NOT NULL,\n",
    "               Name           TEXT    NOT NULL); '''\n",
    "\n",
    "    cursor.execute(create_persontable_query)\n",
    "    con.commit()\n",
    "    print(\"Table (\"+ personTable +\") created successfully in PostgreSQL \")\n",
    "except:\n",
    "    con.rollback()\n",
    "    print(\"Table (\"+ personTable +\") already Existed! \")\n",
    "\n",
    "#Create Movies Table\n",
    "try:\n",
    "    movieTable=\"movie\"\n",
    "    create_movietable_query = '''CREATE TABLE '''+ movieTable+''' \n",
    "              (id INT  PRIMARY KEY     NOT NULL,\n",
    "               title          TEXT    NOT NULL,\n",
    "               country        TEXT,\n",
    "               year           INT\n",
    "               ); '''\n",
    "\n",
    "    cursor.execute(create_movietable_query)\n",
    "    con.commit()\n",
    "    print(\"Table (\"+ movieTable +\") created successfully in PostgreSQL \")\n",
    "except:\n",
    "    print(\"Table (\"+ movieTable +\") already Existed!\")\n",
    "\n",
    "#Create Roles Table\n",
    "try:\n",
    "    rolesTable=\"roles\"\n",
    "    create_rolestable_query = '''CREATE TABLE '''+ rolesTable+''' \n",
    "              (personId INT REFERENCES person(id)  ON UPDATE CASCADE ON DELETE CASCADE,\n",
    "               movieId  INT REFERENCES movie(id)   ON UPDATE CASCADE ON DELETE CASCADE,\n",
    "               role     TEXT    NOT NULL,\n",
    "               CONSTRAINT person_movie_pkey PRIMARY KEY (personId, movieId)\n",
    "               ); '''\n",
    "\n",
    "    cursor.execute(create_rolestable_query)\n",
    "    con.commit()\n",
    "    print(\"Table (\"+ rolesTable +\") created successfully in PostgreSQL \")\n",
    "except:\n",
    "    con.rollback()\n",
    "    print(\"Table (\"+ rolesTable +\") already Existed! \")\n"
   ]
  },
  {
   "cell_type": "code",
   "execution_count": null,
   "metadata": {},
   "outputs": [],
   "source": [
    "# ##Will be deleted\n",
    "\n",
    "# from psycopg2.extensions import ISOLATION_LEVEL_AUTOCOMMIT\n",
    "\n",
    "# try:\n",
    "#     connection = psycopg2.connect(user = \"postgres\",\n",
    "#                                   password = \"engmohamed\",\n",
    "#                                   host = \"127.0.0.1\",\n",
    "#                                   port = \"5432\",\n",
    "#                                   database = \"socialmedia\")\n",
    "    \n",
    "#     connection.set_isolation_level(ISOLATION_LEVEL_AUTOCOMMIT);\n",
    "\n",
    "#     cursor = connection.cursor()\n",
    "    \n",
    "#     name_Database   = \"socialmedai\";\n",
    "    \n",
    "#     sqlCreateDatabase = \"create database \"+name_Database+\";\"\n",
    "    \n",
    "#     cursor.execute(sqlCreateDatabase);\n",
    "    \n",
    "    \n",
    "# except (Exception, psycopg2.Error) as error :\n",
    "#     print (\"Error while connecting to PostgreSQL\", error)\n",
    "# finally:\n",
    "#     #closing database connection.\n",
    "#       #  if(connection):\n",
    "#        #     cursor.close()\n",
    "#        #     connection.close()\n",
    "#             print(\"PostgreSQL connection is closed\")\n",
    "        "
   ]
  },
  {
   "cell_type": "code",
   "execution_count": null,
   "metadata": {},
   "outputs": [],
   "source": [
    "# ##Will be deleted\n",
    "\n",
    "# create_table_query = '''CREATE TABLE users\n",
    "#           (ID INT PRIMARY KEY     NOT NULL,\n",
    "#           Name           TEXT    NOT NULL,\n",
    "#           PWD         TEXT    NOT NULL); '''\n",
    "    \n",
    "# cursor.execute(create_table_query)\n",
    "# connection.commit()\n",
    "# print(\"Table created successfully in PostgreSQL \")"
   ]
  },
  {
   "cell_type": "markdown",
   "metadata": {},
   "source": [
    "# Inserting Rows in the Table (Single row insertion)"
   ]
  },
  {
   "cell_type": "code",
   "execution_count": 24,
   "metadata": {},
   "outputs": [
    {
     "name": "stdout",
     "output_type": "stream",
     "text": [
      "1 Record inserted successfully into person table\n"
     ]
    }
   ],
   "source": [
    "postgres_insert_query = \"\"\" INSERT INTO person (id,Name) VALUES (%s,%s)\"\"\"\n",
    "record_to_insert = (1,'Mohamed Ragab')\n",
    "cursor.execute(postgres_insert_query, record_to_insert)\n",
    "\n",
    "con.commit()\n",
    "count = cursor.rowcount\n",
    "print (count, \"Record inserted successfully into person table\")"
   ]
  },
  {
   "cell_type": "code",
   "execution_count": null,
   "metadata": {},
   "outputs": [],
   "source": [
    "# ###Will be deleted\n",
    "# postgres_insert_query = \"\"\" INSERT INTO users (ID, Name, PWD) VALUES (%s,%s,%s)\"\"\"\n",
    "# record_to_insert = (1, 'MohamedRagab', '12345')\n",
    "# cursor.execute(postgres_insert_query, record_to_insert)\n",
    "\n",
    "# connection.commit()\n",
    "# count = cursor.rowcount\n",
    "# print (count, \"Record inserted successfully into mobile table\")"
   ]
  },
  {
   "cell_type": "markdown",
   "metadata": {},
   "source": [
    "# Inserting Multiple Rows to the Table"
   ]
  },
  {
   "cell_type": "code",
   "execution_count": 35,
   "metadata": {},
   "outputs": [
    {
     "name": "stdout",
     "output_type": "stream",
     "text": [
      "3 Record inserted successfully into person table\n"
     ]
    }
   ],
   "source": [
    "sql = \"INSERT INTO person  (id,Name) VALUES(%s,%s)\"\n",
    "\n",
    "persons_List=[\n",
    "        (2,\"John Smith\"),\n",
    "        (3,\"Aisha Kareem\"),\n",
    "        (4,\"Oscar Lime\") ]\n",
    "\n",
    "# execute the INSERT statement\n",
    "cursor.executemany(sql,persons_List)\n",
    "# commit the changes to the database\n",
    "con.commit()\n",
    "\n",
    "count = cursor.rowcount\n",
    "print (count, \"Record inserted successfully into person table\")"
   ]
  },
  {
   "cell_type": "code",
   "execution_count": 36,
   "metadata": {},
   "outputs": [
    {
     "name": "stdout",
     "output_type": "stream",
     "text": [
      "3 Record inserted successfully into movie table\n"
     ]
    }
   ],
   "source": [
    "sql = \"INSERT INTO movie  (id,title,country,year) VALUES(%s,%s,%s,%s)\"\n",
    "\n",
    "movie_List=[\n",
    "    (1,\"Wall Street\",\"USA\",1987),\n",
    "    (2,\"The American President\",\"USA\",1995),\n",
    "    (3,\"The Shawshank Redemption\",\"USA\",1994)\n",
    "        ]\n",
    "\n",
    "# execute the INSERT statement\n",
    "cursor.executemany(sql,movie_List)\n",
    "# commit the changes to the database\n",
    "con.commit()\n",
    "\n",
    "count = cursor.rowcount\n",
    "print (count, \"Record inserted successfully into movie table\")"
   ]
  },
  {
   "cell_type": "code",
   "execution_count": 44,
   "metadata": {},
   "outputs": [
    {
     "name": "stdout",
     "output_type": "stream",
     "text": [
      "6 Record inserted successfully into Roles table\n"
     ]
    }
   ],
   "source": [
    "sql = \"INSERT INTO roles  (personId,movieId,role) VALUES(%s,%s,%s)\"\n",
    "\n",
    "roles_List=[\n",
    "    (1,1,\"Bud Fox\"),\n",
    "    (2,1,\"Carl Fox\"),\n",
    "    (3,1,\"Gordon Gekko\"),\n",
    "    (2,2,\"A.J. MacInerney\"),\n",
    "    (3,2,\"President Andrew Shepherd\"),\n",
    "    (4,3,\"Ellis Boyd 'Red' Redding\")\n",
    "        ]\n",
    "try:\n",
    "    \n",
    "    # execute the INSERT statement\n",
    "    cursor.executemany(sql,roles_List)\n",
    "    # commit the changes to the database\n",
    "    con.commit()\n",
    "except (Exception, psycopg2.Error) as error :\n",
    "    con.rollback()\n",
    "    print (\"Error while connecting to PostgreSQL\", error)\n",
    "    \n",
    "finally:\n",
    "    \n",
    "    count = cursor.rowcount\n",
    "    print (count, \"Record inserted successfully into Roles table\")"
   ]
  },
  {
   "cell_type": "code",
   "execution_count": null,
   "metadata": {},
   "outputs": [],
   "source": [
    "# sql = \"INSERT INTO users  (ID,Name,PWD) VALUES(%s,%s,%s)\"\n",
    "\n",
    "# users_List=[\n",
    "#         (2,\"John Smith\",\"46564\"),\n",
    "#         (3,\"AishaKareem\",\"9577\"),\n",
    "#         (4,\"OscarLime\",\"9999\") ]\n",
    "\n",
    "# # execute the INSERT statement\n",
    "# cursor.executemany(sql,users_List)\n",
    "# # commit the changes to the database\n",
    "# connection.commit()\n"
   ]
  },
  {
   "cell_type": "markdown",
   "metadata": {},
   "source": [
    "## Querying our Data"
   ]
  },
  {
   "cell_type": "markdown",
   "metadata": {},
   "source": [
    "### Get all the Persons in the DB"
   ]
  },
  {
   "cell_type": "code",
   "execution_count": 59,
   "metadata": {},
   "outputs": [
    {
     "name": "stdout",
     "output_type": "stream",
     "text": [
      "Print each row and it's columns values\n",
      "Id =  3\n",
      "Name  =  Martin Sheen \n",
      "\n",
      "Id =  4\n",
      "Name  =  Morgan Freeman \n",
      "\n",
      "Id =  5\n",
      "Name  =  Keanu Reeves \n",
      "\n",
      "Id =  6\n",
      "Name  =  Carrie-Anne Moss \n",
      "\n",
      "Id =  7\n",
      "Name  =  Laurence Fishburne \n",
      "\n",
      "Id =  8\n",
      "Name  =  Hugo Weaving \n",
      "\n",
      "Id =  9\n",
      "Name  =  Lilly Wachowski \n",
      "\n",
      "Id =  10\n",
      "Name  =  Lana Wachowski \n",
      "\n"
     ]
    }
   ],
   "source": [
    "sql_select_query = \"\"\"SELECT * FROM person\"\"\"\n",
    "cursor.execute(sql_select_query, (1,))\n",
    "person_records = cursor.fetchall() \n",
    "print(\"Print each row and it's columns values\")\n",
    "for row in person_records:\n",
    "    print(\"Id = \", row[0], )\n",
    "    print(\"Name  = \", row[1], \"\\n\")"
   ]
  },
  {
   "cell_type": "code",
   "execution_count": null,
   "metadata": {},
   "outputs": [],
   "source": [
    "# sql_select_query = \"\"\"SELECT * FROM users LIMIT 5\"\"\"\n",
    "# cursor.execute(sql_select_query, (1,))\n",
    "# user_records = cursor.fetchall() \n",
    "# print(\"Print each row and it's columns values\")\n",
    "# for row in user_records:\n",
    "#     print(\"Id = \", row[0], )\n",
    "#     print(\"Name = \", row[1])\n",
    "#     print(\"PWD  = \", row[2], \"\\n\")"
   ]
  },
  {
   "cell_type": "markdown",
   "metadata": {},
   "source": [
    "Note: In the above example, we used cursor.fetchall() to get all the rows of a database table.\n",
    "\n",
    "-    cursor.fetchall() to fetch all rows.\n",
    "-    cursor.fetchone() to fetch single row.\n",
    "-    cursor.fetchmany(SIZE) to fetch limited rows"
   ]
  },
  {
   "cell_type": "code",
   "execution_count": 9,
   "metadata": {},
   "outputs": [
    {
     "data": {
      "text/html": [
       "<style  type=\"text/css\" >\n",
       "</style><table id=\"T_9fcacf58_e877_11ea_b5d5_1062e559cd4d\" ><thead>    <tr>        <th class=\"col_heading level0 col0\" >id</th>        <th class=\"col_heading level0 col1\" >name</th>    </tr></thead><tbody>\n",
       "                <tr>\n",
       "                                <td id=\"T_9fcacf58_e877_11ea_b5d5_1062e559cd4drow0_col0\" class=\"data row0 col0\" >1</td>\n",
       "                        <td id=\"T_9fcacf58_e877_11ea_b5d5_1062e559cd4drow0_col1\" class=\"data row0 col1\" >Charlie Sheen</td>\n",
       "            </tr>\n",
       "            <tr>\n",
       "                                <td id=\"T_9fcacf58_e877_11ea_b5d5_1062e559cd4drow1_col0\" class=\"data row1 col0\" >2</td>\n",
       "                        <td id=\"T_9fcacf58_e877_11ea_b5d5_1062e559cd4drow1_col1\" class=\"data row1 col1\" >Micheal Douglas</td>\n",
       "            </tr>\n",
       "            <tr>\n",
       "                                <td id=\"T_9fcacf58_e877_11ea_b5d5_1062e559cd4drow2_col0\" class=\"data row2 col0\" >3</td>\n",
       "                        <td id=\"T_9fcacf58_e877_11ea_b5d5_1062e559cd4drow2_col1\" class=\"data row2 col1\" >Martin Sheen</td>\n",
       "            </tr>\n",
       "            <tr>\n",
       "                                <td id=\"T_9fcacf58_e877_11ea_b5d5_1062e559cd4drow3_col0\" class=\"data row3 col0\" >4</td>\n",
       "                        <td id=\"T_9fcacf58_e877_11ea_b5d5_1062e559cd4drow3_col1\" class=\"data row3 col1\" >Morgan Freeman</td>\n",
       "            </tr>\n",
       "    </tbody></table>"
      ],
      "text/plain": [
       "<pandas.io.formats.style.Styler at 0x2f2bf1df208>"
      ]
     },
     "metadata": {},
     "output_type": "display_data"
    }
   ],
   "source": [
    "#use Pandas to print the result in tabular form\n",
    "my_table    = pd.read_sql('select * from person', con)\n",
    "display(my_table.style.hide_index())\n"
   ]
  },
  {
   "cell_type": "code",
   "execution_count": 10,
   "metadata": {},
   "outputs": [
    {
     "data": {
      "text/html": [
       "<style  type=\"text/css\" >\n",
       "</style><table id=\"T_a11c0ac6_e877_11ea_93b4_1062e559cd4d\" ><thead>    <tr>        <th class=\"col_heading level0 col0\" >id</th>        <th class=\"col_heading level0 col1\" >name</th>    </tr></thead><tbody>\n",
       "                <tr>\n",
       "                                <td id=\"T_a11c0ac6_e877_11ea_93b4_1062e559cd4drow0_col0\" class=\"data row0 col0\" >1</td>\n",
       "                        <td id=\"T_a11c0ac6_e877_11ea_93b4_1062e559cd4drow0_col1\" class=\"data row0 col1\" >Charlie Sheen</td>\n",
       "            </tr>\n",
       "            <tr>\n",
       "                                <td id=\"T_a11c0ac6_e877_11ea_93b4_1062e559cd4drow1_col0\" class=\"data row1 col0\" >2</td>\n",
       "                        <td id=\"T_a11c0ac6_e877_11ea_93b4_1062e559cd4drow1_col1\" class=\"data row1 col1\" >Micheal Douglas</td>\n",
       "            </tr>\n",
       "            <tr>\n",
       "                                <td id=\"T_a11c0ac6_e877_11ea_93b4_1062e559cd4drow2_col0\" class=\"data row2 col0\" >3</td>\n",
       "                        <td id=\"T_a11c0ac6_e877_11ea_93b4_1062e559cd4drow2_col1\" class=\"data row2 col1\" >Martin Sheen</td>\n",
       "            </tr>\n",
       "            <tr>\n",
       "                                <td id=\"T_a11c0ac6_e877_11ea_93b4_1062e559cd4drow3_col0\" class=\"data row3 col0\" >4</td>\n",
       "                        <td id=\"T_a11c0ac6_e877_11ea_93b4_1062e559cd4drow3_col1\" class=\"data row3 col1\" >Morgan Freeman</td>\n",
       "            </tr>\n",
       "    </tbody></table>"
      ],
      "text/plain": [
       "<pandas.io.formats.style.Styler at 0x2f2c0276c88>"
      ]
     },
     "metadata": {},
     "output_type": "display_data"
    }
   ],
   "source": [
    "#OR\n",
    "another_attempt= psql.read_sql(\"SELECT * FROM person\", con)\n",
    "display(another_attempt.style.hide_index())"
   ]
  },
  {
   "cell_type": "markdown",
   "metadata": {},
   "source": [
    "### Sorting the Results\n",
    "\n",
    "#### Get All Movies , sorted from recent to old"
   ]
  },
  {
   "cell_type": "code",
   "execution_count": 17,
   "metadata": {},
   "outputs": [
    {
     "data": {
      "text/html": [
       "<style  type=\"text/css\" >\n",
       "</style><table id=\"T_eb94aee8_e877_11ea_af0b_1062e559cd4d\" ><thead>    <tr>        <th class=\"col_heading level0 col0\" >title</th>        <th class=\"col_heading level0 col1\" >year</th>    </tr></thead><tbody>\n",
       "                <tr>\n",
       "                                <td id=\"T_eb94aee8_e877_11ea_af0b_1062e559cd4drow0_col0\" class=\"data row0 col0\" >Wall Street</td>\n",
       "                        <td id=\"T_eb94aee8_e877_11ea_af0b_1062e559cd4drow0_col1\" class=\"data row0 col1\" >2000</td>\n",
       "            </tr>\n",
       "            <tr>\n",
       "                                <td id=\"T_eb94aee8_e877_11ea_af0b_1062e559cd4drow1_col0\" class=\"data row1 col0\" >The American President</td>\n",
       "                        <td id=\"T_eb94aee8_e877_11ea_af0b_1062e559cd4drow1_col1\" class=\"data row1 col1\" >1995</td>\n",
       "            </tr>\n",
       "            <tr>\n",
       "                                <td id=\"T_eb94aee8_e877_11ea_af0b_1062e559cd4drow2_col0\" class=\"data row2 col0\" >The Shawshank Redemption</td>\n",
       "                        <td id=\"T_eb94aee8_e877_11ea_af0b_1062e559cd4drow2_col1\" class=\"data row2 col1\" >1994</td>\n",
       "            </tr>\n",
       "    </tbody></table>"
      ],
      "text/plain": [
       "<pandas.io.formats.style.Styler at 0x2f2c02adeb8>"
      ]
     },
     "metadata": {},
     "output_type": "display_data"
    }
   ],
   "source": [
    "moviesOrdered = pd.read_sql(\n",
    "    '''SELECT title, year\n",
    "        FROM movie \n",
    "        ORDER BY year DESC\n",
    "     ''', con)\n",
    "\n",
    "display(moviesOrdered.style.hide_index())"
   ]
  },
  {
   "cell_type": "markdown",
   "metadata": {},
   "source": [
    "### Filtering the Results\n",
    "\n",
    "#### Get All Movies released in the 90s (after year (1990) and before 2000) ordered from old to recent."
   ]
  },
  {
   "cell_type": "code",
   "execution_count": 19,
   "metadata": {},
   "outputs": [
    {
     "data": {
      "text/html": [
       "<style  type=\"text/css\" >\n",
       "</style><table id=\"T_c3ac42da_e878_11ea_8f79_1062e559cd4d\" ><thead>    <tr>        <th class=\"col_heading level0 col0\" >title</th>        <th class=\"col_heading level0 col1\" >year</th>    </tr></thead><tbody>\n",
       "                <tr>\n",
       "                                <td id=\"T_c3ac42da_e878_11ea_8f79_1062e559cd4drow0_col0\" class=\"data row0 col0\" >The Shawshank Redemption</td>\n",
       "                        <td id=\"T_c3ac42da_e878_11ea_8f79_1062e559cd4drow0_col1\" class=\"data row0 col1\" >1994</td>\n",
       "            </tr>\n",
       "            <tr>\n",
       "                                <td id=\"T_c3ac42da_e878_11ea_8f79_1062e559cd4drow1_col0\" class=\"data row1 col0\" >The American President</td>\n",
       "                        <td id=\"T_c3ac42da_e878_11ea_8f79_1062e559cd4drow1_col1\" class=\"data row1 col1\" >1995</td>\n",
       "            </tr>\n",
       "    </tbody></table>"
      ],
      "text/plain": [
       "<pandas.io.formats.style.Styler at 0x2f2bf1df0b8>"
      ]
     },
     "metadata": {},
     "output_type": "display_data"
    }
   ],
   "source": [
    "movies90 = pd.read_sql(\n",
    "    '''SELECT title, year\n",
    "        FROM movie\n",
    "        WHERE year >1990 AND year <2000\n",
    "        ORDER BY year \n",
    "     ''', con)\n",
    "\n",
    "display(movies90.style.hide_index())"
   ]
  },
  {
   "cell_type": "markdown",
   "metadata": {},
   "source": [
    "### Querying from multiple tables"
   ]
  },
  {
   "cell_type": "markdown",
   "metadata": {},
   "source": [
    "#### Get Movies and Actors from your  \"movies\" DB"
   ]
  },
  {
   "cell_type": "code",
   "execution_count": 12,
   "metadata": {},
   "outputs": [
    {
     "data": {
      "text/html": [
       "<style  type=\"text/css\" >\n",
       "</style><table id=\"T_a7877110_e877_11ea_955e_1062e559cd4d\" ><thead>    <tr>        <th class=\"col_heading level0 col0\" >actor_name</th>        <th class=\"col_heading level0 col1\" >movie_title</th>    </tr></thead><tbody>\n",
       "                <tr>\n",
       "                                <td id=\"T_a7877110_e877_11ea_955e_1062e559cd4drow0_col0\" class=\"data row0 col0\" >Charlie Sheen</td>\n",
       "                        <td id=\"T_a7877110_e877_11ea_955e_1062e559cd4drow0_col1\" class=\"data row0 col1\" >Wall Street</td>\n",
       "            </tr>\n",
       "            <tr>\n",
       "                                <td id=\"T_a7877110_e877_11ea_955e_1062e559cd4drow1_col0\" class=\"data row1 col0\" >Micheal Douglas</td>\n",
       "                        <td id=\"T_a7877110_e877_11ea_955e_1062e559cd4drow1_col1\" class=\"data row1 col1\" >Wall Street</td>\n",
       "            </tr>\n",
       "            <tr>\n",
       "                                <td id=\"T_a7877110_e877_11ea_955e_1062e559cd4drow2_col0\" class=\"data row2 col0\" >Martin Sheen</td>\n",
       "                        <td id=\"T_a7877110_e877_11ea_955e_1062e559cd4drow2_col1\" class=\"data row2 col1\" >Wall Street</td>\n",
       "            </tr>\n",
       "            <tr>\n",
       "                                <td id=\"T_a7877110_e877_11ea_955e_1062e559cd4drow3_col0\" class=\"data row3 col0\" >Micheal Douglas</td>\n",
       "                        <td id=\"T_a7877110_e877_11ea_955e_1062e559cd4drow3_col1\" class=\"data row3 col1\" >The American President</td>\n",
       "            </tr>\n",
       "            <tr>\n",
       "                                <td id=\"T_a7877110_e877_11ea_955e_1062e559cd4drow4_col0\" class=\"data row4 col0\" >Martin Sheen</td>\n",
       "                        <td id=\"T_a7877110_e877_11ea_955e_1062e559cd4drow4_col1\" class=\"data row4 col1\" >The American President</td>\n",
       "            </tr>\n",
       "            <tr>\n",
       "                                <td id=\"T_a7877110_e877_11ea_955e_1062e559cd4drow5_col0\" class=\"data row5 col0\" >Morgan Freeman</td>\n",
       "                        <td id=\"T_a7877110_e877_11ea_955e_1062e559cd4drow5_col1\" class=\"data row5 col1\" >The Shawshank Redemption</td>\n",
       "            </tr>\n",
       "    </tbody></table>"
      ],
      "text/plain": [
       "<pandas.io.formats.style.Styler at 0x2f2c02adb70>"
      ]
     },
     "metadata": {},
     "output_type": "display_data"
    }
   ],
   "source": [
    "moviesActors = pd.read_sql(\n",
    "    '''SELECT person.name As Actor_Name, movie.title movie_Title\n",
    "       FROM roles\n",
    "       JOIN movie ON movie.id=movieId\n",
    "       JOIN person ON person.id=personId\n",
    "     ''', con)\n",
    "\n",
    "display(moviesActors.style.hide_index())"
   ]
  },
  {
   "cell_type": "markdown",
   "metadata": {},
   "source": [
    "### Aggregations in PostgreSQL\n",
    "\n",
    "#### Get count of \"Movies\" in your DB"
   ]
  },
  {
   "cell_type": "code",
   "execution_count": 13,
   "metadata": {},
   "outputs": [
    {
     "data": {
      "text/html": [
       "<style  type=\"text/css\" >\n",
       "</style><table id=\"T_ac38cee8_e877_11ea_8592_1062e559cd4d\" ><thead>    <tr>        <th class=\"col_heading level0 col0\" >movies_count</th>    </tr></thead><tbody>\n",
       "                <tr>\n",
       "                                <td id=\"T_ac38cee8_e877_11ea_8592_1062e559cd4drow0_col0\" class=\"data row0 col0\" >3</td>\n",
       "            </tr>\n",
       "    </tbody></table>"
      ],
      "text/plain": [
       "<pandas.io.formats.style.Styler at 0x2f2c02ade80>"
      ]
     },
     "metadata": {},
     "output_type": "display_data"
    }
   ],
   "source": [
    "count_table= pd.read_sql('SELECT COUNT(*) AS movies_Count FROM movie', con)\n",
    "\n",
    "display(count_table.style.hide_index())"
   ]
  },
  {
   "cell_type": "markdown",
   "metadata": {},
   "source": [
    "#### In this DB, for every \"Actor\" get the number of movies he played"
   ]
  },
  {
   "cell_type": "code",
   "execution_count": 14,
   "metadata": {},
   "outputs": [
    {
     "data": {
      "text/html": [
       "<style  type=\"text/css\" >\n",
       "</style><table id=\"T_af4f3c0c_e877_11ea_a5e0_1062e559cd4d\" ><thead>    <tr>        <th class=\"col_heading level0 col0\" >actor_name</th>        <th class=\"col_heading level0 col1\" >movies_played</th>    </tr></thead><tbody>\n",
       "                <tr>\n",
       "                                <td id=\"T_af4f3c0c_e877_11ea_a5e0_1062e559cd4drow0_col0\" class=\"data row0 col0\" >Micheal Douglas</td>\n",
       "                        <td id=\"T_af4f3c0c_e877_11ea_a5e0_1062e559cd4drow0_col1\" class=\"data row0 col1\" >2</td>\n",
       "            </tr>\n",
       "            <tr>\n",
       "                                <td id=\"T_af4f3c0c_e877_11ea_a5e0_1062e559cd4drow1_col0\" class=\"data row1 col0\" >Martin Sheen</td>\n",
       "                        <td id=\"T_af4f3c0c_e877_11ea_a5e0_1062e559cd4drow1_col1\" class=\"data row1 col1\" >2</td>\n",
       "            </tr>\n",
       "            <tr>\n",
       "                                <td id=\"T_af4f3c0c_e877_11ea_a5e0_1062e559cd4drow2_col0\" class=\"data row2 col0\" >Morgan Freeman</td>\n",
       "                        <td id=\"T_af4f3c0c_e877_11ea_a5e0_1062e559cd4drow2_col1\" class=\"data row2 col1\" >1</td>\n",
       "            </tr>\n",
       "            <tr>\n",
       "                                <td id=\"T_af4f3c0c_e877_11ea_a5e0_1062e559cd4drow3_col0\" class=\"data row3 col0\" >Charlie Sheen</td>\n",
       "                        <td id=\"T_af4f3c0c_e877_11ea_a5e0_1062e559cd4drow3_col1\" class=\"data row3 col1\" >1</td>\n",
       "            </tr>\n",
       "    </tbody></table>"
      ],
      "text/plain": [
       "<pandas.io.formats.style.Styler at 0x2f2c02ad1d0>"
      ]
     },
     "metadata": {},
     "output_type": "display_data"
    }
   ],
   "source": [
    "actorMoviesAgg= pd.read_sql(\n",
    "    '''SELECT person.name As Actor_Name, COUNT(movie.title) as movies_Played\n",
    "       FROM roles\n",
    "       JOIN movie ON movie.id=movieId\n",
    "       JOIN person ON person.id=personId\n",
    "       GROUP BY person.id;\n",
    "     ''', con)\n",
    "\n",
    "display(actorMoviesAgg.style.hide_index())"
   ]
  },
  {
   "cell_type": "markdown",
   "metadata": {},
   "source": [
    "#### In this DB, List the movies that every Actor Played\n",
    "<b>Hint:</b> use the aggregation function <b>\"ARRAY_AGG\"</b> to group movies as a list."
   ]
  },
  {
   "cell_type": "code",
   "execution_count": 15,
   "metadata": {},
   "outputs": [
    {
     "data": {
      "text/html": [
       "<style  type=\"text/css\" >\n",
       "</style><table id=\"T_b0ba5664_e877_11ea_a549_1062e559cd4d\" ><thead>    <tr>        <th class=\"col_heading level0 col0\" >actor_name</th>        <th class=\"col_heading level0 col1\" >movies_played</th>    </tr></thead><tbody>\n",
       "                <tr>\n",
       "                                <td id=\"T_b0ba5664_e877_11ea_a549_1062e559cd4drow0_col0\" class=\"data row0 col0\" >Charlie Sheen</td>\n",
       "                        <td id=\"T_b0ba5664_e877_11ea_a549_1062e559cd4drow0_col1\" class=\"data row0 col1\" >['Wall Street']</td>\n",
       "            </tr>\n",
       "            <tr>\n",
       "                                <td id=\"T_b0ba5664_e877_11ea_a549_1062e559cd4drow1_col0\" class=\"data row1 col0\" >Micheal Douglas</td>\n",
       "                        <td id=\"T_b0ba5664_e877_11ea_a549_1062e559cd4drow1_col1\" class=\"data row1 col1\" >['Wall Street', 'The American President']</td>\n",
       "            </tr>\n",
       "            <tr>\n",
       "                                <td id=\"T_b0ba5664_e877_11ea_a549_1062e559cd4drow2_col0\" class=\"data row2 col0\" >Martin Sheen</td>\n",
       "                        <td id=\"T_b0ba5664_e877_11ea_a549_1062e559cd4drow2_col1\" class=\"data row2 col1\" >['Wall Street', 'The American President']</td>\n",
       "            </tr>\n",
       "            <tr>\n",
       "                                <td id=\"T_b0ba5664_e877_11ea_a549_1062e559cd4drow3_col0\" class=\"data row3 col0\" >Morgan Freeman</td>\n",
       "                        <td id=\"T_b0ba5664_e877_11ea_a549_1062e559cd4drow3_col1\" class=\"data row3 col1\" >['The Shawshank Redemption']</td>\n",
       "            </tr>\n",
       "    </tbody></table>"
      ],
      "text/plain": [
       "<pandas.io.formats.style.Styler at 0x2f2c02ad2b0>"
      ]
     },
     "metadata": {},
     "output_type": "display_data"
    }
   ],
   "source": [
    "actorMoviesAggList= pd.read_sql(\n",
    "    '''SELECT person.name As Actor_Name, ARRAY_AGG(movie.title) as movies_Played\n",
    "       FROM roles\n",
    "       JOIN movie ON movie.id=movieId\n",
    "       JOIN person ON person.id=personId\n",
    "       GROUP BY person.id;\n",
    "     ''', con)\n",
    "\n",
    "display(actorMoviesAggList.style.hide_index())"
   ]
  },
  {
   "cell_type": "code",
   "execution_count": null,
   "metadata": {},
   "outputs": [],
   "source": [
    "# #use Pandas to print the result in tabular form\n",
    "# my_table    = pd.read_sql('select * from users', connection)\n",
    "\n",
    "# #OR\n",
    "# another_attempt= psql.read_sql(\"SELECT * FROM users\", connection)\n",
    "\n",
    "# display(my_table.style.hide_index())\n",
    "\n",
    "# display(another_attempt.style.hide_index())"
   ]
  },
  {
   "cell_type": "markdown",
   "metadata": {},
   "source": [
    "### UPDATE Table Data"
   ]
  },
  {
   "cell_type": "code",
   "execution_count": 25,
   "metadata": {},
   "outputs": [
    {
     "name": "stdout",
     "output_type": "stream",
     "text": [
      "Table 'Movie' Before updating record \n",
      "(1, 'Wall Street', 'USA', 2000)\n",
      "1 Record Updated successfully \n",
      "\n",
      "Table After updating record \n",
      "(1, 'Wall Street', 'USA', 2000)\n"
     ]
    }
   ],
   "source": [
    "print(\"Table 'Movie' Before updating record \")\n",
    "sql_select_query = \"\"\"select * from movie where id = %s\"\"\"\n",
    "cursor.execute(sql_select_query, (1, ))\n",
    "record = cursor.fetchone()\n",
    "print(record)\n",
    "\n",
    "# Update single record now\n",
    "sql_update_query = \"\"\"Update movie SET year = %s WHERE id = %s\"\"\"\n",
    "cursor.execute(sql_update_query, (2000, 1))\n",
    "con.commit()\n",
    "count = cursor.rowcount\n",
    "print(count, \"Record Updated successfully \\n\")\n",
    "\n",
    "print(\"Table After updating record \")\n",
    "sql_select_query = \"\"\"select * from movie where id = %s\"\"\"\n",
    "cursor.execute(sql_select_query, (1,))\n",
    "record = cursor.fetchone()\n",
    "print(record)\n"
   ]
  },
  {
   "cell_type": "code",
   "execution_count": null,
   "metadata": {},
   "outputs": [],
   "source": [
    "# print(\"Table Before updating record \")\n",
    "# sql_select_query = \"\"\"select * from users where id = %s\"\"\"\n",
    "# cursor.execute(sql_select_query, (1, ))\n",
    "# record = cursor.fetchone()\n",
    "# print(record)\n",
    "\n",
    "# # Update single record now\n",
    "# sql_update_query = \"\"\"Update users set pwd = %s where id = %s\"\"\"\n",
    "# cursor.execute(sql_update_query, ('769806000', 1))\n",
    "# connection.commit()\n",
    "# count = cursor.rowcount\n",
    "# print(count, \"Record Updated successfully \")\n",
    "\n",
    "# print(\"Table After updating record \")\n",
    "# sql_select_query = \"\"\"select * from users where id = %s\"\"\"\n",
    "# cursor.execute(sql_select_query, (1,))\n",
    "# record = cursor.fetchone()\n",
    "# print(record)\n"
   ]
  },
  {
   "cell_type": "markdown",
   "metadata": {},
   "source": [
    "## Delete Table rows"
   ]
  },
  {
   "cell_type": "code",
   "execution_count": 28,
   "metadata": {},
   "outputs": [
    {
     "name": "stdout",
     "output_type": "stream",
     "text": [
      "0 Record deleted successfully \n"
     ]
    }
   ],
   "source": [
    "# Update single record now\n",
    "sql_delete_query = \"\"\"DELETE FROM person where id = %s\"\"\"\n",
    "cursor.execute(sql_delete_query, (1, ))\n",
    "con.commit()\n",
    "count = cursor.rowcount\n",
    "print(count, \"Record deleted successfully \")"
   ]
  },
  {
   "cell_type": "code",
   "execution_count": 29,
   "metadata": {},
   "outputs": [],
   "source": [
    "# # Update single record now\n",
    "# sql_delete_query = \"\"\"Delete from users where id = %s\"\"\"\n",
    "# cursor.execute(sql_delete_query, (1, ))\n",
    "# connection.commit()\n",
    "# count = cursor.rowcount\n",
    "# print(count, \"Record deleted successfully \")"
   ]
  },
  {
   "cell_type": "markdown",
   "metadata": {},
   "source": [
    "### Extend you \"Movies\" DB \n",
    "\n",
    "Imagine now that we are going to extend our DB with new movies, actors, even with new directors.\n",
    "\n",
    "- We add <b>\"The matrix\"</b> movie which was released in <b>(1999)</b>, and has a new property \"Tagline\" <b>(\"Welcome to the Real World\")</b>.\n",
    "    - <font color='red'> Adding the \"Tagline\" new Property require changing the table schema</font>\n",
    "\n",
    "- We also add 4 new actors (Person):\n",
    "    - \"Keanu Reeves\" who was born in (1964). Note \"born\" property is also new.\n",
    "    - \"Carrie-Anne Moss\" who was born in (1967).\n",
    "    - \"Laurence Fishburne\" who was born in (1960).\n",
    "    - \"Hugo Weaving\" who was born in (1960).\n",
    "    * <font color='red'> Adding the new \"born\" Property require changing the table schema</font>    \n",
    "- Moreover, we add 2 directors (Person) :\n",
    "    - 'Lilly Wachowski', born in (1967)\n",
    "    - 'Lana Wachowski', born in(1965)\n",
    "- For these directors specify one more Label (\"Director\").\n",
    "    - <font color='red'> This new Label Will require \"Denormalization\" Or smothing </font>\n",
    "    \n",
    "- We Create a new <b>RelationType \"DIRECTED\" </b> that goes from the later 3 director nodes to \"the Matrix\" movie node.\n",
    "    - - <font color='red'> New Created Table For Directed relationship </font>"
   ]
  },
  {
   "cell_type": "markdown",
   "metadata": {},
   "source": [
    "#### Adding Tagline column to the movie table requires, altering the table schema"
   ]
  },
  {
   "cell_type": "code",
   "execution_count": 31,
   "metadata": {},
   "outputs": [
    {
     "name": "stdout",
     "output_type": "stream",
     "text": [
      "Error Happend!!\n"
     ]
    }
   ],
   "source": [
    "# Add a new Column to the Schema of movie table\n",
    "sql_addCol_query = \"\"\"ALTER TABLE movie ADD COLUMN tagline text\"\"\"\n",
    "\n",
    "try:\n",
    "    cursor.execute(sql_addCol_query)\n",
    "    con.commit()\n",
    "    print(count, \"Column Added successfully !!\")\n",
    "except:\n",
    "    con.rollback()\n",
    "    print(\"Error Happend!!\")"
   ]
  },
  {
   "cell_type": "code",
   "execution_count": 35,
   "metadata": {},
   "outputs": [
    {
     "name": "stdout",
     "output_type": "stream",
     "text": [
      "1 Record inserted successfully into movie table\n"
     ]
    }
   ],
   "source": [
    "sql = \"INSERT INTO movie  (id,title,country,year,tagline) VALUES(%s,%s,%s,%s,%s)\"\n",
    "\n",
    "theMatrix_Movie_List=(4,\"The Matrix\",\"USA\",1999,\"Hello to the World!\")\n",
    "\n",
    "# execute the INSERT statement\n",
    "cursor.execute(sql,theMatrix_Movie_List)\n",
    "# commit the changes to the database\n",
    "con.commit()\n",
    "\n",
    "count = cursor.rowcount\n",
    "print (count, \"Record inserted successfully into movie table\")"
   ]
  },
  {
   "cell_type": "markdown",
   "metadata": {},
   "source": [
    "#### Adding 'born' column to the person table also requires, altering the table schema"
   ]
  },
  {
   "cell_type": "code",
   "execution_count": 38,
   "metadata": {},
   "outputs": [
    {
     "name": "stdout",
     "output_type": "stream",
     "text": [
      "1 Column Added successfully !!\n"
     ]
    }
   ],
   "source": [
    "# Add a new Column to the Schema of movie table\n",
    "sql_addCol_query = \"\"\"ALTER TABLE person ADD COLUMN born INT\"\"\"\n",
    "\n",
    "try:\n",
    "    cursor.execute(sql_addCol_query)\n",
    "    con.commit()\n",
    "    print(count, \"Column Added successfully !!\")\n",
    "except:\n",
    "    con.rollback()\n",
    "    print(\"Error Happend!!\")"
   ]
  },
  {
   "cell_type": "code",
   "execution_count": 39,
   "metadata": {},
   "outputs": [
    {
     "name": "stdout",
     "output_type": "stream",
     "text": [
      "4 Record inserted successfully into person table\n"
     ]
    }
   ],
   "source": [
    "#Adding 4 More Actors\n",
    "sql = \"INSERT INTO person (id,Name,born) VALUES(%s,%s,%s)\"\n",
    "\n",
    "persons_List=[\n",
    "        (5,'Keanu Reeves', 1964),\n",
    "        (6,'Carrie-Anne Moss',1967),\n",
    "        (7,'Laurence Fishburne',1961),\n",
    "        (8,'Hugo Weaving',1960)]\n",
    "\n",
    "# execute the INSERT statement\n",
    "cursor.executemany(sql,persons_List)\n",
    "# commit the changes to the database\n",
    "con.commit()\n",
    "\n",
    "count = cursor.rowcount\n",
    "print (count, \"Record inserted successfully into person table\")"
   ]
  },
  {
   "cell_type": "code",
   "execution_count": 41,
   "metadata": {},
   "outputs": [
    {
     "name": "stdout",
     "output_type": "stream",
     "text": [
      "2 Record inserted successfully into person table\n"
     ]
    }
   ],
   "source": [
    "# Adding 2 more Directors\n",
    "sql = \"INSERT INTO person (id,Name,born) VALUES(%s,%s,%s)\"\n",
    "\n",
    "persons_List=[\n",
    "        (9,'Lilly Wachowski', 1967),\n",
    "        (10,'Lana Wachowski',1965)]\n",
    "\n",
    "# execute the INSERT statement\n",
    "cursor.executemany(sql,persons_List)\n",
    "# commit the changes to the database\n",
    "con.commit()\n",
    "\n",
    "count = cursor.rowcount\n",
    "print (count, \"Record inserted successfully into person table\")"
   ]
  },
  {
   "cell_type": "markdown",
   "metadata": {},
   "source": [
    "#### Specifying this new Label Will require \"normalization\"\n",
    "\n",
    "I highly suggest modeling this a little more \"normalized\". You are already on the right track by realizing that both \"Directors\" and maybe after that \"Actors\" are the same entity (Person). The trick is that you should model \"roles\", and then model user's roles as well. That makes 3 total tables for this small portion of your model.\n",
    "\n",
    "<img src= 'NormalizationTrick.JPG'>"
   ]
  },
  {
   "cell_type": "code",
   "execution_count": 40,
   "metadata": {},
   "outputs": [
    {
     "name": "stdout",
     "output_type": "stream",
     "text": [
      "Table (Label) created successfully in PostgreSQL \n",
      "Table (Person_Label) created successfully in PostgreSQL \n"
     ]
    }
   ],
   "source": [
    "#Create ROLES Table\n",
    "try:\n",
    "    LabelsTable=\"Label\"\n",
    "    create_Laabeles_Table_query = '''CREATE TABLE '''+ LabelsTable+''' \n",
    "              (id INT  PRIMARY KEY     NOT NULL,\n",
    "               label           TEXT    NOT NULL); '''\n",
    "\n",
    "    cursor.execute(create_Laabeles_Table_query)\n",
    "    con.commit()\n",
    "    print(\"Table (\"+ LabelsTable +\") created successfully in PostgreSQL \")\n",
    "except:\n",
    "    con.rollback()\n",
    "    print(\"Table (\"+ LabelsTable +\") already Existed! \")\n",
    "\n",
    "\n",
    "#Create Roles Table\n",
    "try:\n",
    "    Person_Labels_Table=\"Person_Label\"\n",
    "    create_personLabels_table_query = '''CREATE TABLE '''+ Person_Labels_Table+''' \n",
    "              (personId INT REFERENCES person(id)  ON UPDATE CASCADE ON DELETE CASCADE,\n",
    "               labelId  INT REFERENCES Label(id)   ON UPDATE CASCADE ON DELETE CASCADE,\n",
    "               CONSTRAINT person_label_pkey PRIMARY KEY (personId, labelId)\n",
    "               ); '''\n",
    "\n",
    "    cursor.execute(create_personLabels_table_query)\n",
    "    con.commit()\n",
    "    print(\"Table (\"+ Person_Labels_Table +\") created successfully in PostgreSQL \")\n",
    "except:\n",
    "    con.rollback()\n",
    "    print(\"Table (\"+ Person_Labels_Table +\") already Existed! \")"
   ]
  },
  {
   "cell_type": "code",
   "execution_count": 42,
   "metadata": {},
   "outputs": [
    {
     "name": "stdout",
     "output_type": "stream",
     "text": [
      "2 Record inserted successfully into person table\n"
     ]
    }
   ],
   "source": [
    "# Insert Data in the two new normalized tables \n",
    "labelsInsert = \"INSERT INTO Label (id,label) VALUES(%s,%s)\"\n",
    "label_List=[ (1,'Director'),(2,'Actor') ]\n",
    "\n",
    "Person_labels_Insert = \"INSERT INTO Person_Label (personId,labelId) VALUES(%s,%s)\"\n",
    "Person_labels_List=[(9,1) ,(10,1)]\n",
    "\n",
    "\n",
    "# execute the INSERT statement\n",
    "cursor.executemany(labelsInsert,label_List)\n",
    "cursor.executemany(Person_labels_Insert,Person_labels_List)\n",
    "\n",
    "# commit the changes to the database\n",
    "con.commit()\n"
   ]
  },
  {
   "cell_type": "markdown",
   "metadata": {},
   "source": [
    "#### Show only the Directors using the following SQL command\n",
    "<code>SELECT person.name\n",
    "FROM person JOIN person_label ON person.id=person_label.personid\n",
    "WHERE person_label.labelid=1</code>\n"
   ]
  },
  {
   "cell_type": "code",
   "execution_count": 56,
   "metadata": {},
   "outputs": [
    {
     "name": "stdout",
     "output_type": "stream",
     "text": [
      "Table (Directed) created successfully in PostgreSQL \n"
     ]
    }
   ],
   "source": [
    "# Directed Relationship creation\n",
    "\n",
    "#Create Roles Table\n",
    "try:\n",
    "    directedTable=\"Directed\"\n",
    "    \n",
    "    create_Directedtable_query = '''CREATE TABLE '''+ directedTable+''' \n",
    "              (personId INT REFERENCES person(id)  ON UPDATE CASCADE ON DELETE CASCADE,\n",
    "               movieId  INT REFERENCES movie(id)   ON UPDATE CASCADE ON DELETE CASCADE,\n",
    "               CONSTRAINT person_movie_Dir_pkey PRIMARY KEY (personId, movieId)\n",
    "               ); '''\n",
    "\n",
    "    cursor.execute(create_Directedtable_query)\n",
    "    con.commit()\n",
    "    print(\"Table (\"+ directedTable +\") created successfully in PostgreSQL \")\n",
    "except:\n",
    "    con.rollback()\n",
    "    print(\"Table (\"+ directedTable +\") already Existed! \")\n"
   ]
  },
  {
   "cell_type": "code",
   "execution_count": 57,
   "metadata": {},
   "outputs": [
    {
     "name": "stdout",
     "output_type": "stream",
     "text": [
      "2 Record inserted successfully into Roles table\n"
     ]
    }
   ],
   "source": [
    "DirectedSql = \"INSERT INTO directed  (personId,movieId) VALUES(%s,%s)\"\n",
    "\n",
    "directed_List=[(9,4), (10,4)]\n",
    "try:\n",
    "    \n",
    "    # execute the INSERT statement\n",
    "    cursor.executemany(DirectedSql,directed_List)\n",
    "    # commit the changes to the database\n",
    "    con.commit()\n",
    "except (Exception, psycopg2.Error) as error :\n",
    "    con.rollback()\n",
    "    print (\"Error while connecting to PostgreSQL\", error)\n",
    "    \n",
    "finally:\n",
    "    \n",
    "    count = cursor.rowcount\n",
    "    print (count, \"Record inserted successfully into Roles table\")"
   ]
  },
  {
   "cell_type": "markdown",
   "metadata": {},
   "source": [
    "### People Who Directed The matrix\n",
    "<code>SELECT person.name  FROM \n",
    "movie JOIN Directed on movie.id=Directed.movieId\n",
    "JOIN Person ON person.id=directed.personId\n",
    "WHERE movie.title='The Matrix'</code>"
   ]
  },
  {
   "cell_type": "markdown",
   "metadata": {},
   "source": [
    "### Excercise: \n",
    "\n",
    "The DB  centered arround a country club, with a set of members, facilities such as tennis courts, and booking history for those facilities. Amongst other things, the club wants to understand how they can use their information to analyse facility usage/demand.\n",
    "\n",
    "<img src=\"DBSchema.JPG\">"
   ]
  },
  {
   "cell_type": "markdown",
   "metadata": {},
   "source": [
    "#### use the attached  <font color='green'> \"clubdata.sql\" </font> script to create DB , tables, and insert data in the created tables.\n",
    "- login to your postgres command line as shown above.\n",
    "- use the command \\i 'your/path/clubdata.sql' to run the script."
   ]
  },
  {
   "cell_type": "markdown",
   "metadata": {},
   "source": [
    "#### Use SQL commands using python like in this jupyter note book, or use \"PgAdmin\" to answer the following:\n",
    "*  get a list of all of the facilities and their cost to members.\n",
    "*  How can you produce a list of facilities that charge a fee to members (membercost>0)?\n",
    "*  How can you produce a list of all facilities with the word 'Tennis' in their name?\n",
    "*  How can you retrieve the details of facilities with ID 1 and 5? <font color=red>Try to do it without using the OR operator.</font>"
   ]
  },
  {
   "cell_type": "markdown",
   "metadata": {},
   "source": [
    "* How can you produce a list of facilities, with each labelled as 'cheap' or 'expensive' depending on if their monthly maintenance cost is more than $100? Return the name and monthly maintenance of the facilities in question. "
   ]
  },
  {
   "cell_type": "markdown",
   "metadata": {},
   "source": [
    "<code> select name, \n",
    "\tcase when (monthlymaintenance > 100) then\n",
    "\t\t'expensive'\n",
    "\telse\n",
    "\t\t'cheap'\n",
    "\tend as cost\n",
    "\tfrom cd.facilities; \n",
    "    </code>"
   ]
  },
  {
   "cell_type": "markdown",
   "metadata": {},
   "source": [
    "* get the signup date of your last member. How can you retrieve this information? "
   ]
  },
  {
   "cell_type": "markdown",
   "metadata": {},
   "source": [
    "<code> \n",
    "select max(joindate) as latest\n",
    "\tfrom cd.members;   \n",
    "    </code>"
   ]
  },
  {
   "cell_type": "markdown",
   "metadata": {},
   "source": [
    " #### Retrieve the start times of members' bookings\n",
    " * Get a list of the start times for bookings by members named 'David Farrell'? "
   ]
  },
  {
   "cell_type": "markdown",
   "metadata": {},
   "source": [
    "<code> \n",
    "select bks.starttime \n",
    "\tfrom \n",
    "\t\tcd.bookings bks\n",
    "\t\tinner join cd.members mems\n",
    "\t\t\ton mems.memid = bks.memid\n",
    "\twhere \n",
    "\t\tmems.firstname='David' \n",
    "\t\tand mems.surname='Farrell'; \n",
    "        </code>"
   ]
  },
  {
   "cell_type": "markdown",
   "metadata": {},
   "source": [
    "* The club is adding a new facility - a spa. We need to add it into the facilities table. Use the following values:\n",
    "\n",
    "    facid: 9, Name: 'Spa', membercost: 20, guestcost: 30, initialoutlay: 100000, monthlymaintenance: 800."
   ]
  },
  {
   "cell_type": "markdown",
   "metadata": {},
   "source": [
    "<code>insert into cd.facilities\n",
    "    (facid, name, membercost, guestcost, initialoutlay, monthlymaintenance)\n",
    "    values (9, 'Spa', 20, 30, 100000, 800); </code>"
   ]
  },
  {
   "cell_type": "markdown",
   "metadata": {},
   "source": [
    "* We made a mistake when entering the data for the \"Spa\" facility. \n",
    "    - The \"initial outlay\" should be 20000 rather than 100000: \n",
    "    - you need to alter the data to fix the error.\n",
    "    \n"
   ]
  },
  {
   "cell_type": "markdown",
   "metadata": {},
   "source": [
    "<code>update cd.facilities\n",
    "    set initialoutlay = 20000\n",
    "    where facid = 9;</code>"
   ]
  },
  {
   "cell_type": "markdown",
   "metadata": {},
   "source": [
    "* List the total slots booked per facility "
   ]
  },
  {
   "cell_type": "markdown",
   "metadata": {},
   "source": [
    "<code>select facid, sum(slots) as \"Total Slots\"\n",
    "from cd.bookings\n",
    "group by facid\n",
    "order by facid;   </code>"
   ]
  },
  {
   "cell_type": "markdown",
   "metadata": {},
   "source": [
    "####  Delete all bookings \n",
    "*  As part of a clearout of our database, we want to delete all bookings from the cd.bookings table. How can we accomplish this? "
   ]
  },
  {
   "cell_type": "markdown",
   "metadata": {},
   "source": [
    "<code> delete from cd.bookings;</code>\n",
    "\n"
   ]
  }
 ],
 "metadata": {
  "kernelspec": {
   "display_name": "Python 3",
   "language": "python",
   "name": "python3"
  },
  "language_info": {
   "codemirror_mode": {
    "name": "ipython",
    "version": 3
   },
   "file_extension": ".py",
   "mimetype": "text/x-python",
   "name": "python",
   "nbconvert_exporter": "python",
   "pygments_lexer": "ipython3",
   "version": "3.7.3"
  }
 },
 "nbformat": 4,
 "nbformat_minor": 2
}
